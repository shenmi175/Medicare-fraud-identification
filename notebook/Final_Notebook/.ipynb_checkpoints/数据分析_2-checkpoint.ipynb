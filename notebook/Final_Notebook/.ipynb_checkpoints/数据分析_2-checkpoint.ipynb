{
 "cells": [
  {
   "cell_type": "code",
   "execution_count": 1,
   "id": "316d77ca-b666-4d2b-8049-d52a304e590a",
   "metadata": {
    "ExecuteTime": {
     "end_time": "2024-04-11T07:14:44.388403900Z",
     "start_time": "2024-04-11T07:14:44.078648300Z"
    }
   },
   "outputs": [],
   "source": [
    "import pandas as pd\n",
    "import numpy as np\n",
    "from sklearn.model_selection import train_test_split\n",
    "import matplotlib.pyplot as plt\n",
    "import seaborn as sns\n",
    "from mpl_toolkits.mplot3d import Axes3D\n",
    "from ipywidgets import interact, Select\n",
    "from ipywidgets import interactive\n",
    "import plotly.express as px\n",
    "from ipywidgets import interact, Dropdown\n",
    "rc = {'font.sans-serif': 'SimHei',\n",
    "      'axes.unicode_minus': False}\n",
    "sns.set(context='notebook', style='ticks', rc=rc)\n",
    "\n",
    "from pylab import mpl \n",
    "plt.rcParams['font.sans-serif'] = ['Microsoft YaHei']  # 设置中文字体\n",
    "plt.rcParams['axes.unicode_minus'] = False  # 为了显示负号正常\n",
    "\n",
    "import warnings\n",
    "warnings.filterwarnings(\"ignore\")"
   ]
  },
  {
   "cell_type": "code",
   "execution_count": 2,
   "id": "e38041a2-806c-40cd-b2e1-3f56dee9a2d8",
   "metadata": {
    "scrolled": true,
    "ExecuteTime": {
     "end_time": "2024-04-11T07:14:45.007806Z",
     "start_time": "2024-04-11T07:14:44.391418100Z"
    }
   },
   "outputs": [
    {
     "name": "stdout",
     "output_type": "stream",
     "text": [
      "<class 'pandas.core.frame.DataFrame'>\n",
      "RangeIndex: 16000 entries, 0 to 15999\n",
      "Data columns (total 81 columns):\n",
      " #   Column             Non-Null Count  Dtype  \n",
      "---  ------             --------------  -----  \n",
      " 0   一天去两家医院的天数         16000 non-null  int64  \n",
      " 1   就诊的月数              16000 non-null  int64  \n",
      " 2   月就诊天数_MAX          16000 non-null  int64  \n",
      " 3   月就诊天数_AVG          16000 non-null  float64\n",
      " 4   月就诊医院数_MAX         16000 non-null  int64  \n",
      " 5   月就诊医院数_AVG         16000 non-null  float64\n",
      " 6   就诊次数_SUM           16000 non-null  int64  \n",
      " 7   月就诊次数_MAX          16000 non-null  int64  \n",
      " 8   月就诊次数_AVG          16000 non-null  float64\n",
      " 9   月统筹金额_MAX          16000 non-null  float64\n",
      " 10  月统筹金额_AVG          16000 non-null  float64\n",
      " 11  月药品金额_MAX          16000 non-null  float64\n",
      " 12  月药品金额_AVG          16000 non-null  float64\n",
      " 13  医院_就诊天数_MAX        16000 non-null  int64  \n",
      " 14  医院_就诊天数_AVG        16000 non-null  float64\n",
      " 15  医院_统筹金_MAX         16000 non-null  float64\n",
      " 16  医院_统筹金_AVG         16000 non-null  float64\n",
      " 17  医院_药品_MAX          16000 non-null  float64\n",
      " 18  医院_药品_AVG          16000 non-null  float64\n",
      " 19  医院编码_NN            16000 non-null  int64  \n",
      " 20  顺序号_NN             16000 non-null  int64  \n",
      " 21  交易时间DD_NN          16000 non-null  int64  \n",
      " 22  交易时间YYYY_NN        16000 non-null  int64  \n",
      " 23  交易时间YYYYMM_NN      16000 non-null  int64  \n",
      " 24  住院天数_SUM           16000 non-null  int64  \n",
      " 25  个人账户金额_SUM         16000 non-null  float64\n",
      " 26  统筹支付金额_SUM         16000 non-null  float64\n",
      " 27  ALL_SUM            16000 non-null  float64\n",
      " 28  可用账户报销金额_SUM       16000 non-null  float64\n",
      " 29  药品费发生金额_SUM        16000 non-null  float64\n",
      " 30  药品费自费金额_SUM        16000 non-null  float64\n",
      " 31  药品费申报金额_SUM        16000 non-null  float64\n",
      " 32  贵重药品发生金额_SUM       16000 non-null  float64\n",
      " 33  中成药费发生金额_SUM       16000 non-null  float64\n",
      " 34  中草药费发生金额_SUM       16000 non-null  float64\n",
      " 35  检查费发生金额_SUM        16000 non-null  float64\n",
      " 36  检查费自费金额_SUM        16000 non-null  float64\n",
      " 37  检查费申报金额_SUM        16000 non-null  float64\n",
      " 38  贵重检查费金额_SUM        16000 non-null  int64  \n",
      " 39  治疗费发生金额_SUM        16000 non-null  float64\n",
      " 40  治疗费自费金额_SUM        16000 non-null  float64\n",
      " 41  治疗费申报金额_SUM        16000 non-null  float64\n",
      " 42  手术费发生金额_SUM        16000 non-null  int64  \n",
      " 43  手术费自费金额_SUM        16000 non-null  int64  \n",
      " 44  手术费申报金额_SUM        16000 non-null  float64\n",
      " 45  床位费发生金额_SUM        16000 non-null  float64\n",
      " 46  床位费申报金额_SUM        16000 non-null  float64\n",
      " 47  医用材料发生金额_SUM       16000 non-null  float64\n",
      " 48  高价材料发生金额_SUM       16000 non-null  float64\n",
      " 49  医用材料费自费金额_SUM      16000 non-null  float64\n",
      " 50  成分输血申报金额_SUM       16000 non-null  int64  \n",
      " 51  其它发生金额_SUM         16000 non-null  float64\n",
      " 52  其它申报金额_SUM         16000 non-null  int64  \n",
      " 53  一次性医用材料申报金额_SUM    16000 non-null  float64\n",
      " 54  起付线标准金额_MAX        16000 non-null  float64\n",
      " 55  起付标准以上自负比例金额_SUM   16000 non-null  float64\n",
      " 56  医疗救助个人按比例负担金额_SUM  16000 non-null  float64\n",
      " 57  最高限额以上金额_SUM       16000 non-null  float64\n",
      " 58  基本统筹基金支付金额_SUM     16000 non-null  float64\n",
      " 59  公务员医疗补助基金支付金额_SUM  16000 non-null  float64\n",
      " 60  城乡救助补助金额_SUM       16000 non-null  float64\n",
      " 61  基本个人账户支付_SUM       16000 non-null  float64\n",
      " 62  非账户支付金额_SUM        16000 non-null  float64\n",
      " 63  本次审批金额_SUM         16000 non-null  float64\n",
      " 64  补助审批金额_SUM         16000 non-null  float64\n",
      " 65  医疗救助医院申请_SUM       16000 non-null  float64\n",
      " 66  残疾军人补助_SUM         16000 non-null  float64\n",
      " 67  民政救助补助_SUM         16000 non-null  float64\n",
      " 68  城乡优抚补助_SUM         16000 non-null  float64\n",
      " 69  出院诊断病种名称_NN        16000 non-null  int64  \n",
      " 70  出院诊断LENTH_MAX      16000 non-null  float64\n",
      " 71  药品在总金额中的占比         16000 non-null  float64\n",
      " 72  个人支付的药品占比          16000 non-null  float64\n",
      " 73  检查总费用在总金额占比        16000 non-null  float64\n",
      " 74  个人支付检查费用占比         16000 non-null  float64\n",
      " 75  治疗费用在总金额占比         16000 non-null  float64\n",
      " 76  个人支付治疗费用占比         16000 non-null  float64\n",
      " 77  BZ_民政救助            16000 non-null  int64  \n",
      " 78  BZ_城乡优抚            16000 non-null  int64  \n",
      " 79  是否挂号               16000 non-null  int64  \n",
      " 80  RES                16000 non-null  int64  \n",
      "dtypes: float64(58), int64(23)\n",
      "memory usage: 9.9 MB\n"
     ]
    }
   ],
   "source": [
    "# 加载数据\n",
    "data = pd.read_csv(\"../../data/process_data.csv\")\n",
    "data = data.drop('个人编码',axis=1)\n",
    "data.info()\n",
    "\n",
    "\n",
    "# 计算斯皮尔曼等级相关系数\n",
    "spearman_corr = data.corr(method='spearman')"
   ]
  },
  {
   "cell_type": "markdown",
   "id": "9bd7fbc0-0113-4c5e-b142-0267fb376bda",
   "metadata": {},
   "source": [
    "## 原始数据散点图"
   ]
  },
  {
   "cell_type": "code",
   "execution_count": 3,
   "id": "18a24d17-4d68-4b5f-95ce-e9dd26c04b4d",
   "metadata": {
    "ExecuteTime": {
     "end_time": "2024-04-11T07:14:45.047324800Z",
     "start_time": "2024-04-11T07:14:45.010805400Z"
    }
   },
   "outputs": [],
   "source": [
    "# 定义一个函数来绘制散点图\n",
    "def interactive_scatter(x, y, z=None):\n",
    "    if z is None:\n",
    "        fig = px.scatter(data, x=x, y=y, color='RES')\n",
    "    else:\n",
    "        # fig = px.scatter_3d(data, x=x, y=y, z=z, color='RES')\n",
    "        fig = px.scatter_3d(data, x=x, y=y, z=z, color='RES', width=1000, height=600)\n",
    "    \n",
    "    fig.show()\n",
    "\n",
    "    # 检查所选特征间的相关性\n",
    "    if z is None:\n",
    "        corr_value = spearman_corr.loc[x, y]\n",
    "        if abs(corr_value) > 0.85:\n",
    "            print(f\"注意：所选特征 '{x}' 和 '{y}' 之间的相关性很高 (相关系数: {corr_value:.2f}).\")\n",
    "    else:\n",
    "        corr_xy = spearman_corr.loc[x, y]\n",
    "        corr_xz = spearman_corr.loc[x, z]\n",
    "        corr_yz = spearman_corr.loc[y, z]\n",
    "        if abs(corr_xy) > 0.85:\n",
    "            print(f\"注意：特征 '{x}' 和 '{y}' 之间的相关性很高 (相关系数: {corr_xy:.2f}).\")\n",
    "        if abs(corr_xz) > 0.85:\n",
    "            print(f\"注意：特征 '{x}' 和 '{z}' 之间的相关性很高 (相关系数: {corr_xz:.2f}).\")\n",
    "        if abs(corr_yz) > 0.85:\n",
    "            print(f\"注意：特征 '{y}' 和 '{z}' 之间的相关性很高 (相关系数: {corr_yz:.2f}).\")\n",
    "\n",
    "\n",
    "\n",
    "# 创建下拉框\n",
    "dropdown_x = Dropdown(options=data.columns, description='X轴')\n",
    "dropdown_y = Dropdown(options=data.columns, description='Y轴')\n",
    "dropdown_z = Dropdown(options=[None] + list(data.columns), description='Z轴', value=None)"
   ]
  },
  {
   "cell_type": "code",
   "execution_count": null,
   "id": "587207c9-f475-472d-a0a0-46cb90d2a59b",
   "metadata": {
    "is_executing": true,
    "ExecuteTime": {
     "start_time": "2024-04-11T07:14:45.039320400Z"
    }
   },
   "outputs": [],
   "source": [
    "# 使用交互式控件\n",
    "interact(interactive_scatter, x=dropdown_x, y=dropdown_y, z=dropdown_z)"
   ]
  },
  {
   "cell_type": "markdown",
   "id": "f86f388a-4f07-4886-a643-aada99d34902",
   "metadata": {},
   "source": [
    "## PCA降维\n"
   ]
  },
  {
   "cell_type": "code",
   "execution_count": null,
   "id": "cccd4cb7-0b16-4144-8883-bd94a9c2db0d",
   "metadata": {
    "is_executing": true
   },
   "outputs": [],
   "source": [
    "from sklearn.decomposition import PCA\n",
    "from sklearn.preprocessing import StandardScaler\n",
    "import plotly.express as px\n",
    "\n",
    "# 提取特征和目标变量 \"RES\n",
    "features = data.drop('RES', axis=1)\n",
    "target = data['RES']\n",
    "\n",
    "# 功能标准化\n",
    "scaler = StandardScaler()\n",
    "features_scaled = scaler.fit_transform(features)\n",
    "\n",
    "#应用 PCA 将维度减少到 3 个\n",
    "pca = PCA(n_components=3)\n",
    "components = pca.fit_transform(features_scaled)\n",
    "\n",
    "# 为 3 个主成分创建数据帧\n",
    "components_df = pd.DataFrame(data = components, columns = ['PC1', 'PC2', 'PC3'])\n",
    "components_df['RES'] = target\n",
    "\n",
    "# 使用 plotly 绘制三维散点图\n",
    "fig = px.scatter_3d(components_df, x='PC1', y='PC2', z='PC3', color='RES',\n",
    "                    title=\"3D Scatter Plot of the Principal Components\",\n",
    "                    labels={'RES': 'Class'},width=800,height=800)\n",
    "fig.show()\n"
   ]
  },
  {
   "cell_type": "markdown",
   "id": "aca9a847-8785-4f28-b8ed-1ff045f8c3b8",
   "metadata": {},
   "source": [
    "## 删除异常值之后PCA"
   ]
  },
  {
   "cell_type": "code",
   "execution_count": null,
   "id": "78679669-323a-4e67-b2c2-b85690182cd4",
   "metadata": {
    "is_executing": true
   },
   "outputs": [],
   "source": [
    "# 选择仅数值类型的列进行PCA\n",
    "numeric_data = data.select_dtypes(include=[float, int])\n",
    "\n",
    "# 标准化数据 - 对PCA很重要\n",
    "scaler = StandardScaler()\n",
    "scaled_data = scaler.fit_transform(numeric_data)\n",
    "\n",
    "# 识别并移除类别0（RES = 0）中的异常值 - 使用四分位数方法\n",
    "category_0_df = pd.DataFrame(scaled_data[data['RES'] == 0], columns=numeric_data.columns)\n",
    "\n",
    "# 计算四分位数和IQR\n",
    "Q1 = category_0_df.quantile(0.25)\n",
    "Q3 = category_0_df.quantile(0.75)\n",
    "IQR = Q3 - Q1\n",
    "\n",
    "# 使用IQR识别异常值\n",
    "outlier_rows_iqr = ((category_0_df < (Q1 - 1.5 * IQR)) | (category_0_df > (Q3 + 1.5 * IQR))).any(axis=1)\n",
    "cleaned_category_0_data_iqr = category_0_df[~outlier_rows_iqr]\n",
    "\n",
    "# 使用PCA将维度降至3\n",
    "pca = PCA(n_components=3)\n",
    "reduced_data_0_iqr = pca.fit_transform(cleaned_category_0_data_iqr)\n",
    "reduced_data_1_iqr = pca.transform(scaled_data[data['RES'] == 1])\n",
    "\n",
    "# 准备绘图数据\n",
    "reduced_data_iqr = np.vstack((reduced_data_0_iqr, reduced_data_1_iqr))\n",
    "res_labels_iqr = np.hstack((np.zeros(reduced_data_0_iqr.shape[0]), np.ones(reduced_data_1_iqr.shape[0])))\n",
    "\n",
    "# 绘制3D散点图\n",
    "fig = px.scatter_3d(\n",
    "    x=reduced_data_iqr[:, 0], y=reduced_data_iqr[:, 1], z=reduced_data_iqr[:, 2], color=res_labels_iqr, labels={'color': 'RES'},\n",
    "    width=800,height=800\n",
    ")\n",
    "fig.show()\n"
   ]
  },
  {
   "cell_type": "markdown",
   "id": "93e8a64f-6e86-4331-9727-daacef5caf0c",
   "metadata": {},
   "source": [
    "## 特征数据区分度"
   ]
  },
  {
   "cell_type": "markdown",
   "id": "a8de7ae8-c99d-4b96-9c5e-a7fba503128b",
   "metadata": {},
   "source": [
    "### 多项式回归决策边界"
   ]
  },
  {
   "cell_type": "code",
   "execution_count": null,
   "id": "9fe4d190-6e44-439d-bf60-c6c3886539bf",
   "metadata": {
    "is_executing": true
   },
   "outputs": [],
   "source": [
    "import pandas as pd\n",
    "import numpy as np\n",
    "import plotly.express as px\n",
    "import plotly.graph_objects as go\n",
    "from sklearn.preprocessing import StandardScaler, PolynomialFeatures\n",
    "from sklearn.linear_model import LinearRegression\n",
    "import ipywidgets as widgets\n",
    "from IPython.display import display"
   ]
  },
  {
   "cell_type": "code",
   "execution_count": null,
   "id": "403f4317-9959-4975-b68e-0f721428348a",
   "metadata": {
    "is_executing": true
   },
   "outputs": [],
   "source": [
    "# 创建两个下拉框进行特征选择\n",
    "feature_list = data.columns.drop(['RES'])  # 去除 '个人编码' 和 'RES'\n",
    "dropdown_feature_1 = widgets.Dropdown(options=feature_list, description='Feature 1:')\n",
    "dropdown_feature_2 = widgets.Dropdown(options=feature_list, description='Feature 2:')\n",
    "\n",
    "# 创建一个滑动条用于选择多项式的阶数\n",
    "degree_slider = widgets.IntSlider(value=2, min=1, max=10, step=1, description='Degree:')\n",
    "# 多项式回归函数\n",
    "def polynomial_regression(feature_1, feature_2, degree):\n",
    "    # 选择的特征\n",
    "    X = data[[feature_1, feature_2]].values\n",
    "    y = data['RES'].values\n",
    "\n",
    "    # 初始化标准化器\n",
    "    scaler = StandardScaler()\n",
    "    \n",
    "    # 对原始特征进行标准化\n",
    "    X_scaled = scaler.fit_transform(X)\n",
    "    \n",
    "    # 多项式特征转换\n",
    "    poly = PolynomialFeatures(degree=degree)\n",
    "    X_poly = poly.fit_transform(X_scaled)\n",
    "    \n",
    "    # 训练模型\n",
    "    model = LinearRegression(\n",
    "            positive=True,\n",
    "            # alpha=0.5,  # Regularization strength\n",
    "            # l1_ratio=0.5,  # Weight between L1 and L2 (0 for L2, 1 for L1)\n",
    "            # penalty='elasticnet',\n",
    "    )\n",
    "    model.fit(X_poly, y)\n",
    "\n",
    "    # 创建网格以绘制决策边界\n",
    "    x_range = np.linspace(X[:, 0].min(), X[:, 0].max(), 100)\n",
    "    y_range = np.linspace(X[:, 1].min(), X[:, 1].max(), 100)\n",
    "    xx, yy = np.meshgrid(x_range, y_range)\n",
    "    grid_X = np.c_[xx.ravel(), yy.ravel()]\n",
    "    grid_X_scaled = scaler.transform(grid_X)  # 应用相同的标准化\n",
    "    grid_X_poly = poly.transform(grid_X_scaled)  # 应用相同的多项式特征转换\n",
    "    grid_y = model.predict(grid_X_poly).reshape(xx.shape)\n",
    "\n",
    "    # 绘制散点图\n",
    "    fig = px.scatter(data, x=feature_1, y=feature_2, color='RES')\n",
    "\n",
    "    # 绘制决策边界\n",
    "    fig.add_trace(go.Contour(x=x_range, y=y_range, z=grid_y, showscale=False, line_width=0))\n",
    "\n",
    "    fig.update_layout(title='Polynomial Regression Decision Boundary', \n",
    "                      xaxis_title=feature_1, \n",
    "                      yaxis_title=feature_2)\n",
    "    fig.show()\n",
    "\n",
    "\n",
    "# 交互式控件\n",
    "interactive_plot = widgets.interactive(polynomial_regression, \n",
    "                                       feature_1=dropdown_feature_1, \n",
    "                                       feature_2=dropdown_feature_2,\n",
    "                                       degree=degree_slider)\n"
   ]
  },
  {
   "cell_type": "code",
   "execution_count": null,
   "id": "fe762040-c3e5-47c6-937d-9a0b193c7ed2",
   "metadata": {
    "is_executing": true
   },
   "outputs": [],
   "source": [
    "display(interactive_plot)"
   ]
  },
  {
   "cell_type": "markdown",
   "id": "f7fcc63a-2834-4048-a3d1-dcc52a96e7d0",
   "metadata": {},
   "source": [
    "### 训练集数据分布"
   ]
  },
  {
   "cell_type": "code",
   "execution_count": null,
   "id": "45c1559b-5256-4e39-989c-3e0f50ea0601",
   "metadata": {
    "is_executing": true
   },
   "outputs": [],
   "source": [
    "X = data.drop('RES',axis=1)\n",
    "y = data['RES']\n",
    "\n",
    "# 使用索引进行切割\n",
    "train_idx, test_idx = train_test_split(X.index, test_size=0.3, random_state=123)\n",
    "\n",
    "# 根据索引获取切割后的 DataFrame\n",
    "X_train = X.loc[train_idx]\n",
    "X_test = X.loc[test_idx]\n",
    "y_train = y.loc[train_idx]\n",
    "y_test = y.loc[test_idx]\n",
    "train_data = pd.concat([X_train, y_train], axis=1)\n",
    "\n",
    "# 定义一个函数来绘制散点图\n",
    "def interactive_scatter(x, y, z=None):\n",
    "    if z is None:\n",
    "        fig = px.scatter(train_data, x=x, y=y, color='RES')\n",
    "    else:\n",
    "        # fig = px.scatter_3d(data, x=x, y=y, z=z, color='RES')\n",
    "        fig = px.scatter_3d(train_data, x=x, y=y, z=z, color='RES', width=1000, height=600)\n",
    "    \n",
    "    fig.show()\n",
    "\n",
    "    # 检查所选特征间的相关性\n",
    "    if z is None:\n",
    "        corr_value = spearman_corr.loc[x, y]\n",
    "        if abs(corr_value) > 0.85:\n",
    "            print(f\"注意：所选特征 '{x}' 和 '{y}' 之间的相关性很高 (相关系数: {corr_value:.2f}).\")\n",
    "    else:\n",
    "        corr_xy = spearman_corr.loc[x, y]\n",
    "        corr_xz = spearman_corr.loc[x, z]\n",
    "        corr_yz = spearman_corr.loc[y, z]\n",
    "        if abs(corr_xy) > 0.85:\n",
    "            print(f\"注意：特征 '{x}' 和 '{y}' 之间的相关性很高 (相关系数: {corr_xy:.2f}).\")\n",
    "        if abs(corr_xz) > 0.85:\n",
    "            print(f\"注意：特征 '{x}' 和 '{z}' 之间的相关性很高 (相关系数: {corr_xz:.2f}).\")\n",
    "        if abs(corr_yz) > 0.85:\n",
    "            print(f\"注意：特征 '{y}' 和 '{z}' 之间的相关性很高 (相关系数: {corr_yz:.2f}).\")\n",
    "\n",
    "\n",
    "\n",
    "# 创建下拉框\n",
    "dropdown_x = Dropdown(options=data.columns, description='X轴')\n",
    "dropdown_y = Dropdown(options=data.columns, description='Y轴')\n",
    "dropdown_z = Dropdown(options=[None] + list(data.columns), description='Z轴', value=None)\n",
    "\n",
    "\n",
    "# 使用交互式控件\n",
    "interact(interactive_scatter, x=dropdown_x, y=dropdown_y, z=dropdown_z)\n",
    "\n"
   ]
  },
  {
   "cell_type": "markdown",
   "id": "91bc856e-ea9d-412c-b8e9-c0485887511f",
   "metadata": {},
   "source": [
    "## 测试集数据分布"
   ]
  },
  {
   "cell_type": "code",
   "execution_count": null,
   "id": "e64d60ca-8a74-46ae-b189-31e25c7f6293",
   "metadata": {
    "is_executing": true
   },
   "outputs": [],
   "source": [
    "from sklearn.model_selection import train_test_split\n",
    "\n",
    "X = data.drop('RES',axis=1)\n",
    "y = data['RES']\n",
    "\n",
    "# 使用索引进行切割\n",
    "train_idx, test_idx = train_test_split(X.index, test_size=0.3, random_state=123)\n",
    "\n",
    "# 根据索引获取切割后的 DataFrame\n",
    "X_train = X.loc[train_idx]\n",
    "X_test = X.loc[test_idx]\n",
    "y_train = y.loc[train_idx]\n",
    "y_test = y.loc[test_idx]\n",
    "test_data = pd.concat([X_test, y_test], axis=1)\n",
    "\n",
    "# 定义一个函数来绘制散点图\n",
    "def interactive_scatter(x, y, z=None):\n",
    "    if z is None:\n",
    "        fig = px.scatter(test_data, x=x, y=y, color='RES')\n",
    "    else:\n",
    "        # fig = px.scatter_3d(data, x=x, y=y, z=z, color='RES')\n",
    "        fig = px.scatter_3d(test_data, x=x, y=y, z=z, color='RES', width=1000, height=600)\n",
    "    \n",
    "    fig.show()\n",
    "\n",
    "    # 检查所选特征间的相关性\n",
    "    if z is None:\n",
    "        corr_value = spearman_corr.loc[x, y]\n",
    "        if abs(corr_value) > 0.85:\n",
    "            print(f\"注意：所选特征 '{x}' 和 '{y}' 之间的相关性很高 (相关系数: {corr_value:.2f}).\")\n",
    "    else:\n",
    "        corr_xy = spearman_corr.loc[x, y]\n",
    "        corr_xz = spearman_corr.loc[x, z]\n",
    "        corr_yz = spearman_corr.loc[y, z]\n",
    "        if abs(corr_xy) > 0.85:\n",
    "            print(f\"注意：特征 '{x}' 和 '{y}' 之间的相关性很高 (相关系数: {corr_xy:.2f}).\")\n",
    "        if abs(corr_xz) > 0.85:\n",
    "            print(f\"注意：特征 '{x}' 和 '{z}' 之间的相关性很高 (相关系数: {corr_xz:.2f}).\")\n",
    "        if abs(corr_yz) > 0.85:\n",
    "            print(f\"注意：特征 '{y}' 和 '{z}' 之间的相关性很高 (相关系数: {corr_yz:.2f}).\")\n",
    "\n",
    "\n",
    "\n",
    "# 创建下拉框\n",
    "dropdown_x = Dropdown(options=data.columns, description='X轴')\n",
    "dropdown_y = Dropdown(options=data.columns, description='Y轴')\n",
    "dropdown_z = Dropdown(options=[None] + list(data.columns), description='Z轴', value=None)\n",
    "\n",
    "\n",
    "# 使用交互式控件\n",
    "interact(interactive_scatter, x=dropdown_x, y=dropdown_y, z=dropdown_z)"
   ]
  },
  {
   "cell_type": "code",
   "execution_count": null,
   "id": "599f6703-321a-4a90-b87d-61663a7d976d",
   "metadata": {
    "is_executing": true
   },
   "outputs": [],
   "source": []
  }
 ],
 "metadata": {
  "kernelspec": {
   "display_name": "Python 3 (ipykernel)",
   "language": "python",
   "name": "python3"
  },
  "language_info": {
   "codemirror_mode": {
    "name": "ipython",
    "version": 3
   },
   "file_extension": ".py",
   "mimetype": "text/x-python",
   "name": "python",
   "nbconvert_exporter": "python",
   "pygments_lexer": "ipython3",
   "version": "3.11.7"
  }
 },
 "nbformat": 4,
 "nbformat_minor": 5
}
