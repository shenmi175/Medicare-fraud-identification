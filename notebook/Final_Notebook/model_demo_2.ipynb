{
 "cells": [
  {
   "cell_type": "code",
   "execution_count": 1,
   "id": "4f0260d0-317b-4ea9-990e-19da3dcd1ff0",
   "metadata": {},
   "outputs": [],
   "source": [
    "### 使用手动欠采样、少数类加权、代价敏感学习"
   ]
  },
  {
   "cell_type": "code",
   "execution_count": 25,
   "id": "fa6d0497-2847-4622-a1a0-0f05fbde24c8",
   "metadata": {},
   "outputs": [],
   "source": [
    "import pandas as pd\n",
    "import numpy as np\n",
    "from sklearn.model_selection import train_test_split\n",
    "from sklearn.ensemble import RandomForestClassifier, GradientBoostingClassifier\n",
    "from lightgbm import LGBMClassifier\n",
    "from sklearn.linear_model import LogisticRegression\n",
    "from sklearn.metrics import classification_report, roc_auc_score\n",
    "from xgboost import XGBClassifier\n",
    "from sklearn.preprocessing import StandardScaler\n",
    "from sklearn.pipeline import Pipeline,make_pipeline\n",
    "from sklearn.tree import DecisionTreeClassifier\n",
    "from sklearn.neural_network import MLPClassifier\n",
    "from sklearn.ensemble import IsolationForest\n",
    "\n",
    "from imblearn.under_sampling import RandomUnderSampler\n",
    "from sklearn.utils import class_weight"
   ]
  },
  {
   "cell_type": "code",
   "execution_count": 26,
   "id": "c173a5a1-5891-4b98-b863-98db103a978b",
   "metadata": {},
   "outputs": [],
   "source": [
    "data = pd.read_csv(\"../../data/process_data.csv\")\n",
    "# data = pd.read_csv(\"E:\\竞赛\\服创赛-A08\\data\\特征集\\\\new_features.csv\")\n",
    "\n",
    "if 'Unnamed: 0' in data.columns:\n",
    "    data = data.drop(['Unnamed: 0','个人编码'], axis=1)\n",
    "else:\n",
    "    data = data.drop('个人编码', axis=1)"
   ]
  },
  {
   "cell_type": "code",
   "execution_count": 27,
   "id": "6649983d-b7bd-47cc-b647-c0a487307dad",
   "metadata": {
    "scrolled": true
   },
   "outputs": [
    {
     "name": "stdout",
     "output_type": "stream",
     "text": [
      "当RES列的值为1时，有缺失值的列及其缺失数量：\n",
      "Series([], dtype: int64)\n"
     ]
    }
   ],
   "source": [
    "# 筛选RES列值为1的数据\n",
    "data_res_1 = data[data['RES'] == 1]\n",
    "\n",
    "# 计算RES为1的数据中每列的缺失值数量\n",
    "missing_values_count_res_1 = data_res_1.isnull().sum()\n",
    "\n",
    "# 过滤出有缺失值的列\n",
    "missing_values_res_1 = missing_values_count_res_1[missing_values_count_res_1 > 0]\n",
    "\n",
    "# 打印有缺失值的列和对应的缺失值数量（当RES列的值为1）\n",
    "print(\"当RES列的值为1时，有缺失值的列及其缺失数量：\")\n",
    "print(missing_values_res_1)\n",
    "\n",
    "# 构建的特征集中含有缺失值，部分分类器对缺失值敏感，删除样本\n",
    "data = data.dropna()"
   ]
  },
  {
   "cell_type": "code",
   "execution_count": 28,
   "id": "10c00502-2660-4672-9616-73703c7d94fe",
   "metadata": {},
   "outputs": [],
   "source": [
    "X = data.drop('RES', axis=1)\n",
    "y = data['RES']\n",
    "\n",
    "X_train, X_test, y_train, y_test = train_test_split(X, y, test_size=0.25, random_state=42)"
   ]
  },
  {
   "cell_type": "code",
   "execution_count": 29,
   "id": "cbb79098-ef0b-4d50-98db-84422c87365e",
   "metadata": {},
   "outputs": [
    {
     "data": {
      "text/plain": [
       "595"
      ]
     },
     "execution_count": 29,
     "metadata": {},
     "output_type": "execute_result"
    }
   ],
   "source": [
    "(y_train==1).sum()"
   ]
  },
  {
   "cell_type": "code",
   "execution_count": 7,
   "id": "52eb8b63-7bc3-474d-81e4-af2eca22150f",
   "metadata": {},
   "outputs": [],
   "source": [
    "# 手动欠采样多数类\n",
    "\n",
    "rus = RandomUnderSampler(random_state=42,sampling_strategy = {0: 2500, 1: 595})\n",
    "X_train, y_train = rus.fit_resample(X_train, y_train)"
   ]
  },
  {
   "cell_type": "code",
   "execution_count": 8,
   "id": "cdfc8f40-732a-41df-9e24-deb6b8340a72",
   "metadata": {},
   "outputs": [
    {
     "data": {
      "text/plain": [
       "{0: 0.619, 1: 2.600840336134454}"
      ]
     },
     "execution_count": 8,
     "metadata": {},
     "output_type": "execute_result"
    }
   ],
   "source": [
    "# 计算类别权重\n",
    "# 两种计算方式得到的结果是相同的,部分分类器可能会支持不同的参数，故采用了两种计算方式\n",
    "\n",
    "weight = class_weight.compute_sample_weight('balanced', y_train)  # 用于在训练时调整样本权重\n",
    "\n",
    "weights = class_weight.compute_class_weight('balanced', classes=np.unique(y_train), y=y_train)\n",
    "weight_dict = {i: weights[i] for i in range(len(weights))}\n",
    "weight_dict"
   ]
  },
  {
   "cell_type": "code",
   "execution_count": 9,
   "id": "744ec5f4-7a6a-406d-b540-5be562dc90cd",
   "metadata": {},
   "outputs": [
    {
     "data": {
      "text/plain": [
       "(array([0.619     , 0.619     , 0.619     , ..., 2.60084034, 2.60084034,\n",
       "        2.60084034]),\n",
       " array([0.619     , 2.60084034]))"
      ]
     },
     "execution_count": 9,
     "metadata": {},
     "output_type": "execute_result"
    }
   ],
   "source": [
    "weight,weights"
   ]
  },
  {
   "cell_type": "markdown",
   "id": "cdfaa159-bf84-4b0b-8212-2537d3b3e867",
   "metadata": {},
   "source": [
    "# RF"
   ]
  },
  {
   "cell_type": "code",
   "execution_count": 10,
   "id": "997e9a08-f287-467b-8610-107e05ac0aa3",
   "metadata": {},
   "outputs": [
    {
     "name": "stdout",
     "output_type": "stream",
     "text": [
      "Random Forest Classification Report:\n",
      "              precision    recall  f1-score   support\n",
      "\n",
      "           0       0.98      0.97      0.98      3802\n",
      "           1       0.54      0.59      0.56       198\n",
      "\n",
      "    accuracy                           0.95      4000\n",
      "   macro avg       0.76      0.78      0.77      4000\n",
      "weighted avg       0.96      0.95      0.96      4000\n",
      "\n",
      "Random Forest AUC Score: 0.9196893979245374\n"
     ]
    }
   ],
   "source": [
    "rf_model = RandomForestClassifier(random_state=42,\n",
    "                                  # class_weight=weight_dict,\n",
    "                                  # bootstrap=True, \n",
    "                                  # max_samples=100\n",
    "                                 )\n",
    "rf_model.fit(X_train, y_train)\n",
    "rf_predictions = rf_model.predict(X_test)\n",
    "rf_probabilities = rf_model.predict_proba(X_test)[:, 1]\n",
    "print(\"Random Forest Classification Report:\")\n",
    "print(classification_report(y_test, rf_predictions))\n",
    "print(\"Random Forest AUC Score:\", roc_auc_score(y_test, rf_probabilities))"
   ]
  },
  {
   "cell_type": "code",
   "execution_count": 11,
   "id": "71e65192-f6dc-4bd5-8e22-16ab223d8906",
   "metadata": {},
   "outputs": [
    {
     "name": "stdout",
     "output_type": "stream",
     "text": [
      "Random Forest Classification Report:\n",
      "              precision    recall  f1-score   support\n",
      "\n",
      "           0       1.00      1.00      1.00      2500\n",
      "           1       1.00      1.00      1.00       595\n",
      "\n",
      "    accuracy                           1.00      3095\n",
      "   macro avg       1.00      1.00      1.00      3095\n",
      "weighted avg       1.00      1.00      1.00      3095\n",
      "\n",
      "Random Forest AUC Score: 1.0\n"
     ]
    }
   ],
   "source": [
    "rf_predictions = rf_model.predict(X_train)\n",
    "rf_probabilities = rf_model.predict_proba(X_train)[:, 1]\n",
    "print(\"Random Forest Classification Report:\")\n",
    "print(classification_report(y_train, rf_predictions))\n",
    "print(\"Random Forest AUC Score:\", roc_auc_score(y_train, rf_probabilities))"
   ]
  },
  {
   "cell_type": "markdown",
   "id": "786038f4-d145-47f1-872d-726dcdbc93cd",
   "metadata": {},
   "source": [
    "# GBDT"
   ]
  },
  {
   "cell_type": "code",
   "execution_count": 12,
   "id": "0708db18-3c82-4ac3-8736-66f14d2afc7f",
   "metadata": {},
   "outputs": [
    {
     "name": "stdout",
     "output_type": "stream",
     "text": [
      "GBDT Classification Report:\n",
      "              precision    recall  f1-score   support\n",
      "\n",
      "           0       0.99      0.87      0.93      3802\n",
      "           1       0.24      0.79      0.37       198\n",
      "\n",
      "    accuracy                           0.87      4000\n",
      "   macro avg       0.62      0.83      0.65      4000\n",
      "weighted avg       0.95      0.87      0.90      4000\n",
      "\n",
      "GBDT AUC Score: 0.9243898745476863\n"
     ]
    }
   ],
   "source": [
    "gbdt_model = GradientBoostingClassifier(\n",
    "    random_state=42,\n",
    ")\n",
    "\n",
    "\n",
    "gbdt_model.fit(\n",
    "    X_train,\n",
    "    y_train,\n",
    "    sample_weight = weight\n",
    "              )\n",
    "\n",
    "\n",
    "gbdt_predictions = gbdt_model.predict(X_test)\n",
    "gbdt_probabilities = gbdt_model.predict_proba(X_test)[:, 1]\n",
    "print(\"GBDT Classification Report:\")\n",
    "print(classification_report(y_test, gbdt_predictions))\n",
    "print(\"GBDT AUC Score:\", roc_auc_score(y_test, gbdt_probabilities))"
   ]
  },
  {
   "cell_type": "code",
   "execution_count": 13,
   "id": "4d025a8b-4d4f-4c49-bbbc-889bfd61b9c3",
   "metadata": {},
   "outputs": [
    {
     "name": "stdout",
     "output_type": "stream",
     "text": [
      "GBDT Classification Report:\n",
      "              precision    recall  f1-score   support\n",
      "\n",
      "           0       0.99      0.91      0.94      2500\n",
      "           1       0.71      0.95      0.81       595\n",
      "\n",
      "    accuracy                           0.91      3095\n",
      "   macro avg       0.85      0.93      0.88      3095\n",
      "weighted avg       0.93      0.91      0.92      3095\n",
      "\n",
      "GBDT AUC Score: 0.9769774789915966\n"
     ]
    }
   ],
   "source": [
    "gbdt_predictions = gbdt_model.predict(X_train)\n",
    "gbdt_probabilities = gbdt_model.predict_proba(X_train)[:, 1]\n",
    "print(\"GBDT Classification Report:\")\n",
    "print(classification_report(y_train, gbdt_predictions))\n",
    "print(\"GBDT AUC Score:\", roc_auc_score(y_train, gbdt_probabilities))"
   ]
  },
  {
   "cell_type": "markdown",
   "id": "4ed9289c-08e9-40d6-974c-a395dc2dda5b",
   "metadata": {},
   "source": [
    "# XGBoost"
   ]
  },
  {
   "cell_type": "code",
   "execution_count": 14,
   "id": "1ba2f242-880d-4fab-b59c-561c3fcf42bc",
   "metadata": {},
   "outputs": [
    {
     "name": "stdout",
     "output_type": "stream",
     "text": [
      "XGBoost Classification Report:\n",
      "              precision    recall  f1-score   support\n",
      "\n",
      "           0       0.98      0.93      0.95      3802\n",
      "           1       0.33      0.69      0.45       198\n",
      "\n",
      "    accuracy                           0.92      4000\n",
      "   macro avg       0.66      0.81      0.70      4000\n",
      "weighted avg       0.95      0.92      0.93      4000\n",
      "\n",
      "XGBoost AUC Score: 0.9310809302918719\n"
     ]
    }
   ],
   "source": [
    "xgb_model = XGBClassifier(\n",
    "    random_state=42,\n",
    "    # class_weight=weight_dict\n",
    ")\n",
    "\n",
    "\n",
    "xgb_model.fit(\n",
    "    X_train, \n",
    "    y_train,\n",
    "    sample_weight = weight\n",
    ")\n",
    "\n",
    "\n",
    "xgb_predictions = xgb_model.predict(X_test)\n",
    "xgb_probabilities = xgb_model.predict_proba(X_test)[:, 1]\n",
    "print(\"XGBoost Classification Report:\")\n",
    "print(classification_report(y_test, xgb_predictions))\n",
    "print(\"XGBoost AUC Score:\", roc_auc_score(y_test, xgb_probabilities))"
   ]
  },
  {
   "cell_type": "code",
   "execution_count": 15,
   "id": "b22989d9-4067-4800-b096-0ce08a7f5973",
   "metadata": {},
   "outputs": [
    {
     "name": "stdout",
     "output_type": "stream",
     "text": [
      "XGBoost Classification Report:\n",
      "              precision    recall  f1-score   support\n",
      "\n",
      "           0       1.00      1.00      1.00      2500\n",
      "           1       1.00      1.00      1.00       595\n",
      "\n",
      "    accuracy                           1.00      3095\n",
      "   macro avg       1.00      1.00      1.00      3095\n",
      "weighted avg       1.00      1.00      1.00      3095\n",
      "\n",
      "XGBoost AUC Score: 1.0\n"
     ]
    }
   ],
   "source": [
    "xgb_predictions = xgb_model.predict(X_train)\n",
    "xgb_probabilities = xgb_model.predict_proba(X_train)[:, 1]\n",
    "print(\"XGBoost Classification Report:\")\n",
    "print(classification_report(y_train, xgb_predictions))\n",
    "print(\"XGBoost AUC Score:\", roc_auc_score(y_train, xgb_probabilities))"
   ]
  },
  {
   "cell_type": "markdown",
   "id": "46fe7f8e-4f3e-4ddf-9803-de1e51e90e26",
   "metadata": {},
   "source": [
    "# lightGBM"
   ]
  },
  {
   "cell_type": "code",
   "execution_count": 16,
   "id": "379cc5f2-1f28-46ca-99a8-10912eaee775",
   "metadata": {},
   "outputs": [
    {
     "name": "stdout",
     "output_type": "stream",
     "text": [
      "[LightGBM] [Info] Number of positive: 595, number of negative: 2500\n",
      "[LightGBM] [Info] Auto-choosing col-wise multi-threading, the overhead of testing was 0.004860 seconds.\n",
      "You can set `force_col_wise=true` to remove the overhead.\n",
      "[LightGBM] [Info] Total Bins 11535\n",
      "[LightGBM] [Info] Number of data points in the train set: 3095, number of used features: 71\n",
      "[LightGBM] [Info] [binary:BoostFromScore]: pavg=0.500000 -> initscore=-0.000000\n",
      "[LightGBM] [Info] Start training from score -0.000000\n",
      "LightGBM Classification Report:\n",
      "              precision    recall  f1-score   support\n",
      "\n",
      "           0       0.99      0.93      0.95      3802\n",
      "           1       0.34      0.74      0.47       198\n",
      "\n",
      "    accuracy                           0.92      4000\n",
      "   macro avg       0.66      0.83      0.71      4000\n",
      "weighted avg       0.95      0.92      0.93      4000\n",
      "\n",
      "LightGBM AUC Score: 0.9310145112354475\n"
     ]
    }
   ],
   "source": [
    "lgb_model = LGBMClassifier(\n",
    "    random_state=42,\n",
    ")\n",
    "\n",
    "lgb_model.fit(\n",
    "    X_train,\n",
    "    y_train,\n",
    "    sample_weight = weight\n",
    ")\n",
    "\n",
    "lgb_predictions = lgb_model.predict(X_test)\n",
    "lgb_probabilities = lgb_model.predict_proba(X_test)[:, 1]\n",
    "print(\"LightGBM Classification Report:\")\n",
    "print(classification_report(y_test, lgb_predictions))\n",
    "print(\"LightGBM AUC Score:\", roc_auc_score(y_test, lgb_probabilities))"
   ]
  },
  {
   "cell_type": "code",
   "execution_count": 17,
   "id": "12d05632-a06b-4c9c-a1d7-ceca18c5f909",
   "metadata": {},
   "outputs": [
    {
     "name": "stdout",
     "output_type": "stream",
     "text": [
      "LightGBM Classification Report:\n",
      "              precision    recall  f1-score   support\n",
      "\n",
      "           0       1.00      1.00      1.00      2500\n",
      "           1       0.99      1.00      1.00       595\n",
      "\n",
      "    accuracy                           1.00      3095\n",
      "   macro avg       1.00      1.00      1.00      3095\n",
      "weighted avg       1.00      1.00      1.00      3095\n",
      "\n",
      "LightGBM AUC Score: 1.0\n"
     ]
    }
   ],
   "source": [
    "lgb_predictions = lgb_model.predict(X_train)\n",
    "lgb_probabilities = lgb_model.predict_proba(X_train)[:, 1]\n",
    "print(\"LightGBM Classification Report:\")\n",
    "print(classification_report(y_train, lgb_predictions))\n",
    "print(\"LightGBM AUC Score:\", roc_auc_score(y_train, lgb_probabilities))"
   ]
  },
  {
   "cell_type": "markdown",
   "id": "52a621a4-952a-4049-98b3-393a9cbe4193",
   "metadata": {},
   "source": [
    "# 决策树"
   ]
  },
  {
   "cell_type": "code",
   "execution_count": 38,
   "id": "a9ddf4bd-08b0-48d4-ada5-fb6d2aa68865",
   "metadata": {},
   "outputs": [
    {
     "name": "stdout",
     "output_type": "stream",
     "text": [
      "Decision Tree Classification Report:\n",
      "              precision    recall  f1-score   support\n",
      "\n",
      "           0       0.97      0.96      0.97      3802\n",
      "           1       0.38      0.46      0.42       198\n",
      "\n",
      "    accuracy                           0.94      4000\n",
      "   macro avg       0.68      0.71      0.69      4000\n",
      "weighted avg       0.94      0.94      0.94      4000\n",
      "\n",
      "Decision Tree AUC Score: 0.7104660492351181\n"
     ]
    }
   ],
   "source": [
    "dt_model = DecisionTreeClassifier(random_state=42,\n",
    "                                 #  max_depth=7,\n",
    "                                 #  min_samples_leaf=20,\n",
    "                                 #  min_samples_split=10,\n",
    "                                 # # class_weight=weight_dict,\n",
    "                                 )\n",
    "dt_model.fit(X_train, y_train)\n",
    "dt_predictions = dt_model.predict(X_test)\n",
    "dt_probabilities = dt_model.predict_proba(X_test)[:, 1]\n",
    "\n",
    "print(\"Decision Tree Classification Report:\")\n",
    "print(classification_report(y_test, dt_predictions))\n",
    "print(\"Decision Tree AUC Score:\", roc_auc_score(y_test, dt_probabilities))"
   ]
  },
  {
   "cell_type": "code",
   "execution_count": 39,
   "id": "ec703e74-f325-4dee-ac67-6de048581d14",
   "metadata": {},
   "outputs": [
    {
     "name": "stdout",
     "output_type": "stream",
     "text": [
      "Decision Tree Classification Report:\n",
      "              precision    recall  f1-score   support\n",
      "\n",
      "           0       1.00      1.00      1.00     11405\n",
      "           1       1.00      1.00      1.00       595\n",
      "\n",
      "    accuracy                           1.00     12000\n",
      "   macro avg       1.00      1.00      1.00     12000\n",
      "weighted avg       1.00      1.00      1.00     12000\n",
      "\n",
      "Decision Tree AUC Score: 1.0\n"
     ]
    }
   ],
   "source": [
    "dt_predictions = dt_model.predict(X_train)\n",
    "dt_probabilities = dt_model.predict_proba(X_train)[:, 1]\n",
    "\n",
    "print(\"Decision Tree Classification Report:\")\n",
    "print(classification_report(y_train, dt_predictions))\n",
    "print(\"Decision Tree AUC Score:\", roc_auc_score(y_train, dt_probabilities))"
   ]
  },
  {
   "cell_type": "code",
   "execution_count": 20,
   "id": "519e692e-889f-4184-8b2d-81e382e4e277",
   "metadata": {},
   "outputs": [],
   "source": [
    "# data = pd.read_csv(\"E:\\竞赛\\服创赛-A08\\\\data\\特征集\\\\new_features_data_2.csv\")\n",
    "# data = data.dropna()\n",
    "\n",
    "# if 'Unnamed: 0' in data.columns:\n",
    "#     data = data.drop(['Unnamed: 0','个人编码'], axis=1)\n",
    "# else:\n",
    "#     data = data.drop('个人编码', axis=1)\n",
    "\n",
    "# X = data.drop('RES', axis=1)\n",
    "# y = data['RES']\n",
    "\n",
    "# X_train, X_test, y_train, y_test = train_test_split(X, y, test_size=0.25, random_state=42)"
   ]
  },
  {
   "cell_type": "markdown",
   "id": "0e3267f3-e245-4b6f-b055-5b19be6e0db3",
   "metadata": {},
   "source": [
    "# Logistic"
   ]
  },
  {
   "cell_type": "code",
   "execution_count": 21,
   "id": "e33bf978-f2fb-4085-ae5f-ebd47e88d702",
   "metadata": {},
   "outputs": [
    {
     "name": "stdout",
     "output_type": "stream",
     "text": [
      "Logistic Regression Classification Report:\n",
      "              precision    recall  f1-score   support\n",
      "\n",
      "           0       0.98      0.86      0.92      3802\n",
      "           1       0.21      0.68      0.31       198\n",
      "\n",
      "    accuracy                           0.85      4000\n",
      "   macro avg       0.59      0.77      0.62      4000\n",
      "weighted avg       0.94      0.85      0.89      4000\n",
      "\n",
      "Logistic Regression AUC Score: 0.8724501724238705\n"
     ]
    }
   ],
   "source": [
    "log_model = make_pipeline(StandardScaler(), LogisticRegression(random_state=42,class_weight=weight_dict))\n",
    "log_model.fit(\n",
    "    X_train,\n",
    "    y_train\n",
    ")\n",
    "log_predictions = log_model.predict(X_test)\n",
    "log_probabilities = log_model.predict_proba(X_test)[:, 1]\n",
    "\n",
    "print(\"Logistic Regression Classification Report:\")\n",
    "print(classification_report(y_test, log_predictions))\n",
    "print(\"Logistic Regression AUC Score:\", roc_auc_score(y_test, log_probabilities))"
   ]
  },
  {
   "cell_type": "code",
   "execution_count": 22,
   "id": "25b9cca9-861a-4dfc-82dd-013f3de5a1d2",
   "metadata": {},
   "outputs": [
    {
     "name": "stdout",
     "output_type": "stream",
     "text": [
      "Logistic Regression Classification Report:\n",
      "              precision    recall  f1-score   support\n",
      "\n",
      "           0       0.92      0.87      0.89      2500\n",
      "           1       0.54      0.67      0.60       595\n",
      "\n",
      "    accuracy                           0.83      3095\n",
      "   macro avg       0.73      0.77      0.75      3095\n",
      "weighted avg       0.84      0.83      0.84      3095\n",
      "\n",
      "Logistic Regression AUC Score: 0.86893243697479\n"
     ]
    }
   ],
   "source": [
    "log_predictions = log_model.predict(X_train)\n",
    "log_probabilities = log_model.predict_proba(X_train)[:, 1]\n",
    "\n",
    "print(\"Logistic Regression Classification Report:\")\n",
    "print(classification_report(y_train, log_predictions))\n",
    "print(\"Logistic Regression AUC Score:\", roc_auc_score(y_train, log_probabilities))"
   ]
  },
  {
   "cell_type": "code",
   "execution_count": null,
   "id": "fed910ab-be5f-4329-bc97-8a7c42b743df",
   "metadata": {},
   "outputs": [],
   "source": []
  }
 ],
 "metadata": {
  "kernelspec": {
   "display_name": "A08",
   "language": "python",
   "name": "a08"
  },
  "language_info": {
   "codemirror_mode": {
    "name": "ipython",
    "version": 3
   },
   "file_extension": ".py",
   "mimetype": "text/x-python",
   "name": "python",
   "nbconvert_exporter": "python",
   "pygments_lexer": "ipython3",
   "version": "3.10.14"
  }
 },
 "nbformat": 4,
 "nbformat_minor": 5
}
