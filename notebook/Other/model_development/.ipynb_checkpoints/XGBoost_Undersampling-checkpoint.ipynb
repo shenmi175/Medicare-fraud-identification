{
 "cells": [
  {
   "cell_type": "code",
   "execution_count": 1,
   "id": "66c1b8cf-724d-4352-bf9a-fd9675cc7b12",
   "metadata": {},
   "outputs": [],
   "source": [
    "import pandas as pd\n",
    "from sklearn.utils import resample\n",
    "from sklearn.model_selection import train_test_split, StratifiedKFold, cross_val_score\n",
    "from xgboost import XGBClassifier\n",
    "from sklearn.metrics import classification_report\n",
    "import numpy as np"
   ]
  },
  {
   "cell_type": "code",
   "execution_count": 2,
   "id": "7e27a277-6cd3-4143-baaa-a817a89a3e81",
   "metadata": {},
   "outputs": [
    {
     "name": "stdout",
     "output_type": "stream",
     "text": [
      "<class 'pandas.core.frame.DataFrame'>\n",
      "RangeIndex: 16000 entries, 0 to 15999\n",
      "Data columns (total 11 columns):\n",
      " #   Column       Non-Null Count  Dtype  \n",
      "---  ------       --------------  -----  \n",
      " 0   就诊次数_SUM     16000 non-null  int64  \n",
      " 1   药品在总金额中的占比   16000 non-null  float64\n",
      " 2   个人支付的药品占比    16000 non-null  float64\n",
      " 3   检查总费用在总金额占比  16000 non-null  float64\n",
      " 4   治疗费用在总金额占比   16000 non-null  float64\n",
      " 5   就诊的月数        16000 non-null  int64  \n",
      " 6   月就诊天数_MAX    16000 non-null  int64  \n",
      " 7   月就诊天数_AVG    16000 non-null  float64\n",
      " 8   月就诊医院数_MAX   16000 non-null  int64  \n",
      " 9   月就诊医院数_AVG   16000 non-null  float64\n",
      " 10  RES          16000 non-null  int64  \n",
      "dtypes: float64(6), int64(5)\n",
      "memory usage: 1.3 MB\n"
     ]
    },
    {
     "data": {
      "text/plain": [
       "(   就诊次数_SUM  药品在总金额中的占比  个人支付的药品占比  检查总费用在总金额占比  治疗费用在总金额占比  就诊的月数  月就诊天数_MAX  \\\n",
       " 0        34    0.939194   0.004262     0.050817    0.007434      6          7   \n",
       " 1        15    0.955626   0.002982     0.030815    0.013398      6          4   \n",
       " 2        45    0.783610   0.000332     0.000000    0.195087      6          8   \n",
       " 3        23    0.458649   0.000184     0.000000    0.541351      6          6   \n",
       " 4        26    0.983726   0.000316     0.000000    0.016274      6          5   \n",
       " \n",
       "    月就诊天数_AVG  月就诊医院数_MAX  月就诊医院数_AVG  RES  \n",
       " 0   5.666667           3    2.166667    0  \n",
       " 1   2.500000           2    1.333333    0  \n",
       " 2   6.166667           3    2.166667    0  \n",
       " 3   3.666667           2    1.833333    0  \n",
       " 4   4.333333           1    1.000000    0  ,\n",
       " None,\n",
       "            就诊次数_SUM    药品在总金额中的占比     个人支付的药品占比   检查总费用在总金额占比    治疗费用在总金额占比  \\\n",
       " count  16000.000000  16000.000000  16000.000000  16000.000000  16000.000000   \n",
       " mean      36.818438      0.854763      0.005500      0.039006      0.081316   \n",
       " std       23.656539      0.168843      0.013990      0.064466      0.155653   \n",
       " min        1.000000      0.000000      0.000000      0.000000      0.000000   \n",
       " 25%       22.000000      0.845445      0.000003      0.001170      0.015839   \n",
       " 50%       32.000000      0.907803      0.000569      0.016690      0.027925   \n",
       " 75%       46.000000      0.946247      0.004818      0.049281      0.051846   \n",
       " max      307.000000      1.000000      0.689375      0.962401      1.000000   \n",
       " \n",
       "               就诊的月数     月就诊天数_MAX     月就诊天数_AVG    月就诊医院数_MAX    月就诊医院数_AVG  \\\n",
       " count  16000.000000  16000.000000  16000.000000  16000.000000  16000.000000   \n",
       " mean       5.817812      7.824438      5.854813      2.099000      1.735954   \n",
       " std        0.702069      4.193234      3.377273      0.947038      0.724497   \n",
       " min        1.000000      1.000000      1.000000      1.000000      1.000000   \n",
       " 25%        6.000000      5.000000      3.500000      1.000000      1.000000   \n",
       " 50%        6.000000      7.000000      5.166667      2.000000      1.666667   \n",
       " 75%        6.000000     10.000000      7.333333      3.000000      2.000000   \n",
       " max        7.000000     31.000000     30.000000      8.000000      7.000000   \n",
       " \n",
       "                 RES  \n",
       " count  16000.000000  \n",
       " mean       0.049563  \n",
       " std        0.217046  \n",
       " min        0.000000  \n",
       " 25%        0.000000  \n",
       " 50%        0.000000  \n",
       " 75%        0.000000  \n",
       " max        1.000000  )"
      ]
     },
     "execution_count": 2,
     "metadata": {},
     "output_type": "execute_result"
    }
   ],
   "source": [
    "# 加载数据\n",
    "file_path = \"E:\\竞赛\\服创赛-A08\\data\\欺诈手段特征集.xlsx\"\n",
    "data = pd.read_excel(file_path)\n",
    "\n",
    "# file_path = \"E:\\竞赛\\服创赛-A08\\data\\\\analyzed_data_2.csv\"\n",
    "# data = pd.read_csv(file_path)\n",
    "\n",
    "# 展示数据的前几行以及基本信息\n",
    "data.head(), data.info(), data.describe()"
   ]
  },
  {
   "cell_type": "code",
   "execution_count": 3,
   "id": "a715e964-38a2-4359-a0c5-818faee75f07",
   "metadata": {},
   "outputs": [],
   "source": [
    "# 删除高度相关的特征（>0.9）--可选\n",
    "# data = data.drop(columns=['月就诊天数_MAX', '月就诊天数_AVG', '月就诊医院数_MAX'])"
   ]
  },
  {
   "cell_type": "code",
   "execution_count": 4,
   "id": "5b2994f5-30fb-464a-bf63-e954b9120d24",
   "metadata": {},
   "outputs": [],
   "source": [
    "# 分离特征和目标变量\n",
    "X = data.drop('RES', axis=1)\n",
    "y = data['RES']\n",
    "\n",
    "# 分离类别\n",
    "data_majority = data[data.RES == 0]\n",
    "data_minority = data[data.RES == 1]"
   ]
  },
  {
   "cell_type": "code",
   "execution_count": 6,
   "id": "204ec08f-7de4-4649-9733-7e8ea1f9ec95",
   "metadata": {},
   "outputs": [],
   "source": [
    "# 定义一个额外的函数，用于单独训练和返回比例为4的模型\n",
    "def get_specific_ratio_model(X, y, specific_ratio):\n",
    "    skf = StratifiedKFold(n_splits=5, shuffle=True, random_state=123)\n",
    "    final_model = None\n",
    "    final_samples_class_0 = 0  # 用于记录类别0的样本数\n",
    "    final_samples_class_1 = 0  # 用于记录类别1的样本数\n",
    "\n",
    "    for train_index, test_index in skf.split(X, y):\n",
    "        # 分割数据\n",
    "        X_train, X_test = X.iloc[train_index], X.iloc[test_index]\n",
    "        y_train, y_test = y.iloc[train_index], y.iloc[test_index]\n",
    "\n",
    "        # 分离多数和少数类\n",
    "        X_train_majority = X_train[y_train == 0]\n",
    "        X_train_minority = X_train[y_train == 1]\n",
    "\n",
    "        # 执行欠采样\n",
    "        majority_sample_size = int(len(X_train_minority) * specific_ratio)\n",
    "        X_train_majority_downsampled = resample(X_train_majority, \n",
    "                                                replace=False,\n",
    "                                                n_samples=majority_sample_size,\n",
    "                                                random_state=123)\n",
    "        y_train_majority_downsampled = y_train.loc[X_train_majority_downsampled.index]\n",
    "\n",
    "        # 合并数据\n",
    "        X_train_downsampled = pd.concat([X_train_majority_downsampled, X_train_minority])\n",
    "        y_train_downsampled = pd.concat([y_train_majority_downsampled, y_train[y_train == 1]])\n",
    "        \n",
    "        # 更新类别样本数\n",
    "        final_samples_class_0 = y_train_downsampled[y_train_downsampled == 0].shape[0]\n",
    "        final_samples_class_1 = y_train_downsampled[y_train_downsampled == 1].shape[0]\n",
    "\n",
    "        # 创建并训练模型\n",
    "        xgb = XGBClassifier(\n",
    "                n_estimators=1000,\n",
    "                learning_rate=0.01,\n",
    "                max_depth=5,\n",
    "                gamma=0.1,\n",
    "                subsample=0.8,\n",
    "                colsample_bytree=0.8,\n",
    "                objective='binary:logistic',\n",
    "                eval_metric='auc',\n",
    "                use_label_encoder=False,\n",
    "                random_state=42\n",
    "            )\n",
    "        xgb.fit(X_train_downsampled, y_train_downsampled)\n",
    "\n",
    "        # 更新最后一个模型\n",
    "        final_model = xgb\n",
    "\n",
    "    return final_model, final_samples_class_0, final_samples_class_1"
   ]
  },
  {
   "cell_type": "code",
   "execution_count": 7,
   "id": "e94a8ed4-19f9-4f27-9e71-ea04cb590872",
   "metadata": {},
   "outputs": [
    {
     "name": "stdout",
     "output_type": "stream",
     "text": [
      "类别0的样本数： 2536\n",
      "类别1的样本数： 634\n"
     ]
    },
    {
     "data": {
      "text/html": [
       "<style>#sk-container-id-1 {color: black;background-color: white;}#sk-container-id-1 pre{padding: 0;}#sk-container-id-1 div.sk-toggleable {background-color: white;}#sk-container-id-1 label.sk-toggleable__label {cursor: pointer;display: block;width: 100%;margin-bottom: 0;padding: 0.3em;box-sizing: border-box;text-align: center;}#sk-container-id-1 label.sk-toggleable__label-arrow:before {content: \"▸\";float: left;margin-right: 0.25em;color: #696969;}#sk-container-id-1 label.sk-toggleable__label-arrow:hover:before {color: black;}#sk-container-id-1 div.sk-estimator:hover label.sk-toggleable__label-arrow:before {color: black;}#sk-container-id-1 div.sk-toggleable__content {max-height: 0;max-width: 0;overflow: hidden;text-align: left;background-color: #f0f8ff;}#sk-container-id-1 div.sk-toggleable__content pre {margin: 0.2em;color: black;border-radius: 0.25em;background-color: #f0f8ff;}#sk-container-id-1 input.sk-toggleable__control:checked~div.sk-toggleable__content {max-height: 200px;max-width: 100%;overflow: auto;}#sk-container-id-1 input.sk-toggleable__control:checked~label.sk-toggleable__label-arrow:before {content: \"▾\";}#sk-container-id-1 div.sk-estimator input.sk-toggleable__control:checked~label.sk-toggleable__label {background-color: #d4ebff;}#sk-container-id-1 div.sk-label input.sk-toggleable__control:checked~label.sk-toggleable__label {background-color: #d4ebff;}#sk-container-id-1 input.sk-hidden--visually {border: 0;clip: rect(1px 1px 1px 1px);clip: rect(1px, 1px, 1px, 1px);height: 1px;margin: -1px;overflow: hidden;padding: 0;position: absolute;width: 1px;}#sk-container-id-1 div.sk-estimator {font-family: monospace;background-color: #f0f8ff;border: 1px dotted black;border-radius: 0.25em;box-sizing: border-box;margin-bottom: 0.5em;}#sk-container-id-1 div.sk-estimator:hover {background-color: #d4ebff;}#sk-container-id-1 div.sk-parallel-item::after {content: \"\";width: 100%;border-bottom: 1px solid gray;flex-grow: 1;}#sk-container-id-1 div.sk-label:hover label.sk-toggleable__label {background-color: #d4ebff;}#sk-container-id-1 div.sk-serial::before {content: \"\";position: absolute;border-left: 1px solid gray;box-sizing: border-box;top: 0;bottom: 0;left: 50%;z-index: 0;}#sk-container-id-1 div.sk-serial {display: flex;flex-direction: column;align-items: center;background-color: white;padding-right: 0.2em;padding-left: 0.2em;position: relative;}#sk-container-id-1 div.sk-item {position: relative;z-index: 1;}#sk-container-id-1 div.sk-parallel {display: flex;align-items: stretch;justify-content: center;background-color: white;position: relative;}#sk-container-id-1 div.sk-item::before, #sk-container-id-1 div.sk-parallel-item::before {content: \"\";position: absolute;border-left: 1px solid gray;box-sizing: border-box;top: 0;bottom: 0;left: 50%;z-index: -1;}#sk-container-id-1 div.sk-parallel-item {display: flex;flex-direction: column;z-index: 1;position: relative;background-color: white;}#sk-container-id-1 div.sk-parallel-item:first-child::after {align-self: flex-end;width: 50%;}#sk-container-id-1 div.sk-parallel-item:last-child::after {align-self: flex-start;width: 50%;}#sk-container-id-1 div.sk-parallel-item:only-child::after {width: 0;}#sk-container-id-1 div.sk-dashed-wrapped {border: 1px dashed gray;margin: 0 0.4em 0.5em 0.4em;box-sizing: border-box;padding-bottom: 0.4em;background-color: white;}#sk-container-id-1 div.sk-label label {font-family: monospace;font-weight: bold;display: inline-block;line-height: 1.2em;}#sk-container-id-1 div.sk-label-container {text-align: center;}#sk-container-id-1 div.sk-container {/* jupyter's `normalize.less` sets `[hidden] { display: none; }` but bootstrap.min.css set `[hidden] { display: none !important; }` so we also need the `!important` here to be able to override the default hidden behavior on the sphinx rendered scikit-learn.org. See: https://github.com/scikit-learn/scikit-learn/issues/21755 */display: inline-block !important;position: relative;}#sk-container-id-1 div.sk-text-repr-fallback {display: none;}</style><div id=\"sk-container-id-1\" class=\"sk-top-container\"><div class=\"sk-text-repr-fallback\"><pre>XGBClassifier(base_score=None, booster=None, callbacks=None,\n",
       "              colsample_bylevel=None, colsample_bynode=None,\n",
       "              colsample_bytree=0.8, device=None, early_stopping_rounds=None,\n",
       "              enable_categorical=False, eval_metric=&#x27;auc&#x27;, feature_types=None,\n",
       "              gamma=0.1, grow_policy=None, importance_type=None,\n",
       "              interaction_constraints=None, learning_rate=0.01, max_bin=None,\n",
       "              max_cat_threshold=None, max_cat_to_onehot=None,\n",
       "              max_delta_step=None, max_depth=5, max_leaves=None,\n",
       "              min_child_weight=None, missing=nan, monotone_constraints=None,\n",
       "              multi_strategy=None, n_estimators=1000, n_jobs=None,\n",
       "              num_parallel_tree=None, random_state=42, ...)</pre><b>In a Jupyter environment, please rerun this cell to show the HTML representation or trust the notebook. <br />On GitHub, the HTML representation is unable to render, please try loading this page with nbviewer.org.</b></div><div class=\"sk-container\" hidden><div class=\"sk-item\"><div class=\"sk-estimator sk-toggleable\"><input class=\"sk-toggleable__control sk-hidden--visually\" id=\"sk-estimator-id-1\" type=\"checkbox\" checked><label for=\"sk-estimator-id-1\" class=\"sk-toggleable__label sk-toggleable__label-arrow\">XGBClassifier</label><div class=\"sk-toggleable__content\"><pre>XGBClassifier(base_score=None, booster=None, callbacks=None,\n",
       "              colsample_bylevel=None, colsample_bynode=None,\n",
       "              colsample_bytree=0.8, device=None, early_stopping_rounds=None,\n",
       "              enable_categorical=False, eval_metric=&#x27;auc&#x27;, feature_types=None,\n",
       "              gamma=0.1, grow_policy=None, importance_type=None,\n",
       "              interaction_constraints=None, learning_rate=0.01, max_bin=None,\n",
       "              max_cat_threshold=None, max_cat_to_onehot=None,\n",
       "              max_delta_step=None, max_depth=5, max_leaves=None,\n",
       "              min_child_weight=None, missing=nan, monotone_constraints=None,\n",
       "              multi_strategy=None, n_estimators=1000, n_jobs=None,\n",
       "              num_parallel_tree=None, random_state=42, ...)</pre></div></div></div></div></div>"
      ],
      "text/plain": [
       "XGBClassifier(base_score=None, booster=None, callbacks=None,\n",
       "              colsample_bylevel=None, colsample_bynode=None,\n",
       "              colsample_bytree=0.8, device=None, early_stopping_rounds=None,\n",
       "              enable_categorical=False, eval_metric='auc', feature_types=None,\n",
       "              gamma=0.1, grow_policy=None, importance_type=None,\n",
       "              interaction_constraints=None, learning_rate=0.01, max_bin=None,\n",
       "              max_cat_threshold=None, max_cat_to_onehot=None,\n",
       "              max_delta_step=None, max_depth=5, max_leaves=None,\n",
       "              min_child_weight=None, missing=nan, monotone_constraints=None,\n",
       "              multi_strategy=None, n_estimators=1000, n_jobs=None,\n",
       "              num_parallel_tree=None, random_state=42, ...)"
      ]
     },
     "execution_count": 7,
     "metadata": {},
     "output_type": "execute_result"
    }
   ],
   "source": [
    "# 获取比例为n:1的模型(提高比例会略微提高AUC，但不显著)\n",
    "specific_ratio = 5\n",
    "\n",
    "# 使用函数时\n",
    "xgb, samples_class_0, samples_class_1 = get_specific_ratio_model(X, y, 4)\n",
    "print(\"类别0的样本数：\", samples_class_0)\n",
    "print(\"类别1的样本数：\", samples_class_1)\n",
    "\n",
    "# 输出模型信息\n",
    "xgb"
   ]
  },
  {
   "cell_type": "code",
   "execution_count": 8,
   "id": "a891a651-3558-4efd-951c-a0ecaf7441dd",
   "metadata": {},
   "outputs": [
    {
     "name": "stdout",
     "output_type": "stream",
     "text": [
      "              precision    recall  f1-score   support\n",
      "\n",
      "           0       0.98      0.97      0.97      4572\n",
      "           1       0.48      0.60      0.53       228\n",
      "\n",
      "    accuracy                           0.95      4800\n",
      "   macro avg       0.73      0.78      0.75      4800\n",
      "weighted avg       0.96      0.95      0.95      4800\n",
      "\n"
     ]
    }
   ],
   "source": [
    "# 划分训练集和测试集\n",
    "X_train, X_test, y_train, y_test = train_test_split(X, y, test_size=0.3, random_state=123)\n",
    "\n",
    "# 设置阈值\n",
    "threshold = 0.5\n",
    "\n",
    "# 以概率形式获取预测结果\n",
    "y_probs = xgb.predict_proba(X_test)[:, 1] # 获取正类的概率\n",
    "\n",
    "# 应用阈值\n",
    "y_pred_thresh = np.where(y_probs > threshold, 1, 0)\n",
    "\n",
    "# 生成分类报告\n",
    "classification_report_06 = classification_report(y_test, y_pred_thresh)\n",
    "\n",
    "print(classification_report_06)"
   ]
  },
  {
   "cell_type": "code",
   "execution_count": 9,
   "id": "b89b1d93-d850-4a5f-bb59-eb4ad6484e87",
   "metadata": {},
   "outputs": [
    {
     "name": "stdout",
     "output_type": "stream",
     "text": [
      "AUC: 0.9398215299841906\n"
     ]
    }
   ],
   "source": [
    "from sklearn.metrics import roc_auc_score, roc_curve\n",
    "y_pred_proba = xgb.predict_proba(X_test)[:, 1]\n",
    "\n",
    "# 计算AUC\n",
    "auc = roc_auc_score(y_test, y_pred_proba)\n",
    "print(f\"AUC: {auc}\")"
   ]
  },
  {
   "cell_type": "code",
   "execution_count": 10,
   "id": "95ad8a07-c27c-4103-981c-154f9cfc4d95",
   "metadata": {},
   "outputs": [
    {
     "data": {
      "text/plain": [
       "array(['月就诊天数_MAX', '就诊的月数', '月就诊天数_AVG', '月就诊医院数_MAX', '治疗费用在总金额占比',\n",
       "       '就诊次数_SUM', '药品在总金额中的占比', '月就诊医院数_AVG', '个人支付的药品占比', '检查总费用在总金额占比'],\n",
       "      dtype=object)"
      ]
     },
     "execution_count": 10,
     "metadata": {},
     "output_type": "execute_result"
    }
   ],
   "source": [
    "# 获取特征重要性\n",
    "feature_importances = xgb.feature_importances_\n",
    "\n",
    "# 排序特征重要性\n",
    "sorted_idx = np.argsort(feature_importances)[::-1]\n",
    "\n",
    "# 取出前二十个重要特征\n",
    "feature_importances = np.array(X.columns)[sorted_idx][:10]\n",
    "\n",
    "feature_importances"
   ]
  },
  {
   "cell_type": "code",
   "execution_count": null,
   "id": "791e0b07-805b-4048-aa29-89250382f0f0",
   "metadata": {},
   "outputs": [],
   "source": []
  },
  {
   "cell_type": "code",
   "execution_count": null,
   "id": "73bb0627-65ce-43b7-93b1-40a4305d475e",
   "metadata": {},
   "outputs": [],
   "source": []
  },
  {
   "cell_type": "code",
   "execution_count": null,
   "id": "f40daefa-3793-446b-bd0d-089465c360f6",
   "metadata": {},
   "outputs": [],
   "source": []
  }
 ],
 "metadata": {
  "kernelspec": {
   "display_name": "Python 3 (ipykernel)",
   "language": "python",
   "name": "python3"
  },
  "language_info": {
   "codemirror_mode": {
    "name": "ipython",
    "version": 3
   },
   "file_extension": ".py",
   "mimetype": "text/x-python",
   "name": "python",
   "nbconvert_exporter": "python",
   "pygments_lexer": "ipython3",
   "version": "3.11.7"
  }
 },
 "nbformat": 4,
 "nbformat_minor": 5
}
