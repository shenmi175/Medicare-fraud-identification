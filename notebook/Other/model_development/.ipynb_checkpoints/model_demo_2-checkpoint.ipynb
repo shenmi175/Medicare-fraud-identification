{
 "cells": [
  {
   "cell_type": "code",
   "execution_count": 1,
   "id": "15558309",
   "metadata": {},
   "outputs": [],
   "source": [
    "from sklearn.model_selection import StratifiedKFold, train_test_split, cross_val_score\n",
    "from sklearn.ensemble import RandomForestClassifier\n",
    "from sklearn.metrics import classification_report\n",
    "from sklearn.utils import resample\n",
    "import pandas as pd\n",
    "import numpy as np\n",
    "from imblearn.over_sampling import SMOTE\n",
    "import os\n",
    "import joblib\n",
    "\n",
    "from sklearn.metrics import roc_auc_score, roc_curve\n",
    "import matplotlib.pyplot as plt\n",
    "import seaborn as sns\n",
    "%matplotlib inline\n",
    "pd.set_option(\"display.max_columns\",100)\n",
    "pd.set_option('display.max_rows',100)\n",
    "\n",
    "from pylab import mpl \n",
    "plt.rcParams['font.sans-serif'] = ['Microsoft YaHei']  # 设置中文字体\n",
    "plt.rcParams['axes.unicode_minus'] = False  # 为了显示负号正常\n"
   ]
  },
  {
   "cell_type": "code",
   "execution_count": 2,
   "id": "e96c25ed",
   "metadata": {},
   "outputs": [],
   "source": [
    "# 加载数据\n",
    "file_path = 'E:\\竞赛\\服创赛-A08\\data\\欺诈手段特征集.xlsx'\n",
    "data = pd.read_excel(file_path)"
   ]
  },
  {
   "cell_type": "code",
   "execution_count": 3,
   "id": "c7a2aaad",
   "metadata": {},
   "outputs": [],
   "source": [
    "def strategy_3(X, y, model, test_size=0.3, random_state=123, smote_random_state=42, k_neighbors=5):\n",
    "    \"\"\"\n",
    "    使用SMOTE策略训练模型，并返回分类报告。\n",
    "\n",
    "    参数:\n",
    "    - X: DataFrame, 特征数据集。\n",
    "    - y: Series, 目标变量数据集。\n",
    "    - model: 机器学习模型。\n",
    "    - test_size: float, 测试集占比。\n",
    "    - random_state: int, train_test_split的随机状态。\n",
    "    - smote_random_state: int, SMOTE的随机状态。\n",
    "    - k_neighbors: int, SMOTE中的最近邻数量。\n",
    "\n",
    "    返回:\n",
    "    - 分类报告。\n",
    "    \"\"\"\n",
    "    # 划分训练集和测试集\n",
    "    X_train, X_test, y_train, y_test = train_test_split(X, y, test_size=test_size, random_state=random_state)\n",
    "\n",
    "    # 应用SMOTE\n",
    "    smote = SMOTE(sampling_strategy='auto', random_state=smote_random_state, k_neighbors=k_neighbors)\n",
    "    X_train_smote, y_train_smote = smote.fit_resample(X_train, y_train)\n",
    "\n",
    "    # 训练模型\n",
    "    model.fit(X_train_smote, y_train_smote)\n",
    "\n",
    "    # 进行预测\n",
    "    y_pred = model.predict(X_test)\n",
    "\n",
    "    # 生成分类报告\n",
    "    classification_rep = classification_report(y_test, y_pred)\n",
    "\n",
    "    return classification_rep,model"
   ]
  },
  {
   "cell_type": "code",
   "execution_count": 4,
   "id": "e9dbc69c",
   "metadata": {},
   "outputs": [],
   "source": [
    "def strategy_4(model, X_test, y_test, thresholds):\n",
    "\n",
    "    classification_reports = {}\n",
    "    for thresh in thresholds:\n",
    "        # 以概率形式获取预测结果\n",
    "        y_probs = model.predict_proba(X_test)[:, 1]  # 获取正类的概率\n",
    "        # 应用阈值\n",
    "        y_pred_thresh = np.where(y_probs > thresh, 1, 0)\n",
    "        # 生成并存储分类报告\n",
    "        classification_reports[thresh] = classification_report(y_test, y_pred_thresh)\n",
    "\n",
    "    return classification_reports"
   ]
  },
  {
   "cell_type": "code",
   "execution_count": 5,
   "id": "be4a5345",
   "metadata": {},
   "outputs": [],
   "source": [
    "def load_and_split_data(input_data, target_column='RES', test_size=0.3, random_state=42):\n",
    "    # Load the dataset if a file path is provided, else use the DataFrame directly\n",
    "    if isinstance(input_data, str):\n",
    "        _, file_extension = os.path.splitext(input_data)\n",
    "        if file_extension.lower() == '.csv':\n",
    "            data = pd.read_csv(input_data)\n",
    "        elif file_extension.lower() == '.xlsx':\n",
    "            data = pd.read_excel(input_data)\n",
    "        else:\n",
    "            raise ValueError(\"Unsupported file format. Only CSV and Excel files are supported.\")\n",
    "    elif isinstance(input_data, pd.DataFrame):\n",
    "        data = input_data\n",
    "    else:\n",
    "        raise ValueError(\"Input data should be a file path or a DataFrame.\")\n",
    "\n",
    "    # Separate features and target\n",
    "    X = data.drop(target_column, axis=1)\n",
    "    y = data[target_column]\n",
    "\n",
    "    # Handle class imbalance\n",
    "    data_majority = data[data[target_column] == 0]\n",
    "    data_minority = data[data[target_column] == 1]\n",
    "\n",
    "    # Split the dataset into training and testing sets\n",
    "    X_train, X_test, y_train, y_test = train_test_split(X, y, test_size=test_size, random_state=random_state)\n",
    "\n",
    "    return X_train, X_test, y_train, y_test, X, y, data_majority, data_minority"
   ]
  },
  {
   "cell_type": "code",
   "execution_count": 6,
   "id": "9a5f7886",
   "metadata": {},
   "outputs": [],
   "source": [
    "# 分离特征和目标变量\n",
    "X = data.drop('RES', axis=1)\n",
    "y = data['RES']\n",
    "\n",
    "# 分离类别\n",
    "data_majority = data[data.RES == 0]\n",
    "data_minority = data[data.RES == 1]"
   ]
  },
  {
   "cell_type": "code",
   "execution_count": 7,
   "id": "c7103e12",
   "metadata": {},
   "outputs": [],
   "source": [
    "model = RandomForestClassifier(\n",
    "    n_estimators=100,\n",
    "    #max_depth=5,\n",
    "    random_state=123,\n",
    "    n_jobs=-1\n",
    ")"
   ]
  },
  {
   "cell_type": "code",
   "execution_count": 18,
   "id": "6eb16d87",
   "metadata": {},
   "outputs": [],
   "source": [
    "# # 定义XGBoost模型\n",
    "# from xgboost import XGBClassifier\n",
    "# model = XGBClassifier(\n",
    "#         learning_rate = 0.05,\n",
    "#         n_estimators=1000,\n",
    "#         max_depth=7,\n",
    "#         min_child_weight=5,\n",
    "#         gamma=0,\n",
    "#         subsample=0.9,\n",
    "#         colsample_bytree=0.6,\n",
    "#         objective='binary:logistic',\n",
    "#         nthread=4,\n",
    "#         scale_pos_weight=1,\n",
    "#         seed=27\n",
    "#     )"
   ]
  },
  {
   "cell_type": "code",
   "execution_count": 8,
   "id": "15bd8f02",
   "metadata": {},
   "outputs": [
    {
     "name": "stdout",
     "output_type": "stream",
     "text": [
      "              precision    recall  f1-score   support\n",
      "\n",
      "           0       0.97      0.96      0.96      4572\n",
      "           1       0.34      0.42      0.38       228\n",
      "\n",
      "    accuracy                           0.93      4800\n",
      "   macro avg       0.65      0.69      0.67      4800\n",
      "weighted avg       0.94      0.93      0.94      4800\n",
      "\n"
     ]
    }
   ],
   "source": [
    "# 应用 strategy_3\n",
    "classification_reports,model = strategy_3(X, y, model, test_size=0.3, random_state=123, smote_random_state=42, k_neighbors=5)\n",
    "\n",
    "# 打印分类报告\n",
    "\n",
    "print(classification_reports)"
   ]
  },
  {
   "cell_type": "code",
   "execution_count": 9,
   "id": "1b5e16a5-7801-4051-ae87-0f90793dee1b",
   "metadata": {},
   "outputs": [],
   "source": [
    "X_train, X_test, y_train, y_test ,X,y,data_majority, data_minority= load_and_split_data(file_path)"
   ]
  },
  {
   "cell_type": "code",
   "execution_count": 10,
   "id": "9fb25bc4-0348-4b5e-bb6f-cfeb200c1661",
   "metadata": {},
   "outputs": [
    {
     "data": {
      "text/plain": [
       "((11200, 10), (4800, 10))"
      ]
     },
     "execution_count": 10,
     "metadata": {},
     "output_type": "execute_result"
    }
   ],
   "source": [
    "X_train.shape,X_test.shape"
   ]
  },
  {
   "cell_type": "code",
   "execution_count": 20,
   "id": "6d991cde",
   "metadata": {},
   "outputs": [
    {
     "name": "stdout",
     "output_type": "stream",
     "text": [
      "Threshold: 0.5\n",
      "               precision    recall  f1-score   support\n",
      "\n",
      "           0       0.99      0.99      0.99      4563\n",
      "           1       0.80      0.84      0.82       237\n",
      "\n",
      "    accuracy                           0.98      4800\n",
      "   macro avg       0.90      0.91      0.91      4800\n",
      "weighted avg       0.98      0.98      0.98      4800\n",
      "\n",
      "Threshold: 0.55\n",
      "               precision    recall  f1-score   support\n",
      "\n",
      "           0       0.99      0.99      0.99      4563\n",
      "           1       0.85      0.83      0.84       237\n",
      "\n",
      "    accuracy                           0.98      4800\n",
      "   macro avg       0.92      0.91      0.92      4800\n",
      "weighted avg       0.98      0.98      0.98      4800\n",
      "\n",
      "Threshold: 0.6\n",
      "               precision    recall  f1-score   support\n",
      "\n",
      "           0       0.99      0.99      0.99      4563\n",
      "           1       0.88      0.83      0.85       237\n",
      "\n",
      "    accuracy                           0.99      4800\n",
      "   macro avg       0.93      0.91      0.92      4800\n",
      "weighted avg       0.99      0.99      0.99      4800\n",
      "\n",
      "Threshold: 0.65\n",
      "               precision    recall  f1-score   support\n",
      "\n",
      "           0       0.99      1.00      0.99      4563\n",
      "           1       0.91      0.80      0.85       237\n",
      "\n",
      "    accuracy                           0.99      4800\n",
      "   macro avg       0.95      0.90      0.92      4800\n",
      "weighted avg       0.99      0.99      0.99      4800\n",
      "\n",
      "Threshold: 0.7\n",
      "               precision    recall  f1-score   support\n",
      "\n",
      "           0       0.99      1.00      0.99      4563\n",
      "           1       0.93      0.76      0.84       237\n",
      "\n",
      "    accuracy                           0.99      4800\n",
      "   macro avg       0.96      0.88      0.91      4800\n",
      "weighted avg       0.98      0.99      0.98      4800\n",
      "\n",
      "Threshold: 0.75\n",
      "               precision    recall  f1-score   support\n",
      "\n",
      "           0       0.99      1.00      0.99      4563\n",
      "           1       0.95      0.72      0.82       237\n",
      "\n",
      "    accuracy                           0.98      4800\n",
      "   macro avg       0.97      0.86      0.90      4800\n",
      "weighted avg       0.98      0.98      0.98      4800\n",
      "\n"
     ]
    }
   ],
   "source": [
    "thresholds = [ 0.5,0.55, 0.6,0.65, 0.7,0.75]\n",
    "reports = strategy_4(model,X_test, y_test, thresholds)\n",
    "\n",
    "# 输出每个阈值下的分类报告\n",
    "for thresh, report in reports.items():\n",
    "    print(f\"Threshold: {thresh}\\n\", report)"
   ]
  },
  {
   "cell_type": "code",
   "execution_count": null,
   "id": "65052bef-f12d-4f4a-ace7-018713ed5fee",
   "metadata": {},
   "outputs": [],
   "source": []
  },
  {
   "cell_type": "code",
   "execution_count": 21,
   "id": "9bf38662",
   "metadata": {},
   "outputs": [
    {
     "data": {
      "text/plain": [
       "'              precision    recall  f1-score   support\\n\\n           0       0.99      1.00      0.99      4563\\n           1       0.95      0.72      0.82       237\\n\\n    accuracy                           0.98      4800\\n   macro avg       0.97      0.86      0.90      4800\\nweighted avg       0.98      0.98      0.98      4800\\n'"
      ]
     },
     "execution_count": 21,
     "metadata": {},
     "output_type": "execute_result"
    }
   ],
   "source": [
    "thresholds = [0.6]\n",
    "reports = strategy_4(model,X_test, y_test,thresholds)\n",
    "report"
   ]
  },
  {
   "cell_type": "code",
   "execution_count": 22,
   "id": "4b6d7914",
   "metadata": {},
   "outputs": [
    {
     "name": "stdout",
     "output_type": "stream",
     "text": [
      "AUC: 0.965735215654073\n"
     ]
    }
   ],
   "source": [
    "y_pred_proba = model.predict_proba(X_test)[:, 1]\n",
    "\n",
    "# 计算AUC\n",
    "auc = roc_auc_score(y_test, y_pred_proba)\n",
    "print(f\"AUC: {auc}\")"
   ]
  },
  {
   "cell_type": "code",
   "execution_count": 23,
   "id": "e061cc21",
   "metadata": {},
   "outputs": [
    {
     "data": {
      "image/png": "[encoded data removed]",
      "text/plain": [
       "<Figure size 800x600 with 1 Axes>"
      ]
     },
     "metadata": {},
     "output_type": "display_data"
    }
   ],
   "source": [
    "# 获取真正率（TPR）和假正率（FPR）以及阈值用于绘制ROC曲线\n",
    "fpr, tpr, thresholds = roc_curve(y_test, y_pred_proba)\n",
    "\n",
    "# 绘制ROC曲线\n",
    "plt.figure(figsize=(8, 6))\n",
    "plt.plot(fpr, tpr, label=f'ROC Curve (area = {auc:.2f})')\n",
    "plt.plot([0, 1], [0, 1], 'k--')  # 随机概率的对角线\n",
    "plt.xlim([0.0, 1.0])\n",
    "plt.ylim([0.0, 1.05])\n",
    "plt.xlabel('False Positive Rate')\n",
    "plt.ylabel('True Positive Rate')\n",
    "plt.title('Receiver Operating Characteristic (ROC)')\n",
    "plt.legend(loc=\"lower right\")\n",
    "plt.show()"
   ]
  },
  {
   "cell_type": "code",
   "execution_count": 26,
   "id": "5ec68238-ad47-45dd-b6a9-3ec372f85175",
   "metadata": {},
   "outputs": [
    {
     "data": {
      "text/plain": [
       "array(['月就诊天数_AVG', '就诊次数_SUM', '个人支付的药品占比', '月就诊天数_MAX', '治疗费用在总金额占比',\n",
       "       '月就诊医院数_AVG', '检查总费用在总金额占比', '药品在总金额中的占比', '就诊的月数', '月就诊医院数_MAX'],\n",
       "      dtype=object)"
      ]
     },
     "execution_count": 26,
     "metadata": {},
     "output_type": "execute_result"
    }
   ],
   "source": [
    "# 获取特征重要性\n",
    "feature_importances = model.feature_importances_\n",
    "\n",
    "# 排序特征重要性\n",
    "sorted_idx = np.argsort(feature_importances)[::-1]\n",
    "\n",
    "# 取出前二十个重要特征\n",
    "top_20_features = np.array(X_train.columns)[sorted_idx][:20]\n",
    "\n",
    "top_20_features"
   ]
  },
  {
   "cell_type": "markdown",
   "id": "7cebdac1",
   "metadata": {},
   "source": [
    "## 评估在训练集上的模型性能"
   ]
  },
  {
   "cell_type": "code",
   "execution_count": null,
   "id": "4110b541",
   "metadata": {},
   "outputs": [],
   "source": [
    "# 检测模型在训练集上的效果\n",
    "# result = classification_report(y_train,model.predict(X_train))\n",
    "y_proby = model.predict_proba(X_train)[:,1]\n",
    "thresh = 0.6\n",
    "result = np.where(y_proby>thresh,1,0)\n",
    "results = classification_report(y_train,result)\n",
    "\n",
    "print(results)"
   ]
  },
  {
   "cell_type": "code",
   "execution_count": null,
   "id": "38aabd04",
   "metadata": {},
   "outputs": [],
   "source": []
  },
  {
   "cell_type": "code",
   "execution_count": null,
   "id": "2a8c0dd7",
   "metadata": {},
   "outputs": [],
   "source": []
  },
  {
   "cell_type": "code",
   "execution_count": null,
   "id": "194bd05f",
   "metadata": {},
   "outputs": [],
   "source": [
    "import pandas as pd\n",
    "from sklearn.ensemble import RandomForestClassifier\n",
    "from sklearn.model_selection import cross_val_score\n",
    "from hyperopt import hp, fmin, tpe, Trials, space_eval\n",
    "\n",
    "\n",
    "# 分离特征和目标变量\n",
    "X = data.drop('RES', axis=1)\n",
    "y = data['RES']\n",
    "\n",
    "# 定义超参数的搜索空间\n",
    "space = {\n",
    "    'n_estimators': hp.choice('n_estimators', range(64,228)),\n",
    "    'max_depth': hp.choice('max_depth', [None] + list(range(2, 32))),\n",
    "    'min_samples_split': hp.choice('min_samples_split', range(2, 21)),\n",
    "    'min_samples_leaf': hp.choice('min_samples_leaf', range(1, 21)),\n",
    "#     'max_features': hp.choice('max_features', [ 'sqrt', 'log2']),\n",
    "#     'bootstrap': hp.choice('bootstrap', [True, False]),\n",
    "#     'class_weight': hp.choice('class_weight', [None, 'balanced'])\n",
    "}\n",
    "\n",
    "# 定义目标函数\n",
    "def objective(params):\n",
    "    classifier = RandomForestClassifier(**params, random_state=123, n_jobs=-1)\n",
    "    score = cross_val_score(classifier, X, y, cv=10, scoring='roc_auc').mean()\n",
    "    return {'loss': -score,status}\n",
    "\n",
    "# 运行优化\n",
    "trials = Trials()\n",
    "best_params = fmin(fn=objective, space=space, algo=tpe.suggest, max_evals=100, trials=trials)\n",
    "\n",
    "# 获取最佳参数\n",
    "best_params = space_eval(space, best_params)\n",
    "\n",
    "# 输出最佳参数\n",
    "print(\"最佳参数:\", best_params)\n",
    "\n"
   ]
  },
  {
   "cell_type": "code",
   "execution_count": null,
   "id": "a9a22ec8",
   "metadata": {},
   "outputs": [],
   "source": []
  },
  {
   "cell_type": "code",
   "execution_count": null,
   "id": "ef78f536",
   "metadata": {},
   "outputs": [],
   "source": [
    "import pandas as pd\n",
    "from sklearn.model_selection import StratifiedKFold, RandomizedSearchCV\n",
    "from sklearn.ensemble import RandomForestClassifier\n",
    "from sklearn.metrics import roc_auc_score, make_scorer\n",
    "from scipy.stats import randint\n",
    "\n",
    "# 分离特征和目标变量\n",
    "X = data.drop(columns='RES')\n",
    "y = data['RES']\n",
    "\n",
    "# AUC评分函数\n",
    "auc_scorer = make_scorer(roc_auc_score, needs_proba=True)\n",
    "\n",
    "# 十折交叉验证\n",
    "cv = StratifiedKFold(n_splits=10)\n",
    "\n",
    "# 超参数空间\n",
    "param_dist = {\n",
    "    'n_estimators': randint(50, 150),\n",
    "    'max_depth': [None, 10, 20, 30],\n",
    "    'min_samples_split': randint(2, 10),\n",
    "    'min_samples_leaf': randint(1, 10)\n",
    "}\n",
    "\n",
    "# 初始化随机森林分类器\n",
    "rf = RandomForestClassifier(bootstrap=True, max_features='auto', class_weight=None, random_state=123, n_jobs=-1)\n",
    "\n",
    "# 随机搜索与贝叶斯优化\n",
    "random_search = RandomizedSearchCV(rf, param_distributions=param_dist, n_iter=1, scoring=auc_scorer, cv=cv, random_state=123)\n",
    "random_search.fit(X, y)\n",
    "\n",
    "# 检查最佳分数是否大于0.95\n",
    "if random_search.best_score_ > 0.95:\n",
    "    # 输出最佳参数和AUC分数\n",
    "    best_params_output = random_search.best_params_\n",
    "    best_auc_score_output = random_search.best_score_\n",
    "else:\n",
    "    # 如果AUC分数未达到0.95，则不输出任何信息\n",
    "    best_params_output = None\n",
    "    best_auc_score_output = None\n",
    "\n",
    "print(best_params_output, best_auc_score_output)\n"
   ]
  },
  {
   "cell_type": "code",
   "execution_count": null,
   "id": "549cc634",
   "metadata": {},
   "outputs": [],
   "source": []
  },
  {
   "cell_type": "code",
   "execution_count": null,
   "id": "c509cc7b",
   "metadata": {},
   "outputs": [],
   "source": []
  },
  {
   "cell_type": "code",
   "execution_count": null,
   "id": "c436f95c",
   "metadata": {},
   "outputs": [],
   "source": []
  },
  {
   "cell_type": "code",
   "execution_count": null,
   "id": "725375a9",
   "metadata": {},
   "outputs": [],
   "source": [
    "# 打印 NumPy 的版本\n",
    "numpy_version = np.__version__\n",
    "numpy_version"
   ]
  },
  {
   "cell_type": "code",
   "execution_count": null,
   "id": "8e6927ce",
   "metadata": {},
   "outputs": [],
   "source": []
  }
 ],
 "metadata": {
  "kernelspec": {
   "display_name": "Python 3 (ipykernel)",
   "language": "python",
   "name": "python3"
  },
  "language_info": {
   "codemirror_mode": {
    "name": "ipython",
    "version": 3
   },
   "file_extension": ".py",
   "mimetype": "text/x-python",
   "name": "python",
   "nbconvert_exporter": "python",
   "pygments_lexer": "ipython3",
   "version": "3.11.7"
  }
 },
 "nbformat": 4,
 "nbformat_minor": 5
}
