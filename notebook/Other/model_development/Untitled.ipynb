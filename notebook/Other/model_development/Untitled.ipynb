{
 "cells": [
  {
   "cell_type": "code",
   "execution_count": 1,
   "id": "9d146ff3",
   "metadata": {},
   "outputs": [
    {
     "data": {
      "text/plain": [
       "False"
      ]
     },
     "execution_count": 1,
     "metadata": {},
     "output_type": "execute_result"
    }
   ],
   "source": [
    "str =\"Python语言程序设计\"\n",
    "str.isnumeric()"
   ]
  },
  {
   "cell_type": "code",
   "execution_count": 2,
   "id": "6aca3285",
   "metadata": {},
   "outputs": [
    {
     "name": "stdout",
     "output_type": "stream",
     "text": [
      "袋鼠生活在主要由母袋鼠和小袋鼠组成的较小的群体里。\n"
     ]
    }
   ],
   "source": [
    "s1 =\"袋鼠\"\n",
    "\n",
    "print(\"{0}生活在主要由母{0}和小{0}组成的较小的群体里。\".format(s1))"
   ]
  },
  {
   "cell_type": "code",
   "execution_count": 3,
   "id": "b76193f1",
   "metadata": {},
   "outputs": [
    {
     "name": "stdout",
     "output_type": "stream",
     "text": [
      " 企鹅 :超级游泳健将!!!\n"
     ]
    }
   ],
   "source": [
    "s1 =\"企鹅\"\n",
    "\n",
    "s2 =\"超级游泳健将\"\n",
    "\n",
    "print(\"{0:^4}:{1:!<9}\".format(s1,s2))"
   ]
  },
  {
   "cell_type": "code",
   "execution_count": 4,
   "id": "50545a8e",
   "metadata": {},
   "outputs": [
    {
     "ename": "SyntaxError",
     "evalue": "invalid character '“' (U+201C) (3021879201.py, line 1)",
     "output_type": "error",
     "traceback": [
      "\u001b[1;36m  Cell \u001b[1;32mIn[4], line 1\u001b[1;36m\u001b[0m\n\u001b[1;33m    x = “foo”\u001b[0m\n\u001b[1;37m        ^\u001b[0m\n\u001b[1;31mSyntaxError\u001b[0m\u001b[1;31m:\u001b[0m invalid character '“' (U+201C)\n"
     ]
    }
   ],
   "source": [
    "x = “foo”  \n",
    "\n",
    "y = 2  \n",
    "\n",
    "print(x+y) "
   ]
  },
  {
   "cell_type": "code",
   "execution_count": 5,
   "id": "f810cd0a",
   "metadata": {},
   "outputs": [
    {
     "name": "stdout",
     "output_type": "stream",
     "text": [
      "Python\n"
     ]
    }
   ],
   "source": [
    "s = 'Python is beautiful!'\n",
    "\n",
    "print(s[0:6])"
   ]
  },
  {
   "cell_type": "code",
   "execution_count": null,
   "id": "92244db2",
   "metadata": {},
   "outputs": [],
   "source": []
  },
  {
   "cell_type": "code",
   "execution_count": null,
   "id": "5fd31777",
   "metadata": {},
   "outputs": [],
   "source": []
  },
  {
   "cell_type": "code",
   "execution_count": null,
   "id": "ada9edf0",
   "metadata": {},
   "outputs": [],
   "source": []
  },
  {
   "cell_type": "code",
   "execution_count": null,
   "id": "0d7b0dc0",
   "metadata": {},
   "outputs": [],
   "source": []
  },
  {
   "cell_type": "code",
   "execution_count": null,
   "id": "a4c3ce0f",
   "metadata": {},
   "outputs": [],
   "source": []
  },
  {
   "cell_type": "code",
   "execution_count": 5,
   "id": "8c3282fe",
   "metadata": {},
   "outputs": [
    {
     "name": "stderr",
     "output_type": "stream",
     "text": [
      "D:\\Anaconda3\\Lib\\site-packages\\sklearn\\metrics\\_scorer.py:548: FutureWarning: The `needs_threshold` and `needs_proba` parameter are deprecated in version 1.4 and will be removed in 1.6. You can either let `response_method` be `None` or set it to `predict` to preserve the same behaviour.\n",
      "  warnings.warn(\n",
      "100%|████████████████████████████████████████████████████████████████████████████████| 300/300 [44:25<00:00,  8.89s/it]"
     ]
    },
    {
     "name": "stdout",
     "output_type": "stream",
     "text": [
      "No configuration found with AUC > 0.95\n"
     ]
    },
    {
     "name": "stderr",
     "output_type": "stream",
     "text": [
      "\n"
     ]
    }
   ],
   "source": [
    "import pandas as pd\n",
    "from sklearn.model_selection import StratifiedKFold, RandomizedSearchCV\n",
    "from sklearn.ensemble import RandomForestClassifier\n",
    "from sklearn.metrics import roc_auc_score, make_scorer\n",
    "from scipy.stats import randint\n",
    "from tqdm import tqdm\n",
    "\n",
    "# 加载数据\n",
    "file_path = 'E:\\\\竞赛\\\\服创赛-A08\\\\data\\\\欺诈手段特征集.xlsx'\n",
    "data = pd.read_excel(file_path)\n",
    "\n",
    "# 分离特征和目标变量\n",
    "X = data.drop(columns='RES')\n",
    "y = data['RES']\n",
    "\n",
    "# AUC评分函数\n",
    "auc_scorer = make_scorer(roc_auc_score, needs_proba=True)\n",
    "\n",
    "# 十折交叉验证\n",
    "cv = StratifiedKFold(n_splits=10)\n",
    "\n",
    "# 超参数空间\n",
    "param_dist = {\n",
    "    'n_estimators': randint(64, 228),\n",
    "    'max_depth': [4, 5,6,7,8,9,10],\n",
    "    'min_samples_split': randint(2, 10),\n",
    "    'min_samples_leaf': randint(1, 10)\n",
    "}\n",
    "\n",
    "# 初始化随机森林分类器\n",
    "rf = RandomForestClassifier(bootstrap=True, max_features='sqrt', class_weight=None, random_state=123, n_jobs=-1)\n",
    "\n",
    "# 存储所有AUC > 0.95的参数组合及其AUC\n",
    "successful_params = []\n",
    "\n",
    "# 使用tqdm进行进度条显示\n",
    "for i in tqdm(range(300)):\n",
    "    random_search = RandomizedSearchCV(rf, param_distributions=param_dist, n_iter=1, scoring=auc_scorer, cv=cv, random_state=123+i)\n",
    "    random_search.fit(X, y)\n",
    "\n",
    "    # 检查AUC是否大于0.95\n",
    "    if random_search.best_score_ > 0.95:\n",
    "        successful_params.append((random_search.best_params_, random_search.best_score_))\n",
    "\n",
    "# 输出所有AUC > 0.95的参数组合及其AUC\n",
    "if successful_params:\n",
    "    for params, score in successful_params:\n",
    "        print(\"Parameters:\", params)\n",
    "        print(\"AUC Score:\", score)\n",
    "        print(\"---\")\n",
    "else:\n",
    "    print(\"No configuration found with AUC > 0.95\")\n",
    "\n"
   ]
  },
  {
   "cell_type": "code",
   "execution_count": null,
   "id": "6bb91af2",
   "metadata": {},
   "outputs": [
    {
     "name": "stderr",
     "output_type": "stream",
     "text": [
      "D:\\Anaconda3\\Lib\\site-packages\\sklearn\\metrics\\_scorer.py:548: FutureWarning: The `needs_threshold` and `needs_proba` parameter are deprecated in version 1.4 and will be removed in 1.6. You can either let `response_method` be `None` or set it to `predict` to preserve the same behaviour.\n",
      "  warnings.warn(\n"
     ]
    }
   ],
   "source": [
    "from sklearn.model_selection import GridSearchCV\n",
    "from sklearn.ensemble import RandomForestClassifier\n",
    "from sklearn.metrics import make_scorer, roc_auc_score\n",
    "from sklearn.model_selection import train_test_split\n",
    "\n",
    "# Prepare your dataset\n",
    "X = data.drop('RES', axis=1)\n",
    "y = data['RES']\n",
    "X_train, X_test, y_train, y_test = train_test_split(X, y, test_size=0.2, random_state=123)\n",
    "\n",
    "# Define the parameter grid\n",
    "param_grid_modified = {\n",
    "    'n_estimators': list(range(50, 151)),\n",
    "    'max_depth': [None, 10, 20, 30],\n",
    "    'min_samples_split': list(range(2, 11)),\n",
    "    'min_samples_leaf': list(range(1, 11))\n",
    "}\n",
    "\n",
    "# Create a RandomForestClassifier model\n",
    "model = RandomForestClassifier(bootstrap=True, class_weight=None, random_state=123, n_jobs=-1)\n",
    "\n",
    "# Define the scorer for AUC\n",
    "auc_scorer = make_scorer(roc_auc_score, needs_proba=True)\n",
    "\n",
    "# Create and perform the grid search\n",
    "grid_search_modified = GridSearchCV(model, param_grid_modified, cv=10, scoring=auc_scorer, n_jobs=-1)\n",
    "grid_search_modified.fit(X_train, y_train)\n",
    "\n",
    "# Extract the best parameters and score\n",
    "best_params = grid_search_modified.best_params_\n",
    "best_score = grid_search_modified.best_score_\n",
    "\n",
    "print(\"Best Parameters:\", best_params)\n",
    "print(\"Best Score:\", best_score)\n"
   ]
  },
  {
   "cell_type": "code",
   "execution_count": 4,
   "id": "9774cfe8",
   "metadata": {},
   "outputs": [
    {
     "name": "stderr",
     "output_type": "stream",
     "text": [
      "\u001b[34m\u001b[1mwandb\u001b[0m: Currently logged in as: \u001b[33mzmb1227\u001b[0m. Use \u001b[1m`wandb login --relogin`\u001b[0m to force relogin\n"
     ]
    },
    {
     "data": {
      "application/vnd.jupyter.widget-view+json": {
       "model_id": "81a61c81dcdc4d4695e79b7637a043fc",
       "version_major": 2,
       "version_minor": 0
      },
      "text/plain": [
       "VBox(children=(Label(value='Waiting for wandb.init()...\\r'), FloatProgress(value=0.011288888888925108, max=1.0…"
      ]
     },
     "metadata": {},
     "output_type": "display_data"
    },
    {
     "data": {
      "text/html": [
       "Tracking run with wandb version 0.16.4"
      ],
      "text/plain": [
       "<IPython.core.display.HTML object>"
      ]
     },
     "metadata": {},
     "output_type": "display_data"
    },
    {
     "data": {
      "text/html": [
       "Run data is saved locally in <code>E:\\竞赛\\服创赛-A08\\code\\model_development\\wandb\\run-20240308_093854-kerpne4d</code>"
      ],
      "text/plain": [
       "<IPython.core.display.HTML object>"
      ]
     },
     "metadata": {},
     "output_type": "display_data"
    },
    {
     "data": {
      "text/html": [
       "Syncing run <strong><a href='https://wandb.ai/zmb1227/my-awesome-project/runs/kerpne4d' target=\"_blank\">zany-aardvark-1</a></strong> to <a href='https://wandb.ai/zmb1227/my-awesome-project' target=\"_blank\">Weights & Biases</a> (<a href='https://wandb.me/run' target=\"_blank\">docs</a>)<br/>"
      ],
      "text/plain": [
       "<IPython.core.display.HTML object>"
      ]
     },
     "metadata": {},
     "output_type": "display_data"
    },
    {
     "data": {
      "text/html": [
       " View project at <a href='https://wandb.ai/zmb1227/my-awesome-project' target=\"_blank\">https://wandb.ai/zmb1227/my-awesome-project</a>"
      ],
      "text/plain": [
       "<IPython.core.display.HTML object>"
      ]
     },
     "metadata": {},
     "output_type": "display_data"
    },
    {
     "data": {
      "text/html": [
       " View run at <a href='https://wandb.ai/zmb1227/my-awesome-project/runs/kerpne4d' target=\"_blank\">https://wandb.ai/zmb1227/my-awesome-project/runs/kerpne4d</a>"
      ],
      "text/plain": [
       "<IPython.core.display.HTML object>"
      ]
     },
     "metadata": {},
     "output_type": "display_data"
    },
    {
     "name": "stderr",
     "output_type": "stream",
     "text": [
      "\u001b[34m\u001b[1mwandb\u001b[0m:   1 of 1 files downloaded.  \n"
     ]
    },
    {
     "name": "stdout",
     "output_type": "stream",
     "text": [
      "[0]\ttrain-mlogloss:1.54662\ttest-mlogloss:1.57447\n",
      "[1]\ttrain-mlogloss:1.35498\ttest-mlogloss:1.39797\n",
      "[2]\ttrain-mlogloss:1.19883\ttest-mlogloss:1.25218\n",
      "[3]\ttrain-mlogloss:1.06734\ttest-mlogloss:1.13098\n",
      "[4]\ttrain-mlogloss:0.95564\ttest-mlogloss:1.03268\n"
     ]
    },
    {
     "data": {
      "application/vnd.jupyter.widget-view+json": {
       "model_id": "",
       "version_major": 2,
       "version_minor": 0
      },
      "text/plain": [
       "VBox(children=(Label(value='0.003 MB of 0.003 MB uploaded\\r'), FloatProgress(value=1.0, max=1.0)))"
      ]
     },
     "metadata": {},
     "output_type": "display_data"
    },
    {
     "data": {
      "text/html": [
       "<style>\n",
       "    table.wandb td:nth-child(1) { padding: 0 10px; text-align: left ; width: auto;} td:nth-child(2) {text-align: left ; width: 100%}\n",
       "    .wandb-row { display: flex; flex-direction: row; flex-wrap: wrap; justify-content: flex-start; width: 100% }\n",
       "    .wandb-col { display: flex; flex-direction: column; flex-basis: 100%; flex: 1; padding: 10px; }\n",
       "    </style>\n",
       "<div class=\"wandb-row\"><div class=\"wandb-col\"><h3>Run history:</h3><br/><table class=\"wandb\"><tr><td>epoch</td><td>▁▃▅▆█</td></tr><tr><td>test-mlogloss</td><td>█▆▄▂▁</td></tr><tr><td>train-mlogloss</td><td>█▆▄▂▁</td></tr></table><br/></div><div class=\"wandb-col\"><h3>Run summary:</h3><br/><table class=\"wandb\"><tr><td>Error Rate</td><td>0.09091</td></tr><tr><td>epoch</td><td>4</td></tr></table><br/></div></div>"
      ],
      "text/plain": [
       "<IPython.core.display.HTML object>"
      ]
     },
     "metadata": {},
     "output_type": "display_data"
    },
    {
     "data": {
      "text/html": [
       " View run <strong style=\"color:#cdcd00\">zany-aardvark-1</strong> at: <a href='https://wandb.ai/zmb1227/my-awesome-project/runs/kerpne4d' target=\"_blank\">https://wandb.ai/zmb1227/my-awesome-project/runs/kerpne4d</a><br/>Synced 6 W&B file(s), 1 media file(s), 1 artifact file(s) and 0 other file(s)"
      ],
      "text/plain": [
       "<IPython.core.display.HTML object>"
      ]
     },
     "metadata": {},
     "output_type": "display_data"
    },
    {
     "data": {
      "text/html": [
       "Find logs at: <code>.\\wandb\\run-20240308_093854-kerpne4d\\logs</code>"
      ],
      "text/plain": [
       "<IPython.core.display.HTML object>"
      ]
     },
     "metadata": {},
     "output_type": "display_data"
    }
   ],
   "source": [
    "# This script needs these libraries to be installed: \n",
    "#   numpy, xgboost\n",
    "\n",
    "import wandb\n",
    "from wandb.xgboost import WandbCallback\n",
    "\n",
    "import numpy as np\n",
    "import xgboost as xgb\n",
    "\n",
    "\n",
    "# setup parameters for xgboost\n",
    "param = {\n",
    "    \"objective\" : \"multi:softmax\",\n",
    "    \"eta\" : 0.1,\n",
    "    \"max_depth\": 6,\n",
    "    \"nthread\" : 4,\n",
    "    \"num_class\" : 6\n",
    "}\n",
    "\n",
    "# start a new wandb run to track this script\n",
    "wandb.init(\n",
    "    # set the wandb project where this run will be logged\n",
    "    project=\"my-awesome-project\",\n",
    "    \n",
    "    # track hyperparameters and run metadata\n",
    "    config=param\n",
    ")\n",
    "\n",
    "# download data from wandb Artifacts and prep data\n",
    "wandb.use_artifact('wandb/intro/dermatology_data:v0', type='dataset').download('.')\n",
    "data = np.loadtxt(\n",
    "    \"./dermatology.data\", delimiter=\",\",\n",
    "    converters={33: lambda x: int(x == \"?\"), 34: lambda x: int(x) - 1},\n",
    ")\n",
    "sz = data.shape\n",
    "\n",
    "train = data[: int(sz[0] * 0.7), :]\n",
    "test = data[int(sz[0] * 0.7) :, :]\n",
    "\n",
    "train_X = train[:, :33]\n",
    "train_Y = train[:, 34]\n",
    "\n",
    "test_X = test[:, :33]\n",
    "test_Y = test[:, 34]\n",
    "\n",
    "xg_train = xgb.DMatrix(train_X, label=train_Y)\n",
    "xg_test = xgb.DMatrix(test_X, label=test_Y)\n",
    "watchlist = [(xg_train, \"train\"), (xg_test, \"test\")]\n",
    "\n",
    "# add another config to the wandb run\n",
    "num_round = 5\n",
    "wandb.config[\"num_round\"] = 5\n",
    "wandb.config[\"data_shape\"] = sz\n",
    "\n",
    "# pass WandbCallback to the booster to log its configs and metrics\n",
    "bst = xgb.train(\n",
    "    param, xg_train, num_round, evals=watchlist, \n",
    "    callbacks=[WandbCallback()]\n",
    ")\n",
    "\n",
    "# get prediction\n",
    "pred = bst.predict(xg_test)\n",
    "error_rate = np.sum(pred != test_Y) / test_Y.shape[0]\n",
    "\n",
    "# log your test metric to wandb \n",
    "wandb.summary[\"Error Rate\"] = error_rate\n",
    "\n",
    "# [optional] finish the wandb run, necessary in notebooks\n",
    "wandb.finish()\n",
    "      "
   ]
  },
  {
   "cell_type": "code",
   "execution_count": null,
   "id": "6f09bb73",
   "metadata": {},
   "outputs": [],
   "source": []
  },
  {
   "cell_type": "code",
   "execution_count": null,
   "id": "1e14fc97-aae0-4acc-b38a-f41a49e34345",
   "metadata": {},
   "outputs": [],
   "source": []
  },
  {
   "cell_type": "code",
   "execution_count": 1,
   "id": "560d0efc-9fc7-42c6-8401-96974f40376e",
   "metadata": {},
   "outputs": [],
   "source": [
    "import pandas as pd\n",
    "\n",
    "df = pd.read_csv(\"E:\\竞赛\\服创赛-A08\\data\\process_data.csv\")"
   ]
  },
  {
   "cell_type": "code",
   "execution_count": 2,
   "id": "4d4ea20c-e982-4451-a786-fc7889d788b6",
   "metadata": {},
   "outputs": [
    {
     "ename": "NameError",
     "evalue": "name 'joblib' is not defined",
     "output_type": "error",
     "traceback": [
      "\u001b[1;31m---------------------------------------------------------------------------\u001b[0m",
      "\u001b[1;31mNameError\u001b[0m                                 Traceback (most recent call last)",
      "Cell \u001b[1;32mIn[2], line 2\u001b[0m\n\u001b[0;32m      1\u001b[0m \u001b[38;5;66;03m# 加载模型和特征列表\u001b[39;00m\n\u001b[1;32m----> 2\u001b[0m loaded_data \u001b[38;5;241m=\u001b[39m joblib\u001b[38;5;241m.\u001b[39mload(\u001b[38;5;124m\"\u001b[39m\u001b[38;5;124mE:\u001b[39m\u001b[38;5;124m\\\u001b[39m\u001b[38;5;124m竞赛\u001b[39m\u001b[38;5;124m\\\u001b[39m\u001b[38;5;124m服创赛-A08\u001b[39m\u001b[38;5;124m\\\u001b[39m\u001b[38;5;124mmodel\u001b[39m\u001b[38;5;130;01m\\\\\u001b[39;00m\u001b[38;5;124mlgbm\u001b[39m\u001b[38;5;130;01m\\\\\u001b[39;00m\u001b[38;5;124mlgbm_model_55_0.93191.pkl\u001b[39m\u001b[38;5;124m\"\u001b[39m)\n\u001b[0;32m      3\u001b[0m model \u001b[38;5;241m=\u001b[39m loaded_data[\u001b[38;5;124m'\u001b[39m\u001b[38;5;124mmodel\u001b[39m\u001b[38;5;124m'\u001b[39m]\n\u001b[0;32m      4\u001b[0m features \u001b[38;5;241m=\u001b[39m loaded_data[\u001b[38;5;124m'\u001b[39m\u001b[38;5;124mfeatures\u001b[39m\u001b[38;5;124m'\u001b[39m]\n",
      "\u001b[1;31mNameError\u001b[0m: name 'joblib' is not defined"
     ]
    }
   ],
   "source": [
    "import job\n",
    "\n",
    "# 加载模型和特征列表\n",
    "loaded_data = joblib.load(\"E:\\竞赛\\服创赛-A08\\model\\\\lgbm\\\\lgbm_model_55_0.93191.pkl\")\n",
    "model = loaded_data['model']\n",
    "features = loaded_data['features']\n",
    "\n",
    "# 现在，使用加载的特征列表来准备你的输入数据\n",
    "# 假设 df 是要进行预测的新数据集\n",
    "df_selected_features = df[features]"
   ]
  },
  {
   "cell_type": "code",
   "execution_count": null,
   "id": "9c1e24ed-2164-4f33-8ccb-150f2c67e4de",
   "metadata": {},
   "outputs": [],
   "source": []
  }
 ],
 "metadata": {
  "kernelspec": {
   "display_name": "Python 3 (ipykernel)",
   "language": "python",
   "name": "python3"
  },
  "language_info": {
   "codemirror_mode": {
    "name": "ipython",
    "version": 3
   },
   "file_extension": ".py",
   "mimetype": "text/x-python",
   "name": "python",
   "nbconvert_exporter": "python",
   "pygments_lexer": "ipython3",
   "version": "3.11.7"
  }
 },
 "nbformat": 4,
 "nbformat_minor": 5
}
