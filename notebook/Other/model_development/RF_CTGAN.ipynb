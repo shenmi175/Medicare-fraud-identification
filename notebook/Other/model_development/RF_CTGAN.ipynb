{
 "cells": [
  {
   "cell_type": "code",
   "execution_count": 1,
   "id": "7208fd62-0a37-4490-8517-56de73308ffb",
   "metadata": {},
   "outputs": [],
   "source": [
    "from sklearn.model_selection import StratifiedKFold, train_test_split, cross_val_score\n",
    "from sklearn.ensemble import RandomForestClassifier\n",
    "from sklearn.metrics import classification_report\n",
    "from sklearn.utils import resample\n",
    "from imblearn.over_sampling import SMOTE\n",
    "import joblib\n",
    "import pandas as pd\n",
    "import numpy as np\n",
    "\n",
    "from sklearn.metrics import roc_auc_score, roc_curve\n",
    "import matplotlib.pyplot as plt\n",
    "import seaborn as sns\n",
    "%matplotlib inline\n",
    "pd.set_option(\"display.max_columns\",100)\n",
    "pd.set_option('display.max_rows',100)\n",
    "\n",
    "from pylab import mpl \n",
    "plt.rcParams['font.sans-serif'] = ['Microsoft YaHei']  # 设置中文字体\n",
    "plt.rcParams['axes.unicode_minus'] = False  # 为了显示负号正常"
   ]
  },
  {
   "cell_type": "code",
   "execution_count": 2,
   "id": "48718a66-1ff3-433c-87b5-0229cdbb278c",
   "metadata": {},
   "outputs": [],
   "source": [
    "data = pd.read_csv(\"E:\\竞赛\\服创赛-A08\\data\\process_data.csv\")"
   ]
  },
  {
   "cell_type": "code",
   "execution_count": 3,
   "id": "380a29e5-51eb-4fb9-ad37-f78e348957f0",
   "metadata": {},
   "outputs": [],
   "source": [
    "# 原始数据集文件路径\n",
    "# original_data_path = '/kaggle/working/欺诈手段特征集.xlsx'\n",
    "original_data = data\n",
    "\n",
    "# 其他文件的路径列表\n",
    "other_files = [\"E:\\竞赛\\服创赛-A08\\data\\ctgan\\\\add_data_2.csv\"]\n",
    "\n",
    "# 读取原始数据集\n",
    "# original_data = pd.read_excel(original_data_path)\n",
    "\n",
    "# 将原始数据集分割为训练集和测试集\n",
    "train_data, test_data = train_test_split(original_data, test_size=0.3, random_state=42)\n",
    "\n",
    "# 初始化一个空的DataFrame来存储类别为1的样本\n",
    "category_1_samples = pd.DataFrame()\n",
    "\n",
    "# 遍历其他文件\n",
    "for file in other_files:\n",
    "    # 读取文件\n",
    "    data = pd.read_csv(file)\n",
    "    \n",
    "    # 提取 RES 列为1的样本\n",
    "    filtered_data = data[data['RES'] == 1]\n",
    "    \n",
    "    # 将这些样本添加到category_1_samples\n",
    "    category_1_samples = pd.concat([category_1_samples, filtered_data], ignore_index=True)\n",
    "\n",
    "# 将提取出的样本与训练集进行拼接\n",
    "combined_train_data = pd.concat([train_data, category_1_samples], ignore_index=True)\n",
    "\n",
    "# 如果需要保存合并后的训练集和测试集\n",
    "combined_train_data.to_csv('E:\\竞赛\\服创赛-A08\\\\data\\\\ctgan\\\\combined_train_dataset.csv', index=False)\n",
    "test_data.to_csv('E:\\竞赛\\服创赛-A08\\\\data\\\\ctgan\\\\test_dataset.csv', index=False)"
   ]
  },
  {
   "cell_type": "code",
   "execution_count": 4,
   "id": "da0aff9f-11e6-41f6-b9b5-ef97331259b5",
   "metadata": {},
   "outputs": [
    {
     "data": {
      "text/plain": [
       "((18568, 81), (4800, 81))"
      ]
     },
     "execution_count": 4,
     "metadata": {},
     "output_type": "execute_result"
    }
   ],
   "source": [
    "data = pd.read_csv('E:\\竞赛\\服创赛-A08\\\\data\\\\ctgan\\\\combined_train_dataset.csv')\n",
    "test = pd.read_csv('E:\\竞赛\\服创赛-A08\\\\data\\\\ctgan\\\\test_dataset.csv')\n",
    "\n",
    "# 删除个人编码特征列\n",
    "data = data.drop(['个人编码'], axis=1)\n",
    "test = test.drop(['个人编码'], axis=1)\n",
    "data.shape,test.shape"
   ]
  },
  {
   "cell_type": "code",
   "execution_count": 5,
   "id": "763af7e2-14a1-4195-a491-1f4781afd64b",
   "metadata": {},
   "outputs": [
    {
     "name": "stdout",
     "output_type": "stream",
     "text": [
      "类别1的样本数： 7924\n",
      "类别0的样本数： 10644\n"
     ]
    }
   ],
   "source": [
    "# 计算类别1的样本数\n",
    "count_class_1 = data[data[\"RES\"] == 1].shape[0]\n",
    "count_class_0 = data[data[\"RES\"] == 0].shape[0]\n",
    "\n",
    "# 打印类别1的样本数\n",
    "print(\"类别1的样本数：\", count_class_1)\n",
    "print(\"类别0的样本数：\", count_class_0)"
   ]
  },
  {
   "cell_type": "code",
   "execution_count": 6,
   "id": "0a600c5f-51c1-4839-a31f-390f6a73a516",
   "metadata": {},
   "outputs": [],
   "source": [
    "# 分离两个类别的样本\n",
    "class_0 = data[data['RES'] == 0]\n",
    "class_1 = data[data['RES'] == 1]\n",
    "\n",
    "# 随机删除class_0的样本直到数量与class_1相同\n",
    "class_0_under = class_0.sample(count_class_1)\n",
    "combined_train_data_balanced = pd.concat([class_0_under, class_1], axis=0)\n",
    "\n",
    "# 混洗数据\n",
    "data = combined_train_data_balanced.sample(frac=1).reset_index(drop=True)"
   ]
  },
  {
   "cell_type": "code",
   "execution_count": 7,
   "id": "e05ba378-9981-4347-90a6-b108668e2015",
   "metadata": {},
   "outputs": [
    {
     "name": "stdout",
     "output_type": "stream",
     "text": [
      "类别1的样本数： 7924\n",
      "类别0的样本数： 7924\n"
     ]
    }
   ],
   "source": [
    "# 计算类别1的样本数\n",
    "count_class_1 = data[data[\"RES\"] == 1].shape[0]\n",
    "count_class_0 = data[data[\"RES\"] == 0].shape[0]\n",
    "\n",
    "# 打印类别1的样本数\n",
    "print(\"类别1的样本数：\", count_class_1)\n",
    "print(\"类别0的样本数：\", count_class_0)"
   ]
  },
  {
   "cell_type": "code",
   "execution_count": 8,
   "id": "bcafe98a-7d0c-46ff-8128-e2084c8131ef",
   "metadata": {},
   "outputs": [
    {
     "name": "stdout",
     "output_type": "stream",
     "text": [
      "文件已成功保存到 E:\\竞赛\\服创赛-A08\\data\\ctgan\\fraud_trick.csv\n"
     ]
    }
   ],
   "source": [
    "# 定义要提取的特征列表\n",
    "features_to_extract = [\n",
    "    # '个人编码',\n",
    "    '就诊次数_SUM',\n",
    "    '药品在总金额中的占比',\n",
    "    '个人支付的药品占比', \n",
    "    '检查总费用在总金额占比', \n",
    "    '治疗费用在总金额占比',\n",
    "    '就诊的月数', \n",
    "    '月就诊天数_MAX', \n",
    "    '月就诊天数_AVG',\n",
    "    '月就诊医院数_MAX', \n",
    "    '月就诊医院数_AVG',\n",
    "    'RES'\n",
    "]\n",
    "\n",
    "# 提取特征\n",
    "data = data[features_to_extract]\n",
    "test = test[features_to_extract]\n",
    "\n",
    "# 保存到新的文件中\n",
    "output_file_path = 'E:\\竞赛\\服创赛-A08\\\\data\\\\ctgan\\\\fraud_trick.csv'  # 保存文件的路径和名称\n",
    "data.to_csv(output_file_path, index=False)\n",
    "\n",
    "print(\"文件已成功保存到\", output_file_path)"
   ]
  },
  {
   "cell_type": "code",
   "execution_count": 9,
   "id": "f8334ea3-491f-4e2a-8353-c8715d36f652",
   "metadata": {},
   "outputs": [
    {
     "data": {
      "text/html": [
       "<div>\n",
       "<style scoped>\n",
       "    .dataframe tbody tr th:only-of-type {\n",
       "        vertical-align: middle;\n",
       "    }\n",
       "\n",
       "    .dataframe tbody tr th {\n",
       "        vertical-align: top;\n",
       "    }\n",
       "\n",
       "    .dataframe thead th {\n",
       "        text-align: right;\n",
       "    }\n",
       "</style>\n",
       "<table border=\"1\" class=\"dataframe\">\n",
       "  <thead>\n",
       "    <tr style=\"text-align: right;\">\n",
       "      <th></th>\n",
       "      <th>就诊次数_SUM</th>\n",
       "      <th>药品在总金额中的占比</th>\n",
       "      <th>个人支付的药品占比</th>\n",
       "      <th>检查总费用在总金额占比</th>\n",
       "      <th>治疗费用在总金额占比</th>\n",
       "      <th>就诊的月数</th>\n",
       "      <th>月就诊天数_MAX</th>\n",
       "      <th>月就诊天数_AVG</th>\n",
       "      <th>月就诊医院数_MAX</th>\n",
       "      <th>月就诊医院数_AVG</th>\n",
       "      <th>RES</th>\n",
       "    </tr>\n",
       "  </thead>\n",
       "  <tbody>\n",
       "    <tr>\n",
       "      <th>0</th>\n",
       "      <td>34</td>\n",
       "      <td>0.853894</td>\n",
       "      <td>0.001061</td>\n",
       "      <td>-0.000360</td>\n",
       "      <td>0.270968</td>\n",
       "      <td>4</td>\n",
       "      <td>8</td>\n",
       "      <td>4.891582</td>\n",
       "      <td>2</td>\n",
       "      <td>2.091848</td>\n",
       "      <td>1</td>\n",
       "    </tr>\n",
       "    <tr>\n",
       "      <th>1</th>\n",
       "      <td>52</td>\n",
       "      <td>0.929460</td>\n",
       "      <td>0.000524</td>\n",
       "      <td>0.024581</td>\n",
       "      <td>0.019977</td>\n",
       "      <td>6</td>\n",
       "      <td>9</td>\n",
       "      <td>8.166667</td>\n",
       "      <td>4</td>\n",
       "      <td>3.166667</td>\n",
       "      <td>0</td>\n",
       "    </tr>\n",
       "    <tr>\n",
       "      <th>2</th>\n",
       "      <td>97</td>\n",
       "      <td>0.958878</td>\n",
       "      <td>-0.001483</td>\n",
       "      <td>0.041135</td>\n",
       "      <td>0.017723</td>\n",
       "      <td>6</td>\n",
       "      <td>19</td>\n",
       "      <td>16.367600</td>\n",
       "      <td>3</td>\n",
       "      <td>1.747884</td>\n",
       "      <td>1</td>\n",
       "    </tr>\n",
       "    <tr>\n",
       "      <th>3</th>\n",
       "      <td>8</td>\n",
       "      <td>0.867332</td>\n",
       "      <td>0.000000</td>\n",
       "      <td>0.024696</td>\n",
       "      <td>0.020580</td>\n",
       "      <td>4</td>\n",
       "      <td>3</td>\n",
       "      <td>2.000000</td>\n",
       "      <td>2</td>\n",
       "      <td>1.250000</td>\n",
       "      <td>0</td>\n",
       "    </tr>\n",
       "    <tr>\n",
       "      <th>4</th>\n",
       "      <td>77</td>\n",
       "      <td>0.873594</td>\n",
       "      <td>0.030505</td>\n",
       "      <td>0.022378</td>\n",
       "      <td>0.044335</td>\n",
       "      <td>6</td>\n",
       "      <td>14</td>\n",
       "      <td>11.833333</td>\n",
       "      <td>3</td>\n",
       "      <td>2.333333</td>\n",
       "      <td>0</td>\n",
       "    </tr>\n",
       "  </tbody>\n",
       "</table>\n",
       "</div>"
      ],
      "text/plain": [
       "   就诊次数_SUM  药品在总金额中的占比  个人支付的药品占比  检查总费用在总金额占比  治疗费用在总金额占比  就诊的月数  月就诊天数_MAX  \\\n",
       "0        34    0.853894   0.001061    -0.000360    0.270968      4          8   \n",
       "1        52    0.929460   0.000524     0.024581    0.019977      6          9   \n",
       "2        97    0.958878  -0.001483     0.041135    0.017723      6         19   \n",
       "3         8    0.867332   0.000000     0.024696    0.020580      4          3   \n",
       "4        77    0.873594   0.030505     0.022378    0.044335      6         14   \n",
       "\n",
       "   月就诊天数_AVG  月就诊医院数_MAX  月就诊医院数_AVG  RES  \n",
       "0   4.891582           2    2.091848    1  \n",
       "1   8.166667           4    3.166667    0  \n",
       "2  16.367600           3    1.747884    1  \n",
       "3   2.000000           2    1.250000    0  \n",
       "4  11.833333           3    2.333333    0  "
      ]
     },
     "execution_count": 9,
     "metadata": {},
     "output_type": "execute_result"
    }
   ],
   "source": [
    "data.head()"
   ]
  },
  {
   "cell_type": "code",
   "execution_count": 10,
   "id": "b0cb9659-fca7-4c58-a531-1c2349efa34a",
   "metadata": {},
   "outputs": [],
   "source": [
    "def strategy_4(model, X_test, y_test, thresholds):\n",
    "\n",
    "    classification_reports = {}\n",
    "    for thresh in thresholds:\n",
    "        # 以概率形式获取预测结果\n",
    "        y_probs = model.predict_proba(X_test)[:, 1]  # 获取正类的概率\n",
    "        # 应用阈值\n",
    "        y_pred_thresh = np.where(y_probs > thresh, 1, 0)\n",
    "        # 生成并存储分类报告\n",
    "        classification_reports[thresh] = classification_report(y_test, y_pred_thresh)\n",
    "\n",
    "    return classification_reports"
   ]
  },
  {
   "cell_type": "code",
   "execution_count": 11,
   "id": "7508d9ca-07f3-4f08-92d6-dfb746ea3e29",
   "metadata": {},
   "outputs": [
    {
     "data": {
      "text/plain": [
       "(15848, 10)"
      ]
     },
     "execution_count": 11,
     "metadata": {},
     "output_type": "execute_result"
    }
   ],
   "source": [
    "# 分离特征和目标变量\n",
    "X = data.drop('RES', axis=1)\n",
    "y = data['RES']\n",
    "\n",
    "# 分离类别\n",
    "data_majority = data[data.RES == 0]\n",
    "data_minority = data[data.RES == 1]\n",
    "\n",
    "X.shape"
   ]
  },
  {
   "cell_type": "code",
   "execution_count": 12,
   "id": "5532b77d-ee44-414c-99d2-0a2dc87c632c",
   "metadata": {},
   "outputs": [],
   "source": [
    "model = RandomForestClassifier(\n",
    "    n_estimators=100,\n",
    "    #max_depth=5,\n",
    "    random_state=123,\n",
    "    n_jobs=-1\n",
    ")"
   ]
  },
  {
   "cell_type": "code",
   "execution_count": 13,
   "id": "6a01bad5-69f1-441c-850b-80f22418565d",
   "metadata": {},
   "outputs": [],
   "source": [
    "# X_train, X_test, y_train, y_test = train_test_split(X, y, test_size=0.3,random_state=42)\n",
    "\n",
    "# X_train.shape"
   ]
  },
  {
   "cell_type": "code",
   "execution_count": 14,
   "id": "998bf340-c8a4-464e-b071-852ae8eb048d",
   "metadata": {},
   "outputs": [],
   "source": [
    "model = model.fit(X,y)"
   ]
  },
  {
   "cell_type": "code",
   "execution_count": 15,
   "id": "303903cf-f354-48db-93f8-48c967bda2fc",
   "metadata": {},
   "outputs": [],
   "source": [
    "# 分离特征和目标变量\n",
    "X_test = test.drop('RES', axis=1)\n",
    "y_test = test['RES']"
   ]
  },
  {
   "cell_type": "code",
   "execution_count": 16,
   "id": "64642f27-eb82-4a69-8bfa-8f98fcea312a",
   "metadata": {},
   "outputs": [
    {
     "name": "stdout",
     "output_type": "stream",
     "text": [
      "Threshold: 0.5\n",
      "               precision    recall  f1-score   support\n",
      "\n",
      "           0       0.97      0.97      0.97      4563\n",
      "           1       0.44      0.42      0.43       237\n",
      "\n",
      "    accuracy                           0.95      4800\n",
      "   macro avg       0.71      0.70      0.70      4800\n",
      "weighted avg       0.94      0.95      0.94      4800\n",
      "\n",
      "Threshold: 0.55\n",
      "               precision    recall  f1-score   support\n",
      "\n",
      "           0       0.97      0.98      0.97      4563\n",
      "           1       0.50      0.41      0.45       237\n",
      "\n",
      "    accuracy                           0.95      4800\n",
      "   macro avg       0.73      0.69      0.71      4800\n",
      "weighted avg       0.95      0.95      0.95      4800\n",
      "\n",
      "Threshold: 0.6\n",
      "               precision    recall  f1-score   support\n",
      "\n",
      "           0       0.97      0.98      0.98      4563\n",
      "           1       0.54      0.38      0.45       237\n",
      "\n",
      "    accuracy                           0.95      4800\n",
      "   macro avg       0.76      0.68      0.71      4800\n",
      "weighted avg       0.95      0.95      0.95      4800\n",
      "\n",
      "Threshold: 0.65\n",
      "               precision    recall  f1-score   support\n",
      "\n",
      "           0       0.97      0.99      0.98      4563\n",
      "           1       0.57      0.35      0.43       237\n",
      "\n",
      "    accuracy                           0.95      4800\n",
      "   macro avg       0.77      0.67      0.70      4800\n",
      "weighted avg       0.95      0.95      0.95      4800\n",
      "\n",
      "Threshold: 0.7\n",
      "               precision    recall  f1-score   support\n",
      "\n",
      "           0       0.97      0.99      0.98      4563\n",
      "           1       0.62      0.34      0.44       237\n",
      "\n",
      "    accuracy                           0.96      4800\n",
      "   macro avg       0.79      0.66      0.71      4800\n",
      "weighted avg       0.95      0.96      0.95      4800\n",
      "\n",
      "Threshold: 0.75\n",
      "               precision    recall  f1-score   support\n",
      "\n",
      "           0       0.96      0.99      0.98      4563\n",
      "           1       0.62      0.25      0.36       237\n",
      "\n",
      "    accuracy                           0.96      4800\n",
      "   macro avg       0.79      0.62      0.67      4800\n",
      "weighted avg       0.95      0.96      0.95      4800\n",
      "\n"
     ]
    }
   ],
   "source": [
    "thresholds = [ 0.5,0.55, 0.6,0.65, 0.7,0.75]\n",
    "reports = strategy_4(model,X_test, y_test, thresholds)\n",
    "\n",
    "# 输出每个阈值下的分类报告\n",
    "for thresh, report in reports.items():\n",
    "    print(f\"Threshold: {thresh}\\n\", report)"
   ]
  },
  {
   "cell_type": "code",
   "execution_count": 17,
   "id": "d7ddd21a-16ee-4906-bfde-de1326d655df",
   "metadata": {},
   "outputs": [
    {
     "data": {
      "text/plain": [
       "'              precision    recall  f1-score   support\\n\\n           0       0.96      0.99      0.98      4563\\n           1       0.62      0.25      0.36       237\\n\\n    accuracy                           0.96      4800\\n   macro avg       0.79      0.62      0.67      4800\\nweighted avg       0.95      0.96      0.95      4800\\n'"
      ]
     },
     "execution_count": 17,
     "metadata": {},
     "output_type": "execute_result"
    }
   ],
   "source": [
    "thresholds = [0.6]\n",
    "reports = strategy_4(model,X_test, y_test,thresholds)\n",
    "report"
   ]
  },
  {
   "cell_type": "code",
   "execution_count": 18,
   "id": "81c05ae6-5b4a-48f3-988c-5edf9bf41663",
   "metadata": {},
   "outputs": [
    {
     "name": "stdout",
     "output_type": "stream",
     "text": [
      "AUC: 0.8171233301061278\n"
     ]
    }
   ],
   "source": [
    "y_pred_proba = model.predict_proba(X_test)[:, 1]\n",
    "\n",
    "# 计算AUC\n",
    "auc = roc_auc_score(y_test, y_pred_proba)\n",
    "print(f\"AUC: {auc}\")"
   ]
  },
  {
   "cell_type": "code",
   "execution_count": 19,
   "id": "94cb9bb7-f653-44ce-8b07-c548b7342d00",
   "metadata": {},
   "outputs": [
    {
     "data": {
      "image/png": "[encoded data removed]",
      "text/plain": [
       "<Figure size 800x600 with 1 Axes>"
      ]
     },
     "metadata": {},
     "output_type": "display_data"
    }
   ],
   "source": [
    "# 获取真正率（TPR）和假正率（FPR）以及阈值用于绘制ROC曲线\n",
    "fpr, tpr, thresholds = roc_curve(y_test, y_pred_proba)\n",
    "\n",
    "# 绘制ROC曲线\n",
    "plt.figure(figsize=(8, 6))\n",
    "plt.plot(fpr, tpr, label=f'ROC Curve (area = {auc:.2f})')\n",
    "plt.plot([0, 1], [0, 1], 'k--')  # 随机概率的对角线\n",
    "plt.xlim([0.0, 1.0])\n",
    "plt.ylim([0.0, 1.05])\n",
    "plt.xlabel('False Positive Rate')\n",
    "plt.ylabel('True Positive Rate')\n",
    "plt.title('Receiver Operating Characteristic (ROC)')\n",
    "plt.legend(loc=\"lower right\")\n",
    "plt.show()"
   ]
  },
  {
   "cell_type": "code",
   "execution_count": 20,
   "id": "8a953dbd-5090-4ad5-9788-43d2cff912c6",
   "metadata": {},
   "outputs": [
    {
     "name": "stdout",
     "output_type": "stream",
     "text": [
      "AUC: 1.0\n"
     ]
    }
   ],
   "source": [
    "# 评估模型在训练集上的性能\n",
    "\n",
    "y_pred_proba = model.predict_proba(X)[:, 1]\n",
    "\n",
    "# 计算AUC\n",
    "auc = roc_auc_score(y, y_pred_proba)\n",
    "print(f\"AUC: {auc}\")"
   ]
  },
  {
   "cell_type": "code",
   "execution_count": 23,
   "id": "93671902-31e2-42fd-9e8c-84140ffa3d76",
   "metadata": {},
   "outputs": [
    {
     "name": "stdout",
     "output_type": "stream",
     "text": [
      "Threshold: 0.5\n",
      "               precision    recall  f1-score   support\n",
      "\n",
      "           0       1.00      1.00      1.00      7924\n",
      "           1       1.00      1.00      1.00      7924\n",
      "\n",
      "    accuracy                           1.00     15848\n",
      "   macro avg       1.00      1.00      1.00     15848\n",
      "weighted avg       1.00      1.00      1.00     15848\n",
      "\n",
      "Threshold: 0.6\n",
      "               precision    recall  f1-score   support\n",
      "\n",
      "           0       1.00      1.00      1.00      7924\n",
      "           1       1.00      1.00      1.00      7924\n",
      "\n",
      "    accuracy                           1.00     15848\n",
      "   macro avg       1.00      1.00      1.00     15848\n",
      "weighted avg       1.00      1.00      1.00     15848\n",
      "\n"
     ]
    }
   ],
   "source": [
    "thresholds = [ 0.5,0.6]\n",
    "reports = strategy_4(model,X, y, thresholds)\n",
    "\n",
    "# 输出每个阈值下的分类报告\n",
    "for thresh, report in reports.items():\n",
    "    print(f\"Threshold: {thresh}\\n\", report)"
   ]
  },
  {
   "cell_type": "code",
   "execution_count": 22,
   "id": "4f0f1959-8dba-43f3-a07a-e206ef304c7c",
   "metadata": {},
   "outputs": [
    {
     "data": {
      "text/plain": [
       "array(['就诊次数_SUM', '个人支付的药品占比', '月就诊天数_MAX', '月就诊医院数_AVG', '检查总费用在总金额占比',\n",
       "       '月就诊天数_AVG', '治疗费用在总金额占比', '就诊的月数', '药品在总金额中的占比', '月就诊医院数_MAX'],\n",
       "      dtype=object)"
      ]
     },
     "execution_count": 22,
     "metadata": {},
     "output_type": "execute_result"
    }
   ],
   "source": [
    "# 获取特征重要性\n",
    "feature_importances = model.feature_importances_\n",
    "\n",
    "# 排序特征重要性\n",
    "sorted_idx = np.argsort(feature_importances)[::-1]\n",
    "\n",
    "# 取出前二十个重要特征\n",
    "top_20_features = np.array(X.columns)[sorted_idx][:20]\n",
    "\n",
    "top_20_features"
   ]
  },
  {
   "cell_type": "code",
   "execution_count": null,
   "id": "c27cbeba-c2ee-42c4-9f11-d694cb397f00",
   "metadata": {},
   "outputs": [],
   "source": []
  },
  {
   "cell_type": "code",
   "execution_count": null,
   "id": "f0b1e4cd-7cbc-413b-9c08-ddf54e1f7d19",
   "metadata": {},
   "outputs": [],
   "source": []
  }
 ],
 "metadata": {
  "kernelspec": {
   "display_name": "Python 3 (ipykernel)",
   "language": "python",
   "name": "python3"
  },
  "language_info": {
   "codemirror_mode": {
    "name": "ipython",
    "version": 3
   },
   "file_extension": ".py",
   "mimetype": "text/x-python",
   "name": "python",
   "nbconvert_exporter": "python",
   "pygments_lexer": "ipython3",
   "version": "3.11.7"
  }
 },
 "nbformat": 4,
 "nbformat_minor": 5
}
