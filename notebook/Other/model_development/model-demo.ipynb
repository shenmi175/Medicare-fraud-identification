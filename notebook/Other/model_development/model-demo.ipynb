{
 "cells": [
  {
   "cell_type": "code",
   "execution_count": 1,
   "id": "bc8003d2",
   "metadata": {},
   "outputs": [],
   "source": [
    "import pandas as pd\n",
    "import numpy as np\n",
    "from sklearn.model_selection import train_test_split\n",
    "from sklearn.ensemble import RandomForestClassifier\n",
    "from sklearn.ensemble import GradientBoostingClassifier\n",
    "from sklearn.metrics import classification_report, accuracy_score, confusion_matrix\n",
    "from sklearn.utils import resample\n",
    "from sklearn.preprocessing import StandardScaler\n",
    "from sklearn.feature_selection import VarianceThreshold"
   ]
  },
  {
   "cell_type": "markdown",
   "id": "24874787",
   "metadata": {},
   "source": [
    "# model-1 随机森林"
   ]
  },
  {
   "cell_type": "code",
   "execution_count": 2,
   "id": "3d1b870f",
   "metadata": {},
   "outputs": [
    {
     "name": "stdout",
     "output_type": "stream",
     "text": [
      "分类报告:\n",
      "               precision    recall  f1-score   support\n",
      "\n",
      "           0       0.99      0.80      0.89      3048\n",
      "           1       0.18      0.91      0.30       152\n",
      "\n",
      "    accuracy                           0.80      3200\n",
      "   macro avg       0.59      0.85      0.59      3200\n",
      "weighted avg       0.96      0.80      0.86      3200\n",
      "\n",
      "准确度: 0.803125\n",
      "混淆矩阵:\n",
      " [[2432  616]\n",
      " [  14  138]]\n"
     ]
    }
   ],
   "source": [
    "# 加载数据\n",
    "file_path = 'E:\\竞赛\\服创赛-A08\\data\\A08.csv'  \n",
    "data = pd.read_csv(file_path)\n",
    "\n",
    "# 数据预处理\n",
    "# 分离特征和目标变量\n",
    "X = data.drop(columns=['RES'])\n",
    "y = data['RES']\n",
    "\n",
    "# 移除准常数特征\n",
    "selector = VarianceThreshold(threshold=0.01)\n",
    "selector.fit(X)\n",
    "X = X.loc[:, selector.get_support()]\n",
    "\n",
    "# 填充缺失值\n",
    "X.fillna(0, inplace=True)\n",
    "\n",
    "# 数据标准化\n",
    "scaler = StandardScaler()\n",
    "X_scaled = scaler.fit_transform(X)\n",
    "\n",
    "# 划分训练集和测试集\n",
    "X_train, X_test, y_train, y_test = train_test_split(X_scaled, y, test_size=0.2, random_state=42)\n",
    "\n",
    "# 重采样 - 结合过采样和欠采样\n",
    "# 欠采样多数类\n",
    "n_minority = len(y_train[y_train == 1])\n",
    "X_train_majority = X_train[y_train == 0]\n",
    "y_train_majority = y_train[y_train == 0]\n",
    "X_train_majority_downsampled, y_train_majority_downsampled = resample(X_train_majority, y_train_majority, \n",
    "                                                                      replace=False, \n",
    "                                                                      n_samples=n_minority, \n",
    "                                                                      random_state=42)\n",
    "\n",
    "# 结合少数类和欠采样后的多数类\n",
    "X_train_balanced = np.vstack((X_train_majority_downsampled, X_train[y_train == 1]))\n",
    "y_train_balanced = np.hstack((y_train_majority_downsampled, y_train[y_train == 1]))\n",
    "\n",
    "# 过采样少数类\n",
    "X_train_minority = X_train[y_train == 1]\n",
    "y_train_minority = y_train[y_train == 1]\n",
    "X_train_minority_oversampled, y_train_minority_oversampled = resample(X_train_minority, y_train_minority, \n",
    "                                                                      replace=True, \n",
    "                                                                      n_samples=len(y_train_majority_downsampled), \n",
    "                                                                      random_state=42)\n",
    "\n",
    "# 结合过采样的少数类和之前的数据\n",
    "X_train_resampled = np.vstack((X_train_balanced, X_train_minority_oversampled))\n",
    "y_train_resampled = np.hstack((y_train_balanced, y_train_minority_oversampled))\n",
    "\n",
    "# 训练随机森林模型\n",
    "rf = RandomForestClassifier(random_state=42)\n",
    "rf.fit(X_train_resampled, y_train_resampled)\n",
    "\n",
    "# 预测和评估\n",
    "y_pred_rf = rf.predict(X_test)\n",
    "report_rf = classification_report(y_test, y_pred_rf)\n",
    "accuracy_rf = accuracy_score(y_test, y_pred_rf)\n",
    "cm_rf = confusion_matrix(y_test, y_pred_rf)\n",
    "\n",
    "# 输出结果\n",
    "print(\"分类报告:\\n\", report_rf)\n",
    "print(\"准确度:\", accuracy_rf)\n",
    "print(\"混淆矩阵:\\n\", cm_rf)\n"
   ]
  },
  {
   "cell_type": "markdown",
   "id": "73eb3ca5",
   "metadata": {},
   "source": [
    "# model-2 随机森林\n"
   ]
  },
  {
   "cell_type": "code",
   "execution_count": 3,
   "id": "e4d6013a",
   "metadata": {},
   "outputs": [],
   "source": [
    "# 删除指定的列\n",
    "columns_to_drop = ['检查费自费金额_SUM', '贵重检查费金额_SUM', '手术费自费金额_SUM',\n",
    "                  '治疗费自费金额_SUM','手术费发生金额_SUM','手术费申报金额_SUM','床位费发生金额_SUM','床位费申报金额_SUM',\n",
    "                   '高价材料发生金额_SUM','成分输血申报金额_SUM','其它申报金额_SUM','起付线标准金额_MAX','最高限额以上金额_SUM',\n",
    "                   '公务员医疗补助基金支付金额_SUM','残疾军人补助_SUM','城乡优抚补助_SUM','BZ_城乡优抚'\n",
    "                  ]\n",
    "\n",
    "# 待删除列:一天去两家医院的天数,中草药费发生金额_SUM 医用材料费自费金额_SUM 其它发生金额_SUM 医疗救助个人按比例负担金额_SUM\n",
    "# 城乡救助补助金额_SUM 补助审批金额_SUM   医疗救助医院申请_SUM  民政救助补助_SUM  个人支付检查费用占比  个人支付治疗费用占比  BZ_民政救助\n",
    "#   是否挂号 \n",
    "data_dropped = data.drop(columns=columns_to_drop)\n",
    "\n",
    "# 将处理后的数据集写入新的CSV文件\n",
    "output_file_path = 'E:\\\\竞赛\\\\服创赛-A08\\\\data\\\\processed_A08-1.csv'\n",
    "data_dropped.to_csv(output_file_path, index=False)"
   ]
  },
  {
   "cell_type": "code",
   "execution_count": 4,
   "id": "8d0d7daf",
   "metadata": {},
   "outputs": [
    {
     "data": {
      "text/plain": [
       "Index(['个人编码', '一天去两家医院的天数', '就诊的月数', '月就诊天数_MAX', '月就诊天数_AVG', '月就诊医院数_MAX',\n",
       "       '月就诊医院数_AVG', '就诊次数_SUM', '月就诊次数_MAX', '月就诊次数_AVG', '月统筹金额_MAX',\n",
       "       '月统筹金额_AVG', '月药品金额_MAX', '月药品金额_AVG', '医院_就诊天数_MAX', '医院_就诊天数_AVG',\n",
       "       '医院_统筹金_MAX', '医院_统筹金_AVG', '医院_药品_MAX', '医院_药品_AVG', '医院编码_NN',\n",
       "       '顺序号_NN', '交易时间DD_NN', '交易时间YYYY_NN', '交易时间YYYYMM_NN', '住院天数_SUM',\n",
       "       '个人账户金额_SUM', '统筹支付金额_SUM', 'ALL_SUM', '可用账户报销金额_SUM', '药品费发生金额_SUM',\n",
       "       '药品费自费金额_SUM', '药品费申报金额_SUM', '贵重药品发生金额_SUM', '中成药费发生金额_SUM',\n",
       "       '中草药费发生金额_SUM', '检查费发生金额_SUM', '检查费申报金额_SUM', '治疗费发生金额_SUM',\n",
       "       '治疗费申报金额_SUM', '医用材料发生金额_SUM', '医用材料费自费金额_SUM', '其它发生金额_SUM',\n",
       "       '一次性医用材料申报金额_SUM', '起付标准以上自负比例金额_SUM', '医疗救助个人按比例负担金额_SUM',\n",
       "       '基本统筹基金支付金额_SUM', '城乡救助补助金额_SUM', '基本个人账户支付_SUM', '非账户支付金额_SUM',\n",
       "       '本次审批金额_SUM', '补助审批金额_SUM', '医疗救助医院申请_SUM', '民政救助补助_SUM', '出院诊断病种名称_NN',\n",
       "       '出院诊断LENTH_MAX', '药品在总金额中的占比', '个人支付的药品占比', '检查总费用在总金额占比', '个人支付检查费用占比',\n",
       "       '治疗费用在总金额占比', '个人支付治疗费用占比', 'BZ_民政救助', '是否挂号', 'RES'],\n",
       "      dtype='object')"
      ]
     },
     "execution_count": 4,
     "metadata": {},
     "output_type": "execute_result"
    }
   ],
   "source": [
    "# 加载数据\n",
    "file_path = 'E:\\\\竞赛\\\\服创赛-A08\\\\data\\\\processed_A08-1.csv' \n",
    "data = pd.read_csv(file_path)\n",
    "\n",
    "data.columns\n"
   ]
  },
  {
   "cell_type": "code",
   "execution_count": 5,
   "id": "93ba103c",
   "metadata": {},
   "outputs": [
    {
     "name": "stdout",
     "output_type": "stream",
     "text": [
      "分类报告:\n",
      "               precision    recall  f1-score   support\n",
      "\n",
      "           0       0.99      0.80      0.89      3048\n",
      "           1       0.18      0.89      0.30       152\n",
      "\n",
      "    accuracy                           0.81      3200\n",
      "   macro avg       0.59      0.85      0.60      3200\n",
      "weighted avg       0.96      0.81      0.86      3200\n",
      "\n",
      "准确度: 0.80625\n",
      "混淆矩阵:\n",
      " [[2444  604]\n",
      " [  16  136]]\n"
     ]
    }
   ],
   "source": [
    "# 数据预处理\n",
    "# 分离特征和目标变量\n",
    "X = data.drop(columns=['RES'])\n",
    "y = data['RES']\n",
    "\n",
    "# 移除准常数特征\n",
    "selector = VarianceThreshold(threshold=0.01)\n",
    "selector.fit(X)\n",
    "X = X.loc[:, selector.get_support()]\n",
    "\n",
    "# 填充缺失值\n",
    "X.fillna(0, inplace=True)\n",
    "\n",
    "# 数据标准化\n",
    "scaler = StandardScaler()\n",
    "X_scaled = scaler.fit_transform(X)\n",
    "\n",
    "# 划分训练集和测试集\n",
    "X_train, X_test, y_train, y_test = train_test_split(X_scaled, y, test_size=0.2, random_state=42)\n",
    "\n",
    "# 重采样 - 结合过采样和欠采样\n",
    "# 欠采样多数类\n",
    "n_minority = len(y_train[y_train == 1])\n",
    "X_train_majority = X_train[y_train == 0]\n",
    "y_train_majority = y_train[y_train == 0]\n",
    "X_train_majority_downsampled, y_train_majority_downsampled = resample(X_train_majority, y_train_majority, \n",
    "                                                                      replace=False, \n",
    "                                                                      n_samples=n_minority, \n",
    "                                                                      random_state=42)\n",
    "\n",
    "# 结合少数类和欠采样后的多数类\n",
    "X_train_balanced = np.vstack((X_train_majority_downsampled, X_train[y_train == 1]))\n",
    "y_train_balanced = np.hstack((y_train_majority_downsampled, y_train[y_train == 1]))\n",
    "\n",
    "# 过采样少数类\n",
    "X_train_minority = X_train[y_train == 1]\n",
    "y_train_minority = y_train[y_train == 1]\n",
    "X_train_minority_oversampled, y_train_minority_oversampled = resample(X_train_minority, y_train_minority, \n",
    "                                                                      replace=True, \n",
    "                                                                      n_samples=len(y_train_majority_downsampled), \n",
    "                                                                      random_state=42)\n",
    "\n",
    "# 结合过采样的少数类和之前的数据\n",
    "X_train_resampled = np.vstack((X_train_balanced, X_train_minority_oversampled))\n",
    "y_train_resampled = np.hstack((y_train_balanced, y_train_minority_oversampled))\n",
    "\n",
    "# 训练随机森林模型\n",
    "rf = RandomForestClassifier(random_state=42)\n",
    "rf.fit(X_train_resampled, y_train_resampled)\n",
    "\n",
    "# 预测和评估\n",
    "y_pred_rf = rf.predict(X_test)\n",
    "report_rf = classification_report(y_test, y_pred_rf)\n",
    "accuracy_rf = accuracy_score(y_test, y_pred_rf)\n",
    "cm_rf = confusion_matrix(y_test, y_pred_rf)\n",
    "\n",
    "# 输出结果\n",
    "print(\"分类报告:\\n\", report_rf)\n",
    "print(\"准确度:\", accuracy_rf)\n",
    "print(\"混淆矩阵:\\n\", cm_rf)"
   ]
  },
  {
   "cell_type": "markdown",
   "id": "c47ebd91",
   "metadata": {},
   "source": [
    "# model-3 GDBT"
   ]
  },
  {
   "cell_type": "code",
   "execution_count": 6,
   "id": "c2fac9ff",
   "metadata": {},
   "outputs": [],
   "source": [
    "# 加载数据\n",
    "file_path = 'E:\\\\竞赛\\\\服创赛-A08\\\\data\\\\processed_A08-1.csv' \n",
    "data = pd.read_csv(file_path)\n"
   ]
  },
  {
   "cell_type": "code",
   "execution_count": 7,
   "id": "35707ea0",
   "metadata": {},
   "outputs": [
    {
     "name": "stdout",
     "output_type": "stream",
     "text": [
      "混淆矩阵 - 欠采样:\n",
      "              precision    recall  f1-score   support\n",
      "\n",
      "           0       0.99      0.85      0.91      4563\n",
      "           1       0.22      0.81      0.34       237\n",
      "\n",
      "    accuracy                           0.85      4800\n",
      "   macro avg       0.60      0.83      0.63      4800\n",
      "weighted avg       0.95      0.85      0.88      4800\n",
      "\n",
      "[[3872  691]\n",
      " [  46  191]]\n"
     ]
    }
   ],
   "source": [
    "from imblearn.under_sampling import RandomUnderSampler\n",
    "\n",
    "# 使用0填充NaN值\n",
    "data.fillna(0, inplace=True)\n",
    "\n",
    "# 分离特征和目标变量\n",
    "X = data.drop('RES', axis=1)\n",
    "y = data['RES']\n",
    "\n",
    "# 拆分数据集为训练集和测试集\n",
    "X_train, X_test, y_train, y_test = train_test_split(X, y, test_size=0.3, random_state=42)\n",
    "\n",
    "# 使用RandomUnderSampler进行欠采样\n",
    "rus = RandomUnderSampler(random_state=42)\n",
    "X_rus, y_rus = rus.fit_resample(X_train, y_train)\n",
    "\n",
    "# 使用GBDT构建模型 - 欠采样数据\n",
    "gbdt_rus = GradientBoostingClassifier(random_state=42)\n",
    "gbdt_rus.fit(X_rus, y_rus)\n",
    "\n",
    "# 对测试集进行预测\n",
    "y_pred_rus = gbdt_rus.predict(X_test)\n",
    "\n",
    "# 评估模型 - 混淆矩阵\n",
    "cm_rus = confusion_matrix(y_test, y_pred_rus)\n",
    "\n",
    "# 打印混淆矩阵\n",
    "print(\"混淆矩阵 - 欠采样:\")\n",
    "report_rf = classification_report(y_test, y_pred_rus)\n",
    "print(report_rf )\n",
    "print(cm_rus)"
   ]
  },
  {
   "cell_type": "markdown",
   "id": "da991509",
   "metadata": {},
   "source": [
    "## GBDT-自定义样本数"
   ]
  },
  {
   "cell_type": "code",
   "execution_count": 8,
   "id": "a42aab2c",
   "metadata": {},
   "outputs": [
    {
     "name": "stdout",
     "output_type": "stream",
     "text": [
      "混淆矩阵 - 欠采样:\n",
      "              precision    recall  f1-score   support\n",
      "\n",
      "           0       0.97      0.99      0.98      4563\n",
      "           1       0.70      0.38      0.50       237\n",
      "\n",
      "    accuracy                           0.96      4800\n",
      "   macro avg       0.83      0.69      0.74      4800\n",
      "weighted avg       0.96      0.96      0.96      4800\n",
      "\n",
      "[[4524   39]\n",
      " [ 146   91]]\n"
     ]
    }
   ],
   "source": [
    "# 分离特征和目标变量\n",
    "X = data.drop('RES', axis=1)\n",
    "y = data['RES']\n",
    "\n",
    "# 拆分数据集为训练集和测试集\n",
    "X_train, X_test, y_train, y_test = train_test_split(X, y, test_size=0.3, random_state=42)\n",
    "\n",
    "# 定义欠采样策略 - 选择欺诈样本中的600个\n",
    "#sampling_strategy = {1: 400, 0: y_train.value_counts()[0]}  # 保持非欺诈样本的原始数量\n",
    "sampling_strategy = {1: 400, 0: 6000}  # 欺诈样本600个，非欺诈样本600个\n",
    "\n",
    "# 使用RandomUnderSampler进行欠采样\n",
    "rus = RandomUnderSampler(sampling_strategy=sampling_strategy, random_state=42)\n",
    "X_rus, y_rus = rus.fit_resample(X_train, y_train)\n",
    "\n",
    "# 使用GBDT构建模型 - 欠采样数据\n",
    "gbdt_rus = GradientBoostingClassifier(random_state=42)\n",
    "gbdt_rus.fit(X_rus, y_rus)\n",
    "\n",
    "# 对测试集进行预测\n",
    "y_pred_rus = gbdt_rus.predict(X_test)\n",
    "\n",
    "# 评估模型 - 混淆矩阵\n",
    "cm_rus = confusion_matrix(y_test, y_pred_rus)\n",
    "\n",
    "# 打印混淆矩阵\n",
    "print(\"混淆矩阵 - 欠采样:\")\n",
    "report_rf = classification_report(y_test, y_pred_rus)\n",
    "print(report_rf )\n",
    "print(cm_rus)"
   ]
  },
  {
   "cell_type": "markdown",
   "id": "19f00a73",
   "metadata": {},
   "source": [
    "learning_rate: 这个参数控制每棵树对最终结果的贡献。较小的值意味着需要更多的树来进行模型训练，通常可以提高模型的性能，但同时也增加了计算的复杂性。\n",
    "\n",
    "n_estimators: 决定了要使用的树的数量。较多的树可以提高性能，但同样会增加计算量和过拟合的风险。\n",
    "\n",
    "max_depth: 树的最大深度。更深的树可以捕获更复杂的模式，但也更容易过拟合。\n",
    "\n",
    "min_samples_split: 分割内部节点所需的最少样本数。这个值越大，树的生长越受限制，有助于防止过拟合。\n",
    "\n",
    "min_samples_leaf: 叶节点上所需的最小样本数。设置较大的值可以平滑模型，特别是对于回归。\n",
    "\n",
    "subsample: 用于拟合单个基础学习器的样本比例。如果小于1.0，则可以增加模型的随机性，从而有助于减少过拟合。\n",
    "\n",
    "max_features: 寻找最佳分割时要考虑的特征数量。这也是一个控制过拟合的好方法。"
   ]
  },
  {
   "cell_type": "code",
   "execution_count": 9,
   "id": "74601fc8",
   "metadata": {},
   "outputs": [
    {
     "name": "stdout",
     "output_type": "stream",
     "text": [
      "\n",
      "混淆矩阵 - 代价敏感学习:\n",
      "              precision    recall  f1-score   support\n",
      "\n",
      "           0       0.97      0.99      0.98      4563\n",
      "           1       0.74      0.40      0.52       237\n",
      "\n",
      "    accuracy                           0.96      4800\n",
      "   macro avg       0.85      0.70      0.75      4800\n",
      "weighted avg       0.96      0.96      0.96      4800\n",
      "\n",
      "[[4529   34]\n",
      " [ 142   95]]\n"
     ]
    }
   ],
   "source": [
    "\n",
    "# 使用GBDT构建模型 - 代价敏感学习\n",
    "# 设置class_weight参数为'balanced'以应用代价敏感学习\n",
    "gbdt_csl = GradientBoostingClassifier(random_state=42, \n",
    "                                      n_iter_no_change=25,\n",
    "                                      learning_rate=0.05,        # 默认是0.1，可以尝试0.05或0.2等\n",
    "                                      n_estimators=128,         # 默认是100，可以增加到200, 300等\n",
    "                                      max_depth=5,              # 默认是3，可以尝试2, 4, 5等\n",
    "                                      min_samples_split=2,      # 默认是2，可以尝试更大的数值\n",
    "                                      min_samples_leaf=1,       # 默认是1，可以尝试更大的数值\n",
    "                                      subsample=1.0,            # 默认是1.0，可以尝试小于1的值，如0.8\n",
    "                                      max_features=None         # 默认是None，可以尝试\"sqrt\"或\"log2\"\n",
    ")\n",
    "gbdt_csl.fit(X_train, y_train)\n",
    "\n",
    "y_pred_csl = gbdt_csl.predict(X_test)\n",
    "\n",
    "cm_csl = confusion_matrix(y_test, y_pred_csl)\n",
    "\n",
    "print(\"\\n混淆矩阵 - 代价敏感学习:\")\n",
    "report_rf_1 = classification_report(y_test, y_pred_csl)\n",
    "print(report_rf_1)\n",
    "print(cm_csl)"
   ]
  },
  {
   "cell_type": "markdown",
   "id": "bcb4db34",
   "metadata": {},
   "source": [
    "欠采样技术的模型在捕捉欺诈案例（高召回率）方面表现更好，但同时也有较高的假正例率（低精确率），导致许多实际上是非欺诈的案例被错误地标记为欺诈。\n",
    "\n",
    "代价敏感学习的模型在平衡误分类（较高的精确率和较低的召回率）方面表现更好，但可能会错过一些真正的欺诈案例（低召回率）。"
   ]
  },
  {
   "cell_type": "code",
   "execution_count": 10,
   "id": "06617ef6",
   "metadata": {},
   "outputs": [
    {
     "name": "stdout",
     "output_type": "stream",
     "text": [
      "\n",
      "阈值: 0.3\n",
      "              precision    recall  f1-score   support\n",
      "\n",
      "           0       0.97      0.98      0.98      4563\n",
      "           1       0.62      0.47      0.53       237\n",
      "\n",
      "    accuracy                           0.96      4800\n",
      "   macro avg       0.79      0.73      0.76      4800\n",
      "weighted avg       0.96      0.96      0.96      4800\n",
      "\n",
      "[[4493   70]\n",
      " [ 125  112]]\n",
      "\n",
      "阈值: 0.4\n",
      "              precision    recall  f1-score   support\n",
      "\n",
      "           0       0.97      0.99      0.98      4563\n",
      "           1       0.70      0.43      0.54       237\n",
      "\n",
      "    accuracy                           0.96      4800\n",
      "   macro avg       0.83      0.71      0.76      4800\n",
      "weighted avg       0.96      0.96      0.96      4800\n",
      "\n",
      "[[4518   45]\n",
      " [ 134  103]]\n",
      "\n",
      "阈值: 0.5\n",
      "              precision    recall  f1-score   support\n",
      "\n",
      "           0       0.97      0.99      0.98      4563\n",
      "           1       0.74      0.40      0.52       237\n",
      "\n",
      "    accuracy                           0.96      4800\n",
      "   macro avg       0.85      0.70      0.75      4800\n",
      "weighted avg       0.96      0.96      0.96      4800\n",
      "\n",
      "[[4529   34]\n",
      " [ 142   95]]\n",
      "\n",
      "阈值: 0.6\n",
      "              precision    recall  f1-score   support\n",
      "\n",
      "           0       0.97      0.99      0.98      4563\n",
      "           1       0.79      0.36      0.50       237\n",
      "\n",
      "    accuracy                           0.96      4800\n",
      "   macro avg       0.88      0.68      0.74      4800\n",
      "weighted avg       0.96      0.96      0.96      4800\n",
      "\n",
      "[[4540   23]\n",
      " [ 151   86]]\n",
      "\n",
      "阈值: 0.7\n",
      "              precision    recall  f1-score   support\n",
      "\n",
      "           0       0.97      1.00      0.98      4563\n",
      "           1       0.83      0.32      0.46       237\n",
      "\n",
      "    accuracy                           0.96      4800\n",
      "   macro avg       0.90      0.66      0.72      4800\n",
      "weighted avg       0.96      0.96      0.96      4800\n",
      "\n",
      "[[4547   16]\n",
      " [ 161   76]]\n",
      "\n",
      "阈值: 0.8\n",
      "              precision    recall  f1-score   support\n",
      "\n",
      "           0       0.96      1.00      0.98      4563\n",
      "           1       0.86      0.28      0.43       237\n",
      "\n",
      "    accuracy                           0.96      4800\n",
      "   macro avg       0.91      0.64      0.70      4800\n",
      "weighted avg       0.96      0.96      0.95      4800\n",
      "\n",
      "[[4552   11]\n",
      " [ 170   67]]\n",
      "\n",
      "阈值: 0.9\n",
      "              precision    recall  f1-score   support\n",
      "\n",
      "           0       0.96      1.00      0.98      4563\n",
      "           1       0.96      0.21      0.34       237\n",
      "\n",
      "    accuracy                           0.96      4800\n",
      "   macro avg       0.96      0.60      0.66      4800\n",
      "weighted avg       0.96      0.96      0.95      4800\n",
      "\n",
      "[[4561    2]\n",
      " [ 188   49]]\n"
     ]
    }
   ],
   "source": [
    "# 获取测试集的预测概率\n",
    "y_pred_probs_csl = gbdt_csl.predict_proba(X_test)[:, 1]\n",
    "\n",
    "# 检验的阈值范围从0.3到0.9，每个阈值间隔0.1\n",
    "thresholds = np.arange(0.3, 1.0, 0.1)\n",
    "\n",
    "# 遍历每个阈值，计算调整后的分类报告和混淆矩阵\n",
    "for threshold in thresholds:\n",
    "    # 应用新阈值\n",
    "    y_pred_adjusted = np.where(y_pred_probs_csl >= threshold, 1, 0)\n",
    "\n",
    "    # 输出分类报告和混淆矩阵\n",
    "    print(f\"\\n阈值: {threshold:.1f}\")\n",
    "    print(classification_report(y_test, y_pred_adjusted))\n",
    "    print(confusion_matrix(y_test, y_pred_adjusted))"
   ]
  },
  {
   "cell_type": "code",
   "execution_count": 11,
   "id": "56943963",
   "metadata": {},
   "outputs": [
    {
     "data": {
      "image/png": "[encoded data removed]",
      "text/plain": [
       "<Figure size 800x600 with 1 Axes>"
      ]
     },
     "metadata": {},
     "output_type": "display_data"
    }
   ],
   "source": [
    "from sklearn.metrics import roc_curve, auc\n",
    "import matplotlib.pyplot as plt\n",
    "\n",
    "# 预测概率\n",
    "y_prob_rus = gbdt_rus.predict_proba(X_test)[:, 1]\n",
    "y_prob_csl = gbdt_csl.predict_proba(X_test)[:, 1]\n",
    "\n",
    "# 计算ROC曲线和AUC\n",
    "fpr_rus, tpr_rus, _ = roc_curve(y_test, y_prob_rus)\n",
    "fpr_csl, tpr_csl, _ = roc_curve(y_test, y_prob_csl)\n",
    "auc_rus = auc(fpr_rus, tpr_rus)\n",
    "auc_csl = auc(fpr_csl, tpr_csl)\n",
    "\n",
    "# 绘制AUC曲线\n",
    "plt.figure(figsize=(8, 6))\n",
    "plt.plot(fpr_rus, tpr_rus, label=f'RUS (AUC = {auc_rus:.2f})')\n",
    "plt.plot(fpr_csl, tpr_csl, label=f'CSL (AUC = {auc_csl:.2f})')\n",
    "plt.plot([0, 1], [0, 1], 'k--')\n",
    "plt.xlabel('False Positive Rate')\n",
    "plt.ylabel('True Positive Rate')\n",
    "plt.title('ROC Curve')\n",
    "plt.legend(loc='lower right')\n",
    "plt.show()"
   ]
  },
  {
   "cell_type": "markdown",
   "id": "e9814a90",
   "metadata": {},
   "source": [
    "# model-4 XGBoost"
   ]
  },
  {
   "cell_type": "code",
   "execution_count": 12,
   "id": "516a03d1",
   "metadata": {},
   "outputs": [],
   "source": [
    "from xgboost import XGBClassifier\n",
    "\n",
    "# 加载数据\n",
    "file_path = 'E:\\\\竞赛\\\\服创赛-A08\\\\data\\\\processed_A08-1.csv' \n",
    "data = pd.read_csv(file_path)\n",
    "\n",
    "# 使用0填充NaN值\n",
    "data.fillna(0, inplace=True)\n",
    "\n",
    "# 分离特征和目标变量\n",
    "X = data.drop('RES', axis=1)\n",
    "y = data['RES']"
   ]
  },
  {
   "cell_type": "code",
   "execution_count": 13,
   "id": "4de6af4b",
   "metadata": {},
   "outputs": [],
   "source": [
    "# 拆分数据集为训练集和测试集\n",
    "X_train, X_test, y_train, y_test = train_test_split(X, y, test_size=0.3, random_state=42)\n",
    "\n",
    "# 使用RandomUnderSampler进行欠采样\n",
    "rus = RandomUnderSampler(random_state=42)\n",
    "X_rus, y_rus = rus.fit_resample(X_train, y_train)\n",
    "\n",
    "# 使用XGBoost构建模型 - 欠采样数据\n",
    "xgb_rus = XGBClassifier(random_state=42)\n",
    "xgb_rus.fit(X_rus, y_rus)\n",
    "\n",
    "# 使用XGBoost构建模型 - 代价敏感学习\n",
    "# 在XGBoost中，可以通过设置scale_pos_weight参数来处理不平衡的数据\n",
    "scale_pos_weight = len(y[y == 0]) / len(y[y == 1])\n",
    "xgb_csl = XGBClassifier(random_state=42, scale_pos_weight=scale_pos_weight)\n",
    "xgb_csl.fit(X_train, y_train)\n",
    "\n",
    "# 对测试集进行预测\n",
    "y_pred_rus = xgb_rus.predict(X_test)\n",
    "y_pred_csl = xgb_csl.predict(X_test)\n",
    "\n"
   ]
  },
  {
   "cell_type": "code",
   "execution_count": 14,
   "id": "31cd9a90",
   "metadata": {},
   "outputs": [
    {
     "name": "stdout",
     "output_type": "stream",
     "text": [
      "混淆矩阵 - 欠采样:\n",
      "              precision    recall  f1-score   support\n",
      "\n",
      "           0       0.99      0.84      0.91      4563\n",
      "           1       0.22      0.86      0.35       237\n",
      "\n",
      "    accuracy                           0.84      4800\n",
      "   macro avg       0.61      0.85      0.63      4800\n",
      "weighted avg       0.95      0.84      0.88      4800\n",
      "\n",
      "[[4524   39]\n",
      " [ 146   91]]\n",
      "\n",
      "混淆矩阵 - 代价敏感学习:\n",
      "              precision    recall  f1-score   support\n",
      "\n",
      "           0       0.97      0.98      0.98      4563\n",
      "           1       0.54      0.47      0.50       237\n",
      "\n",
      "    accuracy                           0.95      4800\n",
      "   macro avg       0.76      0.73      0.74      4800\n",
      "weighted avg       0.95      0.95      0.95      4800\n",
      "\n",
      "[[4529   34]\n",
      " [ 142   95]]\n"
     ]
    }
   ],
   "source": [
    "# 打印混淆矩阵\n",
    "print(\"混淆矩阵 - 欠采样:\")\n",
    "report_rf = classification_report(y_test, y_pred_rus)\n",
    "print(report_rf )\n",
    "print(cm_rus)\n",
    "print(\"\\n混淆矩阵 - 代价敏感学习:\")\n",
    "report_rf_1 = classification_report(y_test, y_pred_csl)\n",
    "print(report_rf_1)\n",
    "print(cm_csl)"
   ]
  },
  {
   "cell_type": "code",
   "execution_count": 15,
   "id": "88a98f36",
   "metadata": {},
   "outputs": [
    {
     "name": "stderr",
     "output_type": "stream",
     "text": [
      "D:\\Anaconda3\\Lib\\site-packages\\sklearn\\base.py:486: UserWarning: X has feature names, but RandomForestClassifier was fitted without feature names\n",
      "  warnings.warn(\n"
     ]
    },
    {
     "ename": "ValueError",
     "evalue": "X has 64 features, but RandomForestClassifier is expecting 58 features as input.",
     "output_type": "error",
     "traceback": [
      "\u001b[1;31m---------------------------------------------------------------------------\u001b[0m",
      "\u001b[1;31mValueError\u001b[0m                                Traceback (most recent call last)",
      "Cell \u001b[1;32mIn[15], line 3\u001b[0m\n\u001b[0;32m      1\u001b[0m \u001b[38;5;66;03m# 获取GBDT和随机森林模型的预测概率\u001b[39;00m\n\u001b[0;32m      2\u001b[0m y_pred_probs_gbdt \u001b[38;5;241m=\u001b[39m gbdt_csl\u001b[38;5;241m.\u001b[39mpredict_proba(X_test)[:, \u001b[38;5;241m1\u001b[39m]\n\u001b[1;32m----> 3\u001b[0m y_pred_probs_rf \u001b[38;5;241m=\u001b[39m rf\u001b[38;5;241m.\u001b[39mpredict_proba(X_test)[:, \u001b[38;5;241m1\u001b[39m]\n\u001b[0;32m      5\u001b[0m \u001b[38;5;66;03m# 计算平均概率\u001b[39;00m\n\u001b[0;32m      6\u001b[0m y_pred_probs_avg \u001b[38;5;241m=\u001b[39m (y_pred_probs_gbdt \u001b[38;5;241m+\u001b[39m y_pred_probs_rf) \u001b[38;5;241m/\u001b[39m \u001b[38;5;241m2\u001b[39m\n",
      "File \u001b[1;32mD:\\Anaconda3\\Lib\\site-packages\\sklearn\\ensemble\\_forest.py:947\u001b[0m, in \u001b[0;36mForestClassifier.predict_proba\u001b[1;34m(self, X)\u001b[0m\n\u001b[0;32m    945\u001b[0m check_is_fitted(\u001b[38;5;28mself\u001b[39m)\n\u001b[0;32m    946\u001b[0m \u001b[38;5;66;03m# Check data\u001b[39;00m\n\u001b[1;32m--> 947\u001b[0m X \u001b[38;5;241m=\u001b[39m \u001b[38;5;28mself\u001b[39m\u001b[38;5;241m.\u001b[39m_validate_X_predict(X)\n\u001b[0;32m    949\u001b[0m \u001b[38;5;66;03m# Assign chunk of trees to jobs\u001b[39;00m\n\u001b[0;32m    950\u001b[0m n_jobs, _, _ \u001b[38;5;241m=\u001b[39m _partition_estimators(\u001b[38;5;28mself\u001b[39m\u001b[38;5;241m.\u001b[39mn_estimators, \u001b[38;5;28mself\u001b[39m\u001b[38;5;241m.\u001b[39mn_jobs)\n",
      "File \u001b[1;32mD:\\Anaconda3\\Lib\\site-packages\\sklearn\\ensemble\\_forest.py:641\u001b[0m, in \u001b[0;36mBaseForest._validate_X_predict\u001b[1;34m(self, X)\u001b[0m\n\u001b[0;32m    638\u001b[0m \u001b[38;5;28;01melse\u001b[39;00m:\n\u001b[0;32m    639\u001b[0m     force_all_finite \u001b[38;5;241m=\u001b[39m \u001b[38;5;28;01mTrue\u001b[39;00m\n\u001b[1;32m--> 641\u001b[0m X \u001b[38;5;241m=\u001b[39m \u001b[38;5;28mself\u001b[39m\u001b[38;5;241m.\u001b[39m_validate_data(\n\u001b[0;32m    642\u001b[0m     X,\n\u001b[0;32m    643\u001b[0m     dtype\u001b[38;5;241m=\u001b[39mDTYPE,\n\u001b[0;32m    644\u001b[0m     accept_sparse\u001b[38;5;241m=\u001b[39m\u001b[38;5;124m\"\u001b[39m\u001b[38;5;124mcsr\u001b[39m\u001b[38;5;124m\"\u001b[39m,\n\u001b[0;32m    645\u001b[0m     reset\u001b[38;5;241m=\u001b[39m\u001b[38;5;28;01mFalse\u001b[39;00m,\n\u001b[0;32m    646\u001b[0m     force_all_finite\u001b[38;5;241m=\u001b[39mforce_all_finite,\n\u001b[0;32m    647\u001b[0m )\n\u001b[0;32m    648\u001b[0m \u001b[38;5;28;01mif\u001b[39;00m issparse(X) \u001b[38;5;129;01mand\u001b[39;00m (X\u001b[38;5;241m.\u001b[39mindices\u001b[38;5;241m.\u001b[39mdtype \u001b[38;5;241m!=\u001b[39m np\u001b[38;5;241m.\u001b[39mintc \u001b[38;5;129;01mor\u001b[39;00m X\u001b[38;5;241m.\u001b[39mindptr\u001b[38;5;241m.\u001b[39mdtype \u001b[38;5;241m!=\u001b[39m np\u001b[38;5;241m.\u001b[39mintc):\n\u001b[0;32m    649\u001b[0m     \u001b[38;5;28;01mraise\u001b[39;00m \u001b[38;5;167;01mValueError\u001b[39;00m(\u001b[38;5;124m\"\u001b[39m\u001b[38;5;124mNo support for np.int64 index based sparse matrices\u001b[39m\u001b[38;5;124m\"\u001b[39m)\n",
      "File \u001b[1;32mD:\\Anaconda3\\Lib\\site-packages\\sklearn\\base.py:654\u001b[0m, in \u001b[0;36mBaseEstimator._validate_data\u001b[1;34m(self, X, y, reset, validate_separately, cast_to_ndarray, **check_params)\u001b[0m\n\u001b[0;32m    651\u001b[0m     out \u001b[38;5;241m=\u001b[39m X, y\n\u001b[0;32m    653\u001b[0m \u001b[38;5;28;01mif\u001b[39;00m \u001b[38;5;129;01mnot\u001b[39;00m no_val_X \u001b[38;5;129;01mand\u001b[39;00m check_params\u001b[38;5;241m.\u001b[39mget(\u001b[38;5;124m\"\u001b[39m\u001b[38;5;124mensure_2d\u001b[39m\u001b[38;5;124m\"\u001b[39m, \u001b[38;5;28;01mTrue\u001b[39;00m):\n\u001b[1;32m--> 654\u001b[0m     \u001b[38;5;28mself\u001b[39m\u001b[38;5;241m.\u001b[39m_check_n_features(X, reset\u001b[38;5;241m=\u001b[39mreset)\n\u001b[0;32m    656\u001b[0m \u001b[38;5;28;01mreturn\u001b[39;00m out\n",
      "File \u001b[1;32mD:\\Anaconda3\\Lib\\site-packages\\sklearn\\base.py:443\u001b[0m, in \u001b[0;36mBaseEstimator._check_n_features\u001b[1;34m(self, X, reset)\u001b[0m\n\u001b[0;32m    440\u001b[0m     \u001b[38;5;28;01mreturn\u001b[39;00m\n\u001b[0;32m    442\u001b[0m \u001b[38;5;28;01mif\u001b[39;00m n_features \u001b[38;5;241m!=\u001b[39m \u001b[38;5;28mself\u001b[39m\u001b[38;5;241m.\u001b[39mn_features_in_:\n\u001b[1;32m--> 443\u001b[0m     \u001b[38;5;28;01mraise\u001b[39;00m \u001b[38;5;167;01mValueError\u001b[39;00m(\n\u001b[0;32m    444\u001b[0m         \u001b[38;5;124mf\u001b[39m\u001b[38;5;124m\"\u001b[39m\u001b[38;5;124mX has \u001b[39m\u001b[38;5;132;01m{\u001b[39;00mn_features\u001b[38;5;132;01m}\u001b[39;00m\u001b[38;5;124m features, but \u001b[39m\u001b[38;5;132;01m{\u001b[39;00m\u001b[38;5;28mself\u001b[39m\u001b[38;5;241m.\u001b[39m\u001b[38;5;18m__class__\u001b[39m\u001b[38;5;241m.\u001b[39m\u001b[38;5;18m__name__\u001b[39m\u001b[38;5;132;01m}\u001b[39;00m\u001b[38;5;124m \u001b[39m\u001b[38;5;124m\"\u001b[39m\n\u001b[0;32m    445\u001b[0m         \u001b[38;5;124mf\u001b[39m\u001b[38;5;124m\"\u001b[39m\u001b[38;5;124mis expecting \u001b[39m\u001b[38;5;132;01m{\u001b[39;00m\u001b[38;5;28mself\u001b[39m\u001b[38;5;241m.\u001b[39mn_features_in_\u001b[38;5;132;01m}\u001b[39;00m\u001b[38;5;124m features as input.\u001b[39m\u001b[38;5;124m\"\u001b[39m\n\u001b[0;32m    446\u001b[0m     )\n",
      "\u001b[1;31mValueError\u001b[0m: X has 64 features, but RandomForestClassifier is expecting 58 features as input."
     ]
    }
   ],
   "source": [
    "\n",
    "# 获取GBDT和随机森林模型的预测概率\n",
    "y_pred_probs_gbdt = gbdt_csl.predict_proba(X_test)[:, 1]\n",
    "y_pred_probs_rf = rf.predict_proba(X_test)[:, 1]\n",
    "\n",
    "# 计算平均概率\n",
    "y_pred_probs_avg = (y_pred_probs_gbdt + y_pred_probs_rf) / 2\n",
    "\n",
    "# 将平均概率转换为最终预测结果（0或1），这里以0.5作为阈值\n",
    "y_pred_avg = (y_pred_probs_avg >= 0.5).astype(int)\n",
    "\n",
    "# 评估融合后的模型\n",
    "accuracy_avg = accuracy_score(y_test, y_pred_avg)\n",
    "report_avg = classification_report(y_test, y_pred_avg)\n",
    "cm_avg = confusion_matrix(y_test, y_pred_avg)\n",
    "\n",
    "# 输出结果\n",
    "print(\"分类报告 - 模型融合:\\n\", report_avg)\n",
    "print(\"准确度 - 模型融合:\", accuracy_avg)\n",
    "print(\"混淆矩阵 - 模型融合:\\n\", cm_avg)"
   ]
  },
  {
   "cell_type": "code",
   "execution_count": null,
   "id": "974c6035",
   "metadata": {},
   "outputs": [],
   "source": []
  },
  {
   "cell_type": "code",
   "execution_count": null,
   "id": "070546aa",
   "metadata": {},
   "outputs": [],
   "source": []
  },
  {
   "cell_type": "code",
   "execution_count": null,
   "id": "bcb1db14",
   "metadata": {},
   "outputs": [],
   "source": []
  },
  {
   "cell_type": "markdown",
   "id": "150f5513",
   "metadata": {},
   "source": [
    "# 深度学习\n"
   ]
  },
  {
   "cell_type": "code",
   "execution_count": null,
   "id": "318408c2",
   "metadata": {},
   "outputs": [],
   "source": []
  }
 ],
 "metadata": {
  "kernelspec": {
   "display_name": "Python 3 (ipykernel)",
   "language": "python",
   "name": "python3"
  },
  "language_info": {
   "codemirror_mode": {
    "name": "ipython",
    "version": 3
   },
   "file_extension": ".py",
   "mimetype": "text/x-python",
   "name": "python",
   "nbconvert_exporter": "python",
   "pygments_lexer": "ipython3",
   "version": "3.11.5"
  }
 },
 "nbformat": 4,
 "nbformat_minor": 5
}
