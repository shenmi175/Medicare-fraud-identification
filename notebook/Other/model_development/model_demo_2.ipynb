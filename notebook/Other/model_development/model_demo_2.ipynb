{
 "cells": [
  {
   "cell_type": "code",
   "execution_count": 1,
   "id": "15558309",
   "metadata": {},
   "outputs": [],
   "source": [
    "from sklearn.model_selection import StratifiedKFold, train_test_split, cross_val_score\n",
    "from sklearn.ensemble import RandomForestClassifier\n",
    "from sklearn.metrics import classification_report\n",
    "from sklearn.utils import resample\n",
    "import pandas as pd\n",
    "import numpy as np\n",
    "from imblearn.over_sampling import SMOTE\n",
    "import os\n",
    "import joblib\n",
    "\n",
    "from sklearn.metrics import roc_auc_score, roc_curve\n",
    "import matplotlib.pyplot as plt\n",
    "import seaborn as sns\n",
    "%matplotlib inline\n",
    "pd.set_option(\"display.max_columns\",100)\n",
    "pd.set_option('display.max_rows',100)\n",
    "\n",
    "from pylab import mpl \n",
    "plt.rcParams['font.sans-serif'] = ['Microsoft YaHei']  # 设置中文字体\n",
    "plt.rcParams['axes.unicode_minus'] = False  # 为了显示负号正常\n"
   ]
  },
  {
   "cell_type": "code",
   "execution_count": 2,
   "id": "e96c25ed",
   "metadata": {},
   "outputs": [
    {
     "name": "stdout",
     "output_type": "stream",
     "text": [
      "<class 'pandas.core.frame.DataFrame'>\n",
      "RangeIndex: 16000 entries, 0 to 15999\n",
      "Data columns (total 82 columns):\n",
      " #   Column             Non-Null Count  Dtype  \n",
      "---  ------             --------------  -----  \n",
      " 0   个人编码               16000 non-null  float64\n",
      " 1   一天去两家医院的天数         16000 non-null  int64  \n",
      " 2   就诊的月数              16000 non-null  int64  \n",
      " 3   月就诊天数_MAX          16000 non-null  int64  \n",
      " 4   月就诊天数_AVG          16000 non-null  float64\n",
      " 5   月就诊医院数_MAX         16000 non-null  int64  \n",
      " 6   月就诊医院数_AVG         16000 non-null  float64\n",
      " 7   就诊次数_SUM           16000 non-null  int64  \n",
      " 8   月就诊次数_MAX          16000 non-null  int64  \n",
      " 9   月就诊次数_AVG          16000 non-null  float64\n",
      " 10  月统筹金额_MAX          16000 non-null  float64\n",
      " 11  月统筹金额_AVG          16000 non-null  float64\n",
      " 12  月药品金额_MAX          16000 non-null  float64\n",
      " 13  月药品金额_AVG          16000 non-null  float64\n",
      " 14  医院_就诊天数_MAX        16000 non-null  int64  \n",
      " 15  医院_就诊天数_AVG        16000 non-null  float64\n",
      " 16  医院_统筹金_MAX         16000 non-null  float64\n",
      " 17  医院_统筹金_AVG         16000 non-null  float64\n",
      " 18  医院_药品_MAX          16000 non-null  float64\n",
      " 19  医院_药品_AVG          16000 non-null  float64\n",
      " 20  医院编码_NN            16000 non-null  int64  \n",
      " 21  顺序号_NN             16000 non-null  int64  \n",
      " 22  交易时间DD_NN          16000 non-null  int64  \n",
      " 23  交易时间YYYY_NN        16000 non-null  int64  \n",
      " 24  交易时间YYYYMM_NN      16000 non-null  int64  \n",
      " 25  住院天数_SUM           16000 non-null  int64  \n",
      " 26  个人账户金额_SUM         16000 non-null  float64\n",
      " 27  统筹支付金额_SUM         16000 non-null  float64\n",
      " 28  ALL_SUM            16000 non-null  float64\n",
      " 29  可用账户报销金额_SUM       16000 non-null  float64\n",
      " 30  药品费发生金额_SUM        16000 non-null  float64\n",
      " 31  药品费自费金额_SUM        16000 non-null  float64\n",
      " 32  药品费申报金额_SUM        16000 non-null  float64\n",
      " 33  贵重药品发生金额_SUM       16000 non-null  float64\n",
      " 34  中成药费发生金额_SUM       16000 non-null  float64\n",
      " 35  中草药费发生金额_SUM       16000 non-null  float64\n",
      " 36  检查费发生金额_SUM        16000 non-null  float64\n",
      " 37  检查费自费金额_SUM        16000 non-null  float64\n",
      " 38  检查费申报金额_SUM        16000 non-null  float64\n",
      " 39  贵重检查费金额_SUM        16000 non-null  int64  \n",
      " 40  治疗费发生金额_SUM        16000 non-null  float64\n",
      " 41  治疗费自费金额_SUM        16000 non-null  float64\n",
      " 42  治疗费申报金额_SUM        16000 non-null  float64\n",
      " 43  手术费发生金额_SUM        16000 non-null  int64  \n",
      " 44  手术费自费金额_SUM        16000 non-null  int64  \n",
      " 45  手术费申报金额_SUM        16000 non-null  float64\n",
      " 46  床位费发生金额_SUM        16000 non-null  float64\n",
      " 47  床位费申报金额_SUM        16000 non-null  float64\n",
      " 48  医用材料发生金额_SUM       16000 non-null  float64\n",
      " 49  高价材料发生金额_SUM       16000 non-null  float64\n",
      " 50  医用材料费自费金额_SUM      16000 non-null  float64\n",
      " 51  成分输血申报金额_SUM       16000 non-null  int64  \n",
      " 52  其它发生金额_SUM         16000 non-null  float64\n",
      " 53  其它申报金额_SUM         16000 non-null  int64  \n",
      " 54  一次性医用材料申报金额_SUM    16000 non-null  float64\n",
      " 55  起付线标准金额_MAX        16000 non-null  float64\n",
      " 56  起付标准以上自负比例金额_SUM   16000 non-null  float64\n",
      " 57  医疗救助个人按比例负担金额_SUM  16000 non-null  float64\n",
      " 58  最高限额以上金额_SUM       16000 non-null  float64\n",
      " 59  基本统筹基金支付金额_SUM     16000 non-null  float64\n",
      " 60  公务员医疗补助基金支付金额_SUM  16000 non-null  float64\n",
      " 61  城乡救助补助金额_SUM       16000 non-null  float64\n",
      " 62  基本个人账户支付_SUM       16000 non-null  float64\n",
      " 63  非账户支付金额_SUM        16000 non-null  float64\n",
      " 64  本次审批金额_SUM         16000 non-null  float64\n",
      " 65  补助审批金额_SUM         16000 non-null  float64\n",
      " 66  医疗救助医院申请_SUM       16000 non-null  float64\n",
      " 67  残疾军人补助_SUM         16000 non-null  float64\n",
      " 68  民政救助补助_SUM         16000 non-null  float64\n",
      " 69  城乡优抚补助_SUM         16000 non-null  float64\n",
      " 70  出院诊断病种名称_NN        16000 non-null  int64  \n",
      " 71  出院诊断LENTH_MAX      16000 non-null  float64\n",
      " 72  药品在总金额中的占比         16000 non-null  float64\n",
      " 73  个人支付的药品占比          16000 non-null  float64\n",
      " 74  检查总费用在总金额占比        16000 non-null  float64\n",
      " 75  个人支付检查费用占比         16000 non-null  float64\n",
      " 76  治疗费用在总金额占比         16000 non-null  float64\n",
      " 77  个人支付治疗费用占比         16000 non-null  float64\n",
      " 78  BZ_民政救助            16000 non-null  int64  \n",
      " 79  BZ_城乡优抚            16000 non-null  int64  \n",
      " 80  是否挂号               16000 non-null  int64  \n",
      " 81  RES                16000 non-null  int64  \n",
      "dtypes: float64(59), int64(23)\n",
      "memory usage: 10.0 MB\n"
     ]
    }
   ],
   "source": [
    "# 加载数据\n",
    "file_path = \"E:\\竞赛\\服创赛-A08\\data\\process_data.csv\"\n",
    "data = pd.read_csv(file_path)\n",
    "\n",
    "\n",
    "# file_path = 'E:\\竞赛\\服创赛-A08\\data\\欺诈手段特征集.xlsx'\n",
    "# data = pd.read_excel(file_path)\n",
    "\n",
    "data.info()"
   ]
  },
  {
   "cell_type": "code",
   "execution_count": 3,
   "id": "c7a2aaad",
   "metadata": {},
   "outputs": [],
   "source": [
    "def strategy_3(X, y, model, test_size=0.3, random_state=42, smote_random_state=42, k_neighbors=5):\n",
    "    \"\"\"\n",
    "    使用SMOTE策略训练模型，并返回分类报告。\n",
    "\n",
    "    参数:\n",
    "    - X: DataFrame, 特征数据集。\n",
    "    - y: Series, 目标变量数据集。\n",
    "    - model: 机器学习模型。\n",
    "    - test_size: float, 测试集占比。\n",
    "    - random_state: int, train_test_split的随机状态。\n",
    "    - smote_random_state: int, SMOTE的随机状态。\n",
    "    - k_neighbors: int, SMOTE中的最近邻数量。\n",
    "\n",
    "    返回:\n",
    "    - 分类报告。\n",
    "    \"\"\"\n",
    "    # 划分训练集和测试集\n",
    "    X_train, X_test, y_train, y_test = train_test_split(X, y, test_size=test_size, random_state=random_state)\n",
    "\n",
    "    # 应用SMOTE\n",
    "    smote = SMOTE(sampling_strategy='auto', random_state=smote_random_state, k_neighbors=k_neighbors)\n",
    "    X_train_smote, y_train_smote = smote.fit_resample(X_train, y_train)\n",
    "\n",
    "    # 训练模型\n",
    "    model.fit(X_train_smote, y_train_smote)\n",
    "\n",
    "    # 进行预测\n",
    "    y_pred = model.predict(X_test)\n",
    "\n",
    "    # 生成分类报告\n",
    "    classification_rep = classification_report(y_test, y_pred)\n",
    "\n",
    "    return classification_rep,model"
   ]
  },
  {
   "cell_type": "code",
   "execution_count": 4,
   "id": "e9dbc69c",
   "metadata": {},
   "outputs": [],
   "source": [
    "def strategy_4(model, X_test, y_test, thresholds):\n",
    "\n",
    "    classification_reports = {}\n",
    "    for thresh in thresholds:\n",
    "        # 以概率形式获取预测结果\n",
    "        y_probs = model.predict_proba(X_test)[:, 1]  # 获取正类的概率\n",
    "        # 应用阈值\n",
    "        y_pred_thresh = np.where(y_probs > thresh, 1, 0)\n",
    "        # 生成并存储分类报告\n",
    "        classification_reports[thresh] = classification_report(y_test, y_pred_thresh)\n",
    "\n",
    "    return classification_reports"
   ]
  },
  {
   "cell_type": "code",
   "execution_count": 5,
   "id": "be4a5345",
   "metadata": {},
   "outputs": [],
   "source": [
    "def load_and_split_data(input_data, target_column='RES', test_size=0.3, random_state=42):\n",
    "    # Load the dataset if a file path is provided, else use the DataFrame directly\n",
    "    if isinstance(input_data, str):\n",
    "        _, file_extension = os.path.splitext(input_data)\n",
    "        if file_extension.lower() == '.csv':\n",
    "            data = pd.read_csv(input_data)\n",
    "        elif file_extension.lower() == '.xlsx':\n",
    "            data = pd.read_excel(input_data)\n",
    "        else:\n",
    "            raise ValueError(\"Unsupported file format. Only CSV and Excel files are supported.\")\n",
    "    elif isinstance(input_data, pd.DataFrame):\n",
    "        data = input_data\n",
    "    else:\n",
    "        raise ValueError(\"Input data should be a file path or a DataFrame.\")\n",
    "\n",
    "    # Separate features and target\n",
    "    X = data.drop(target_column, axis=1)\n",
    "    y = data[target_column]\n",
    "\n",
    "    # Handle class imbalance\n",
    "    data_majority = data[data[target_column] == 0]\n",
    "    data_minority = data[data[target_column] == 1]\n",
    "\n",
    "    # Split the dataset into training and testing sets\n",
    "    X_train, X_test, y_train, y_test = train_test_split(X, y, test_size=test_size, random_state=random_state)\n",
    "\n",
    "    return X_train, X_test, y_train, y_test, X, y, data_majority, data_minority"
   ]
  },
  {
   "cell_type": "code",
   "execution_count": 6,
   "id": "9a5f7886",
   "metadata": {},
   "outputs": [],
   "source": [
    "# 分离特征和目标变量\n",
    "X = data.drop('RES', axis=1)\n",
    "y = data['RES']\n",
    "\n",
    "# 分离类别\n",
    "data_majority = data[data.RES == 0]\n",
    "data_minority = data[data.RES == 1]"
   ]
  },
  {
   "cell_type": "code",
   "execution_count": 7,
   "id": "c7103e12",
   "metadata": {},
   "outputs": [],
   "source": [
    "model = RandomForestClassifier(\n",
    "    n_estimators=100,\n",
    "    #max_depth=5,\n",
    "    random_state=123,\n",
    "    n_jobs=-1\n",
    ")"
   ]
  },
  {
   "cell_type": "code",
   "execution_count": 8,
   "id": "6eb16d87",
   "metadata": {},
   "outputs": [],
   "source": [
    "# # 定义XGBoost模型\n",
    "# from xgboost import XGBClassifier\n",
    "# model = XGBClassifier(\n",
    "#         learning_rate = 0.05,\n",
    "#         n_estimators=1000,\n",
    "#         max_depth=7,\n",
    "#         min_child_weight=5,\n",
    "#         gamma=0,\n",
    "#         subsample=0.9,\n",
    "#         colsample_bytree=0.6,\n",
    "#         objective='binary:logistic',\n",
    "#         nthread=4,\n",
    "#         scale_pos_weight=1,\n",
    "#         seed=27\n",
    "#     )"
   ]
  },
  {
   "cell_type": "code",
   "execution_count": 9,
   "id": "15bd8f02",
   "metadata": {},
   "outputs": [
    {
     "name": "stdout",
     "output_type": "stream",
     "text": [
      "              precision    recall  f1-score   support\n",
      "\n",
      "           0       0.97      0.97      0.97      4563\n",
      "           1       0.46      0.43      0.44       237\n",
      "\n",
      "    accuracy                           0.95      4800\n",
      "   macro avg       0.72      0.70      0.71      4800\n",
      "weighted avg       0.95      0.95      0.95      4800\n",
      "\n"
     ]
    }
   ],
   "source": [
    "# 应用 strategy_3\n",
    "classification_reports,model = strategy_3(X, y, model)\n",
    "\n",
    "# 打印分类报告\n",
    "\n",
    "print(classification_reports)"
   ]
  },
  {
   "cell_type": "code",
   "execution_count": null,
   "id": "f6f7d175-8e93-4b3f-9aee-a32893b86fca",
   "metadata": {},
   "outputs": [],
   "source": []
  },
  {
   "cell_type": "code",
   "execution_count": 10,
   "id": "1b5e16a5-7801-4051-ae87-0f90793dee1b",
   "metadata": {},
   "outputs": [],
   "source": [
    "X_train, X_test, y_train, y_test ,X,y,data_majority, data_minority= load_and_split_data(file_path)\n",
    "# model = model.fit(X_train,y_train)"
   ]
  },
  {
   "cell_type": "code",
   "execution_count": 11,
   "id": "6d991cde",
   "metadata": {},
   "outputs": [
    {
     "name": "stdout",
     "output_type": "stream",
     "text": [
      "Threshold: 0.5\n",
      "               precision    recall  f1-score   support\n",
      "\n",
      "           0       0.97      0.97      0.97      4563\n",
      "           1       0.46      0.43      0.44       237\n",
      "\n",
      "    accuracy                           0.95      4800\n",
      "   macro avg       0.72      0.70      0.71      4800\n",
      "weighted avg       0.95      0.95      0.95      4800\n",
      "\n",
      "Threshold: 0.55\n",
      "               precision    recall  f1-score   support\n",
      "\n",
      "           0       0.97      0.98      0.98      4563\n",
      "           1       0.53      0.39      0.45       237\n",
      "\n",
      "    accuracy                           0.95      4800\n",
      "   macro avg       0.75      0.69      0.71      4800\n",
      "weighted avg       0.95      0.95      0.95      4800\n",
      "\n",
      "Threshold: 0.6\n",
      "               precision    recall  f1-score   support\n",
      "\n",
      "           0       0.97      0.99      0.98      4563\n",
      "           1       0.57      0.36      0.44       237\n",
      "\n",
      "    accuracy                           0.95      4800\n",
      "   macro avg       0.77      0.67      0.71      4800\n",
      "weighted avg       0.95      0.95      0.95      4800\n",
      "\n",
      "Threshold: 0.65\n",
      "               precision    recall  f1-score   support\n",
      "\n",
      "           0       0.97      0.99      0.98      4563\n",
      "           1       0.66      0.35      0.45       237\n",
      "\n",
      "    accuracy                           0.96      4800\n",
      "   macro avg       0.81      0.67      0.72      4800\n",
      "weighted avg       0.95      0.96      0.95      4800\n",
      "\n",
      "Threshold: 0.7\n",
      "               precision    recall  f1-score   support\n",
      "\n",
      "           0       0.97      0.99      0.98      4563\n",
      "           1       0.73      0.32      0.44       237\n",
      "\n",
      "    accuracy                           0.96      4800\n",
      "   macro avg       0.85      0.66      0.71      4800\n",
      "weighted avg       0.95      0.96      0.95      4800\n",
      "\n",
      "Threshold: 0.75\n",
      "               precision    recall  f1-score   support\n",
      "\n",
      "           0       0.96      1.00      0.98      4563\n",
      "           1       0.77      0.27      0.40       237\n",
      "\n",
      "    accuracy                           0.96      4800\n",
      "   macro avg       0.87      0.63      0.69      4800\n",
      "weighted avg       0.95      0.96      0.95      4800\n",
      "\n"
     ]
    }
   ],
   "source": [
    "thresholds = [ 0.5,0.55, 0.6,0.65, 0.7,0.75]\n",
    "reports = strategy_4(model,X_test, y_test, thresholds)\n",
    "\n",
    "# 输出每个阈值下的分类报告\n",
    "for thresh, report in reports.items():\n",
    "    print(f\"Threshold: {thresh}\\n\", report)"
   ]
  },
  {
   "cell_type": "code",
   "execution_count": null,
   "id": "65052bef-f12d-4f4a-ace7-018713ed5fee",
   "metadata": {},
   "outputs": [],
   "source": []
  },
  {
   "cell_type": "code",
   "execution_count": 12,
   "id": "9bf38662",
   "metadata": {},
   "outputs": [
    {
     "name": "stdout",
     "output_type": "stream",
     "text": [
      "Threshold: 0.6\n",
      "               precision    recall  f1-score   support\n",
      "\n",
      "           0       0.97      0.99      0.98      4563\n",
      "           1       0.57      0.36      0.44       237\n",
      "\n",
      "    accuracy                           0.95      4800\n",
      "   macro avg       0.77      0.67      0.71      4800\n",
      "weighted avg       0.95      0.95      0.95      4800\n",
      "\n"
     ]
    }
   ],
   "source": [
    "thresholds = [0.6]\n",
    "reports = strategy_4(model,X_test, y_test,thresholds)\n",
    "# report\n",
    "\n",
    "# 输出每个阈值下的分类报告\n",
    "for thresh, report in reports.items():\n",
    "    print(f\"Threshold: {thresh}\\n\", report)"
   ]
  },
  {
   "cell_type": "code",
   "execution_count": null,
   "id": "960f8dd6-0dda-461e-8b90-58a143a8512b",
   "metadata": {},
   "outputs": [],
   "source": []
  },
  {
   "cell_type": "code",
   "execution_count": 13,
   "id": "4b6d7914",
   "metadata": {},
   "outputs": [
    {
     "name": "stdout",
     "output_type": "stream",
     "text": [
      "AUC: 0.885653823498679\n"
     ]
    }
   ],
   "source": [
    "y_pred_proba = model.predict_proba(X_test)[:, 1]\n",
    "\n",
    "# 计算AUC\n",
    "auc = roc_auc_score(y_test, y_pred_proba)\n",
    "print(f\"AUC: {auc}\")"
   ]
  },
  {
   "cell_type": "code",
   "execution_count": 14,
   "id": "e061cc21",
   "metadata": {},
   "outputs": [
    {
     "data": {
      "image/png": "[encoded data removed]",
      "text/plain": [
       "<Figure size 800x600 with 1 Axes>"
      ]
     },
     "metadata": {},
     "output_type": "display_data"
    }
   ],
   "source": [
    "# 获取真正率（TPR）和假正率（FPR）以及阈值用于绘制ROC曲线\n",
    "fpr, tpr, thresholds = roc_curve(y_test, y_pred_proba)\n",
    "\n",
    "# 绘制ROC曲线\n",
    "plt.figure(figsize=(8, 6))\n",
    "plt.plot(fpr, tpr, label=f'ROC Curve (area = {auc:.2f})')\n",
    "plt.plot([0, 1], [0, 1], 'k--')  # 随机概率的对角线\n",
    "plt.xlim([0.0, 1.0])\n",
    "plt.ylim([0.0, 1.05])\n",
    "plt.xlabel('False Positive Rate')\n",
    "plt.ylabel('True Positive Rate')\n",
    "plt.title('Receiver Operating Characteristic (ROC)')\n",
    "plt.legend(loc=\"lower right\")\n",
    "plt.show()"
   ]
  },
  {
   "cell_type": "code",
   "execution_count": 15,
   "id": "5ec68238-ad47-45dd-b6a9-3ec372f85175",
   "metadata": {},
   "outputs": [
    {
     "data": {
      "text/plain": [
       "array(['治疗费发生金额_SUM', '治疗费申报金额_SUM', '月统筹金额_MAX', '贵重药品发生金额_SUM',\n",
       "       '起付标准以上自负比例金额_SUM', '月药品金额_MAX', '药品费自费金额_SUM', '中草药费发生金额_SUM',\n",
       "       '治疗费用在总金额占比', '床位费申报金额_SUM', '非账户支付金额_SUM', '月药品金额_AVG',\n",
       "       '可用账户报销金额_SUM', '个人账户金额_SUM', '基本个人账户支付_SUM', '床位费发生金额_SUM',\n",
       "       '个人支付的药品占比', '是否挂号', '一天去两家医院的天数', '月就诊次数_AVG', 'ALL_SUM',\n",
       "       '中成药费发生金额_SUM', '月就诊医院数_AVG', '基本统筹基金支付金额_SUM', '本次审批金额_SUM',\n",
       "       '统筹支付金额_SUM', '月就诊次数_MAX', '月就诊天数_AVG', '一次性医用材料申报金额_SUM',\n",
       "       '月就诊天数_MAX', '月统筹金额_AVG', '医用材料发生金额_SUM'], dtype=object)"
      ]
     },
     "execution_count": 15,
     "metadata": {},
     "output_type": "execute_result"
    }
   ],
   "source": [
    "# 获取特征重要性\n",
    "feature_importances = model.feature_importances_\n",
    "\n",
    "# 排序特征重要性\n",
    "sorted_idx = np.argsort(feature_importances)[::-1]\n",
    "\n",
    "# 取出前二十个重要特征\n",
    "top_20_features = np.array(X_train.columns)[sorted_idx][:32]\n",
    "\n",
    "top_20_features"
   ]
  },
  {
   "cell_type": "markdown",
   "id": "7cebdac1",
   "metadata": {},
   "source": [
    "## 评估在训练集上的模型性能"
   ]
  },
  {
   "cell_type": "code",
   "execution_count": 16,
   "id": "4110b541",
   "metadata": {},
   "outputs": [
    {
     "name": "stdout",
     "output_type": "stream",
     "text": [
      "              precision    recall  f1-score   support\n",
      "\n",
      "           0       1.00      1.00      1.00     10644\n",
      "           1       1.00      0.99      1.00       556\n",
      "\n",
      "    accuracy                           1.00     11200\n",
      "   macro avg       1.00      1.00      1.00     11200\n",
      "weighted avg       1.00      1.00      1.00     11200\n",
      "\n"
     ]
    }
   ],
   "source": [
    "# 检测模型在训练集上的效果\n",
    "# result = classification_report(y_train,model.predict(X_train))\n",
    "y_proby = model.predict_proba(X_train)[:,1]\n",
    "thresh = 0.6\n",
    "result = np.where(y_proby>thresh,1,0)\n",
    "results = classification_report(y_train,result)\n",
    "\n",
    "print(results)"
   ]
  },
  {
   "cell_type": "code",
   "execution_count": null,
   "id": "38aabd04",
   "metadata": {},
   "outputs": [],
   "source": []
  },
  {
   "cell_type": "code",
   "execution_count": null,
   "id": "2a8c0dd7",
   "metadata": {},
   "outputs": [],
   "source": []
  },
  {
   "cell_type": "code",
   "execution_count": null,
   "id": "a9a22ec8",
   "metadata": {},
   "outputs": [],
   "source": []
  },
  {
   "cell_type": "code",
   "execution_count": null,
   "id": "549cc634",
   "metadata": {},
   "outputs": [],
   "source": []
  },
  {
   "cell_type": "code",
   "execution_count": null,
   "id": "c509cc7b",
   "metadata": {},
   "outputs": [],
   "source": []
  },
  {
   "cell_type": "code",
   "execution_count": null,
   "id": "c436f95c",
   "metadata": {},
   "outputs": [],
   "source": []
  },
  {
   "cell_type": "code",
   "execution_count": null,
   "id": "8e6927ce",
   "metadata": {},
   "outputs": [],
   "source": []
  }
 ],
 "metadata": {
  "kernelspec": {
   "display_name": "Python 3 (ipykernel)",
   "language": "python",
   "name": "python3"
  },
  "language_info": {
   "codemirror_mode": {
    "name": "ipython",
    "version": 3
   },
   "file_extension": ".py",
   "mimetype": "text/x-python",
   "name": "python",
   "nbconvert_exporter": "python",
   "pygments_lexer": "ipython3",
   "version": "3.11.7"
  }
 },
 "nbformat": 4,
 "nbformat_minor": 5
}
