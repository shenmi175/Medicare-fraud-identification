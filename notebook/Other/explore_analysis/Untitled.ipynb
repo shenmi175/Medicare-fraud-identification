{
 "cells": [
  {
   "cell_type": "code",
   "execution_count": null,
   "id": "5966cb94-689c-4c56-a2d0-5e77c3d2cad9",
   "metadata": {},
   "outputs": [],
   "source": [
    "!pip "
   ]
  }
 ],
 "metadata": {
  "kernelspec": {
   "display_name": "Python 3 (ipykernel)",
   "language": "python",
   "name": "python3"
  },
  "language_info": {
   "codemirror_mode": {
    "name": "ipython",
    "version": 3
   },
   "file_extension": ".py",
   "mimetype": "text/x-python",
   "name": "python",
   "nbconvert_exporter": "python",
   "pygments_lexer": "ipython3",
   "version": "3.11.7"
  }
 },
 "nbformat": 4,
 "nbformat_minor": 5
}
