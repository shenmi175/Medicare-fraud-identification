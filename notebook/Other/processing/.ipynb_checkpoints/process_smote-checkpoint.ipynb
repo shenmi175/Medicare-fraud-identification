{
 "cells": [
  {
   "cell_type": "code",
   "execution_count": 16,
   "id": "4a40f111-7d46-44a2-9ae5-63f80f69ecb8",
   "metadata": {},
   "outputs": [],
   "source": [
    "from sklearn.model_selection import train_test_split\n",
    "from sklearn.ensemble import RandomForestClassifier\n",
    "from sklearn.metrics import classification_report, roc_auc_score\n",
    "\n",
    "from sklearn.datasets import make_classification\n",
    "from imblearn.over_sampling import SMOTE,SVMSMOTE,BorderlineSMOTE,ADASYN,KMeansSMOTE\n",
    "import pandas as pd\n",
    "import numpy as np\n",
    "import matplotlib.pyplot as plt\n",
    "import seaborn as sns\n",
    "%matplotlib inline\n",
    "pd.set_option(\"display.max_columns\",100)\n",
    "pd.set_option('display.max_rows',100)\n",
    "\n",
    "from pylab import mpl \n",
    "plt.rcParams['font.sans-serif'] = ['Microsoft YaHei']  # 设置中文字体\n",
    "plt.rcParams['axes.unicode_minus'] = False  # 为了显示负号正常"
   ]
  },
  {
   "cell_type": "code",
   "execution_count": 28,
   "id": "5ffd703b-dedc-45e3-963c-4f1ec4cf6e1f",
   "metadata": {},
   "outputs": [
    {
     "data": {
      "text/html": [
       "<div>\n",
       "<style scoped>\n",
       "    .dataframe tbody tr th:only-of-type {\n",
       "        vertical-align: middle;\n",
       "    }\n",
       "\n",
       "    .dataframe tbody tr th {\n",
       "        vertical-align: top;\n",
       "    }\n",
       "\n",
       "    .dataframe thead th {\n",
       "        text-align: right;\n",
       "    }\n",
       "</style>\n",
       "<table border=\"1\" class=\"dataframe\">\n",
       "  <thead>\n",
       "    <tr style=\"text-align: right;\">\n",
       "      <th></th>\n",
       "      <th>RES</th>\n",
       "      <th>就诊次数_SUM</th>\n",
       "      <th>药品在总金额中的占比</th>\n",
       "      <th>个人支付的药品占比</th>\n",
       "      <th>检查总费用在总金额占比</th>\n",
       "      <th>治疗费用在总金额占比</th>\n",
       "      <th>就诊的月数</th>\n",
       "      <th>月就诊天数_MAX</th>\n",
       "      <th>月就诊天数_AVG</th>\n",
       "      <th>月就诊医院数_MAX</th>\n",
       "      <th>月就诊医院数_AVG</th>\n",
       "      <th>月就诊天数差</th>\n",
       "      <th>月就诊医院数差</th>\n",
       "      <th>月统筹金额差</th>\n",
       "      <th>月药品金额差</th>\n",
       "      <th>医院_就诊天数差</th>\n",
       "      <th>医院_统筹金差</th>\n",
       "      <th>医院_药品差</th>\n",
       "      <th>月就诊天数差_调整</th>\n",
       "      <th>月就诊医院数差_调整</th>\n",
       "      <th>月统筹金额差_调整</th>\n",
       "      <th>月药品金额差_调整</th>\n",
       "      <th>医院_就诊天数差_调整</th>\n",
       "      <th>医院_统筹金差_调整</th>\n",
       "      <th>医院_药品差_调整</th>\n",
       "    </tr>\n",
       "  </thead>\n",
       "  <tbody>\n",
       "    <tr>\n",
       "      <th>0</th>\n",
       "      <td>0</td>\n",
       "      <td>34</td>\n",
       "      <td>0.939194</td>\n",
       "      <td>0.004262</td>\n",
       "      <td>0.050817</td>\n",
       "      <td>0.007434</td>\n",
       "      <td>6</td>\n",
       "      <td>7</td>\n",
       "      <td>5.666667</td>\n",
       "      <td>3</td>\n",
       "      <td>2.166667</td>\n",
       "      <td>1.333333</td>\n",
       "      <td>0.833333</td>\n",
       "      <td>959.886667</td>\n",
       "      <td>1206.158333</td>\n",
       "      <td>8.666667</td>\n",
       "      <td>2470.413333</td>\n",
       "      <td>3131.986667</td>\n",
       "      <td>0.017744</td>\n",
       "      <td>0.410253</td>\n",
       "      <td>-220.775828</td>\n",
       "      <td>328.727184</td>\n",
       "      <td>0.189271</td>\n",
       "      <td>-1492.765841</td>\n",
       "      <td>-698.761116</td>\n",
       "    </tr>\n",
       "    <tr>\n",
       "      <th>1</th>\n",
       "      <td>0</td>\n",
       "      <td>15</td>\n",
       "      <td>0.955626</td>\n",
       "      <td>0.002982</td>\n",
       "      <td>0.030815</td>\n",
       "      <td>0.013398</td>\n",
       "      <td>6</td>\n",
       "      <td>4</td>\n",
       "      <td>2.500000</td>\n",
       "      <td>2</td>\n",
       "      <td>1.333333</td>\n",
       "      <td>1.500000</td>\n",
       "      <td>0.666667</td>\n",
       "      <td>580.301667</td>\n",
       "      <td>665.976667</td>\n",
       "      <td>5.500000</td>\n",
       "      <td>4587.995000</td>\n",
       "      <td>4960.180000</td>\n",
       "      <td>0.184411</td>\n",
       "      <td>0.243586</td>\n",
       "      <td>-600.360828</td>\n",
       "      <td>-211.454482</td>\n",
       "      <td>-2.977396</td>\n",
       "      <td>624.815826</td>\n",
       "      <td>1129.432217</td>\n",
       "    </tr>\n",
       "    <tr>\n",
       "      <th>2</th>\n",
       "      <td>0</td>\n",
       "      <td>45</td>\n",
       "      <td>0.783610</td>\n",
       "      <td>0.000332</td>\n",
       "      <td>0.000000</td>\n",
       "      <td>0.195087</td>\n",
       "      <td>6</td>\n",
       "      <td>8</td>\n",
       "      <td>6.166667</td>\n",
       "      <td>3</td>\n",
       "      <td>2.166667</td>\n",
       "      <td>1.833333</td>\n",
       "      <td>0.833333</td>\n",
       "      <td>777.496667</td>\n",
       "      <td>933.531667</td>\n",
       "      <td>8.000000</td>\n",
       "      <td>3995.623333</td>\n",
       "      <td>6023.453333</td>\n",
       "      <td>0.517744</td>\n",
       "      <td>0.410253</td>\n",
       "      <td>-403.165828</td>\n",
       "      <td>56.100518</td>\n",
       "      <td>-0.477396</td>\n",
       "      <td>32.444159</td>\n",
       "      <td>2192.705550</td>\n",
       "    </tr>\n",
       "    <tr>\n",
       "      <th>3</th>\n",
       "      <td>0</td>\n",
       "      <td>23</td>\n",
       "      <td>0.458649</td>\n",
       "      <td>0.000184</td>\n",
       "      <td>0.000000</td>\n",
       "      <td>0.541351</td>\n",
       "      <td>6</td>\n",
       "      <td>6</td>\n",
       "      <td>3.666667</td>\n",
       "      <td>2</td>\n",
       "      <td>1.833333</td>\n",
       "      <td>2.333333</td>\n",
       "      <td>0.166667</td>\n",
       "      <td>972.890000</td>\n",
       "      <td>451.390000</td>\n",
       "      <td>5.500000</td>\n",
       "      <td>5449.010000</td>\n",
       "      <td>2358.410000</td>\n",
       "      <td>1.017744</td>\n",
       "      <td>-0.256414</td>\n",
       "      <td>-207.772495</td>\n",
       "      <td>-426.041149</td>\n",
       "      <td>-2.977396</td>\n",
       "      <td>1485.830826</td>\n",
       "      <td>-1472.337783</td>\n",
       "    </tr>\n",
       "    <tr>\n",
       "      <th>4</th>\n",
       "      <td>0</td>\n",
       "      <td>26</td>\n",
       "      <td>0.983726</td>\n",
       "      <td>0.000316</td>\n",
       "      <td>0.000000</td>\n",
       "      <td>0.016274</td>\n",
       "      <td>6</td>\n",
       "      <td>5</td>\n",
       "      <td>4.333333</td>\n",
       "      <td>1</td>\n",
       "      <td>1.000000</td>\n",
       "      <td>0.666667</td>\n",
       "      <td>0.000000</td>\n",
       "      <td>136.135000</td>\n",
       "      <td>145.336667</td>\n",
       "      <td>0.000000</td>\n",
       "      <td>0.000000</td>\n",
       "      <td>0.000000</td>\n",
       "      <td>-0.648923</td>\n",
       "      <td>-0.423081</td>\n",
       "      <td>-1044.527495</td>\n",
       "      <td>-732.094482</td>\n",
       "      <td>-8.477396</td>\n",
       "      <td>-3963.179174</td>\n",
       "      <td>-3830.747783</td>\n",
       "    </tr>\n",
       "  </tbody>\n",
       "</table>\n",
       "</div>"
      ],
      "text/plain": [
       "   RES  就诊次数_SUM  药品在总金额中的占比  个人支付的药品占比  检查总费用在总金额占比  治疗费用在总金额占比  就诊的月数  \\\n",
       "0    0        34    0.939194   0.004262     0.050817    0.007434      6   \n",
       "1    0        15    0.955626   0.002982     0.030815    0.013398      6   \n",
       "2    0        45    0.783610   0.000332     0.000000    0.195087      6   \n",
       "3    0        23    0.458649   0.000184     0.000000    0.541351      6   \n",
       "4    0        26    0.983726   0.000316     0.000000    0.016274      6   \n",
       "\n",
       "   月就诊天数_MAX  月就诊天数_AVG  月就诊医院数_MAX  月就诊医院数_AVG    月就诊天数差   月就诊医院数差  \\\n",
       "0          7   5.666667           3    2.166667  1.333333  0.833333   \n",
       "1          4   2.500000           2    1.333333  1.500000  0.666667   \n",
       "2          8   6.166667           3    2.166667  1.833333  0.833333   \n",
       "3          6   3.666667           2    1.833333  2.333333  0.166667   \n",
       "4          5   4.333333           1    1.000000  0.666667  0.000000   \n",
       "\n",
       "       月统筹金额差       月药品金额差  医院_就诊天数差      医院_统筹金差       医院_药品差  月就诊天数差_调整  \\\n",
       "0  959.886667  1206.158333  8.666667  2470.413333  3131.986667   0.017744   \n",
       "1  580.301667   665.976667  5.500000  4587.995000  4960.180000   0.184411   \n",
       "2  777.496667   933.531667  8.000000  3995.623333  6023.453333   0.517744   \n",
       "3  972.890000   451.390000  5.500000  5449.010000  2358.410000   1.017744   \n",
       "4  136.135000   145.336667  0.000000     0.000000     0.000000  -0.648923   \n",
       "\n",
       "   月就诊医院数差_调整    月统筹金额差_调整   月药品金额差_调整  医院_就诊天数差_调整   医院_统筹金差_调整    医院_药品差_调整  \n",
       "0    0.410253  -220.775828  328.727184     0.189271 -1492.765841  -698.761116  \n",
       "1    0.243586  -600.360828 -211.454482    -2.977396   624.815826  1129.432217  \n",
       "2    0.410253  -403.165828   56.100518    -0.477396    32.444159  2192.705550  \n",
       "3   -0.256414  -207.772495 -426.041149    -2.977396  1485.830826 -1472.337783  \n",
       "4   -0.423081 -1044.527495 -732.094482    -8.477396 -3963.179174 -3830.747783  "
      ]
     },
     "execution_count": 28,
     "metadata": {},
     "output_type": "execute_result"
    }
   ],
   "source": [
    "data = pd.read_csv(\"E:\\竞赛\\服创赛-A08\\data\\\\analyzed_data_3.csv\")\n",
    "data.head()"
   ]
  },
  {
   "cell_type": "code",
   "execution_count": 29,
   "id": "2a417493-2bad-4c51-9bca-ac808ba11eb6",
   "metadata": {},
   "outputs": [],
   "source": [
    "# 分离特征和目标变量\n",
    "X = data.drop('RES', axis=1)\n",
    "y = data['RES']"
   ]
  },
  {
   "cell_type": "code",
   "execution_count": 30,
   "id": "ba022514-9b87-4b88-a78d-fc060bcd3ed4",
   "metadata": {},
   "outputs": [],
   "source": [
    "# 划分数据集\n",
    "X_train, X_test, y_train, y_test = train_test_split(X, y, test_size=0.3, random_state=42)"
   ]
  },
  {
   "cell_type": "code",
   "execution_count": 31,
   "id": "4f754b18-31c4-4843-a926-dc5862cdbffd",
   "metadata": {},
   "outputs": [],
   "source": [
    "# 分离类别\n",
    "data_0 = data[data.RES == 0]\n",
    "data_1 = data[data.RES == 1]"
   ]
  },
  {
   "cell_type": "code",
   "execution_count": 32,
   "id": "87142b36-07e6-4369-ac1f-3e0a92ec271d",
   "metadata": {},
   "outputs": [],
   "source": [
    "# 在计算Minkowski距离时使用5个邻居\n",
    "bor = BorderlineSMOTE(m_neighbors=5,\n",
    "                       kind='borderline-1'  # # 使用Borderline SMOTE变体\n",
    "                       )"
   ]
  },
  {
   "cell_type": "code",
   "execution_count": 7,
   "id": "0e98fd50-e42e-4191-9254-10142431b093",
   "metadata": {},
   "outputs": [],
   "source": [
    "# 设置合成样本的步长\n",
    "svm = SVMSMOTE(out_step=0.5)"
   ]
  },
  {
   "cell_type": "code",
   "execution_count": 8,
   "id": "c17692fd-8553-497e-a4ef-644884c2d1f1",
   "metadata": {},
   "outputs": [],
   "source": [
    "# 创建ADASYN实例\n",
    "adasyn = ADASYN(\n",
    "    sampling_strategy='auto',\n",
    "    n_neighbors=5,\n",
    "    random_state=42)"
   ]
  },
  {
   "cell_type": "code",
   "execution_count": 9,
   "id": "90a8bbbc-16fe-4bd8-9ad3-12262abc11d9",
   "metadata": {},
   "outputs": [],
   "source": [
    "# 应用SMOTE过采样\n",
    "smote = SMOTE(\n",
    "    sampling_strategy=0.5,  # 将少数类样本过采样到多数类样本数的50%\n",
    "    k_neighbors=5, # 使用5个最近邻来构造合成样本\n",
    "    n_jobs=-1,  # 使用所有可用的CPU核心进行并行处理\n",
    "    random_state=42)\n",
    "\n"
   ]
  },
  {
   "cell_type": "code",
   "execution_count": 33,
   "id": "5cb868c5-2aee-432c-b084-e3de24e2d1fc",
   "metadata": {},
   "outputs": [],
   "source": [
    "# 初始化 KMeansSMOTE\n",
    "kmeans_smote = KMeansSMOTE(\n",
    "    k_neighbors=8,\n",
    "    # n_clusters=10,\n",
    "    random_state=42,\n",
    "    sampling_strategy='auto',\n",
    "    cluster_balance_threshold=0.1,\n",
    "    n_jobs=-1,\n",
    "    density_exponent=0.5\n",
    ")"
   ]
  },
  {
   "cell_type": "code",
   "execution_count": 34,
   "id": "12f4cfbd-792b-49d6-88a2-2286527cd43a",
   "metadata": {},
   "outputs": [
    {
     "name": "stderr",
     "output_type": "stream",
     "text": [
      "D:\\Anaconda3\\Lib\\site-packages\\sklearn\\cluster\\_kmeans.py:870: FutureWarning: The default value of `n_init` will change from 3 to 'auto' in 1.4. Set the value of `n_init` explicitly to suppress the warning\n",
      "  warnings.warn(\n",
      "D:\\Anaconda3\\Lib\\site-packages\\sklearn\\cluster\\_kmeans.py:1902: UserWarning: MiniBatchKMeans is known to have a memory leak on Windows with MKL, when there are less chunks than available threads. You can prevent it by setting batch_size >= 5120 or by setting the environment variable OMP_NUM_THREADS=4\n",
      "  warnings.warn(\n"
     ]
    }
   ],
   "source": [
    "X_smote,y_smote = kmeans_smote.fit_resample(X_train,y_train)"
   ]
  },
  {
   "cell_type": "code",
   "execution_count": 35,
   "id": "b570280b-349b-4c86-8416-4cddf60221a8",
   "metadata": {},
   "outputs": [
    {
     "data": {
      "text/plain": [
       "(21291, 24)"
      ]
     },
     "execution_count": 35,
     "metadata": {},
     "output_type": "execute_result"
    }
   ],
   "source": [
    "X_smote.shape"
   ]
  },
  {
   "cell_type": "code",
   "execution_count": 36,
   "id": "aac02d38-750a-4c30-bebe-13c18acffe38",
   "metadata": {},
   "outputs": [],
   "source": [
    "from sklearn.decomposition import PCA\n",
    "\n",
    "# 进行PCA降维\n",
    "pca = PCA(n_components=2)\n",
    "X_pca = pca.fit_transform(X)\n",
    "X_resampled_pca = pca.transform(X_smote)\n",
    "\n",
    "# 提取原始和合成的少数类样本\n",
    "original_minority = X_pca[y == 1]\n",
    "synthetic_minority = X_resampled_pca[y_smote == 1]"
   ]
  },
  {
   "cell_type": "code",
   "execution_count": 37,
   "id": "33351d5c-584c-4c7d-bfc7-7aab9382c2f6",
   "metadata": {},
   "outputs": [
    {
     "data": {
      "image/png": "[encoded data removed]",
      "text/plain": [
       "<Figure size 1200x600 with 2 Axes>"
      ]
     },
     "metadata": {},
     "output_type": "display_data"
    }
   ],
   "source": [
    "# 可视化\n",
    "plt.figure(figsize=(12, 6))\n",
    "\n",
    "plt.subplot(1, 2, 1)\n",
    "plt.scatter(original_minority[:, 0], original_minority[:, 1], label='Original Minority')\n",
    "plt.title('Original Minority Class Distribution')\n",
    "plt.xlabel('PCA Feature 1')\n",
    "plt.ylabel('PCA Feature 2')\n",
    "plt.legend()\n",
    "\n",
    "plt.subplot(1, 2, 2)\n",
    "plt.scatter(synthetic_minority[:, 0], synthetic_minority[:, 1], label='Synthetic Minority')\n",
    "plt.title('Synthetic Minority Class Distribution')\n",
    "plt.xlabel('PCA Feature 1')\n",
    "plt.ylabel('PCA Feature 2')\n",
    "plt.legend()\n",
    "\n",
    "plt.show()"
   ]
  },
  {
   "cell_type": "code",
   "execution_count": 39,
   "id": "d6a50d86-2994-4cf6-bcab-a4e73c043af3",
   "metadata": {},
   "outputs": [
    {
     "data": {
      "text/plain": [
       "(10647, 10644)"
      ]
     },
     "execution_count": 39,
     "metadata": {},
     "output_type": "execute_result"
    }
   ],
   "source": [
    "num1 = sum(y_smote == 1)\n",
    "num2 = sum(y_smote == 0)\n",
    "num1,num2"
   ]
  },
  {
   "cell_type": "code",
   "execution_count": 40,
   "id": "92cf06e0-2458-4f9d-967c-a8a25ff08795",
   "metadata": {},
   "outputs": [
    {
     "name": "stdout",
     "output_type": "stream",
     "text": [
      "分类报告:\n",
      "               precision    recall  f1-score   support\n",
      "\n",
      "           0       0.97      0.98      0.98      4563\n",
      "           1       0.57      0.41      0.47       237\n",
      "\n",
      "    accuracy                           0.96      4800\n",
      "   macro avg       0.77      0.69      0.73      4800\n",
      "weighted avg       0.95      0.96      0.95      4800\n",
      "\n",
      "AUC: 0.8684183271979442\n"
     ]
    }
   ],
   "source": [
    "# 构建随机森林模型\n",
    "rf_model = RandomForestClassifier(\n",
    "    n_estimators=128,\n",
    "    random_state=42)\n",
    "\n",
    "# 训练模型\n",
    "rf_model.fit(X_smote, y_smote)\n",
    "\n",
    "# 在测试集上进行预测\n",
    "y_pred = rf_model.predict(X_test)\n",
    "\n",
    "# 获取分类报告\n",
    "report = classification_report(y_test, y_pred)\n",
    "print(\"分类报告:\\n\", report)\n",
    "\n",
    "# 计算AUC\n",
    "# 注意：roc_auc_score需要预测的概率值，不是类别标签\n",
    "y_pred_proba = rf_model.predict_proba(X_test)[:, 1]\n",
    "auc = roc_auc_score(y_test, y_pred_proba)\n",
    "print(\"AUC:\", auc)"
   ]
  },
  {
   "cell_type": "code",
   "execution_count": 47,
   "id": "717650a9-2e0c-46ca-ba8c-83ba0d0b5099",
   "metadata": {},
   "outputs": [
    {
     "name": "stdout",
     "output_type": "stream",
     "text": [
      "分类报告:\n",
      "               precision    recall  f1-score   support\n",
      "\n",
      "           0       1.00      1.00      1.00     10644\n",
      "           1       1.00      1.00      1.00     10647\n",
      "\n",
      "    accuracy                           1.00     21291\n",
      "   macro avg       1.00      1.00      1.00     21291\n",
      "weighted avg       1.00      1.00      1.00     21291\n",
      "\n",
      "AUC: 1.0\n"
     ]
    }
   ],
   "source": [
    "# 在测试集上进行预测\n",
    "y_pred = rf_model.predict(X_smote)\n",
    "\n",
    "# 获取分类报告\n",
    "report = classification_report(y_smote, y_pred)\n",
    "print(\"分类报告:\\n\", report)\n",
    "\n",
    "# 计算AUC\n",
    "# 注意：roc_auc_score需要预测的概率值，不是类别标签\n",
    "y_pred_proba = rf_model.predict_proba(X_smote)[:, 1]\n",
    "auc = roc_auc_score(y_smote, y_pred_proba)\n",
    "print(\"AUC:\", auc)"
   ]
  },
  {
   "cell_type": "code",
   "execution_count": null,
   "id": "22197586-acbc-4e94-b572-0a2d9d8b9d07",
   "metadata": {},
   "outputs": [],
   "source": []
  }
 ],
 "metadata": {
  "kernelspec": {
   "display_name": "Python 3 (ipykernel)",
   "language": "python",
   "name": "python3"
  },
  "language_info": {
   "codemirror_mode": {
    "name": "ipython",
    "version": 3
   },
   "file_extension": ".py",
   "mimetype": "text/x-python",
   "name": "python",
   "nbconvert_exporter": "python",
   "pygments_lexer": "ipython3",
   "version": "3.11.7"
  }
 },
 "nbformat": 4,
 "nbformat_minor": 5
}
